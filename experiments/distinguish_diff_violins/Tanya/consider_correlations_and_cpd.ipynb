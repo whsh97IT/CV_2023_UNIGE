{
 "cells": [
  {
   "cell_type": "code",
   "execution_count": 53,
   "metadata": {
    "collapsed": true
   },
   "outputs": [],
   "source": [
    "import os\n",
    "from os import listdir\n",
    "import matplotlib.pyplot as plt\n",
    "import pandas as pd\n",
    "import numpy as np\n",
    "import math\n",
    "import sys\n",
    "sys.path.append(\"../../src\")\n",
    "from scipy.fft import fft\n",
    "from FeaturesExtractorFromTSD import create_feature_dict_from_tsd\n",
    "import matplotlib.pyplot as plt\n",
    "import statistics\n",
    "import matplotlib.pyplot as plt\n",
    "from   matplotlib.colors import LogNorm\n",
    "from sklearn.preprocessing import MinMaxScaler\n",
    "import numpy as np\n",
    "from   scipy.stats import norm\n",
    "from   scipy.special import logsumexp\n",
    "from numpy import inf"
   ]
  },
  {
   "cell_type": "code",
   "execution_count": 5,
   "outputs": [],
   "source": [
    "\n",
    "path_tds_angles = '../../results/big_dataset/TSD_angles'\n",
    "folders = [x[0] for x in os.walk(path_tds_angles)]\n",
    "folders.remove(path_tds_angles)"
   ],
   "metadata": {
    "collapsed": false,
    "pycharm": {
     "name": "#%%\n"
    }
   }
  },
  {
   "cell_type": "code",
   "execution_count": 6,
   "outputs": [],
   "source": [
    "def smooth_time_series(time_series, window_size):\n",
    "    smoothed_series = []\n",
    "    for i in range(len(time_series)):\n",
    "        lower_bound = max(0, i - window_size)\n",
    "        upper_bound = min(len(time_series), i + window_size + 1)\n",
    "        window = time_series[lower_bound:upper_bound]\n",
    "        average = sum(window) / len(window)\n",
    "        smoothed_series.append(average)\n",
    "    return smoothed_series"
   ],
   "metadata": {
    "collapsed": false,
    "pycharm": {
     "name": "#%%\n"
    }
   }
  },
  {
   "cell_type": "code",
   "execution_count": 7,
   "outputs": [],
   "source": [
    "paths_to_csv = {}"
   ],
   "metadata": {
    "collapsed": false,
    "pycharm": {
     "name": "#%%\n"
    }
   }
  },
  {
   "cell_type": "code",
   "execution_count": 8,
   "outputs": [],
   "source": [
    "for folder in folders:\n",
    "    video_name = folder.split('\\\\')[-1]\n",
    "    curr_paths_to_csv = [(f[:-4], os.path.join(folder, f)) for f in listdir(folder)]\n",
    "    paths_to_csv[video_name] = curr_paths_to_csv"
   ],
   "metadata": {
    "collapsed": false,
    "pycharm": {
     "name": "#%%\n"
    }
   }
  },
  {
   "cell_type": "code",
   "execution_count": 9,
   "outputs": [],
   "source": [
    "names_of_videos = [v for v in paths_to_csv.keys() ]\n",
    "names_of_videos.sort(key=lambda v: v[::-1])"
   ],
   "metadata": {
    "collapsed": false,
    "pycharm": {
     "name": "#%%\n"
    }
   }
  },
  {
   "cell_type": "code",
   "execution_count": 10,
   "outputs": [
    {
     "data": {
      "text/plain": "['S001C',\n 'S002C',\n 'S007C',\n 'S008C',\n 'S009C',\n 'S002I',\n 'S003I',\n 'S005I',\n 'S007I',\n 'S009I',\n 'S001S',\n 'S002S',\n 'S004S',\n 'S007S',\n 'S009S']"
     },
     "execution_count": 10,
     "metadata": {},
     "output_type": "execute_result"
    }
   ],
   "source": [
    "names_of_videos"
   ],
   "metadata": {
    "collapsed": false,
    "pycharm": {
     "name": "#%%\n"
    }
   }
  },
  {
   "cell_type": "code",
   "execution_count": 11,
   "outputs": [],
   "source": [
    "bow_moving = []\n",
    "titles = []"
   ],
   "metadata": {
    "collapsed": false,
    "pycharm": {
     "name": "#%%\n"
    }
   }
  },
  {
   "cell_type": "code",
   "execution_count": 12,
   "outputs": [
    {
     "name": "stdout",
     "output_type": "stream",
     "text": [
      "../../results/big_dataset/TSD_angles\\S001C\\angl_bow_mov.csv\n",
      "angl_bow_mov\n",
      "S001C\n",
      "../../results/big_dataset/TSD_angles\\S002C\\angl_bow_mov.csv\n",
      "angl_bow_mov\n",
      "S002C\n",
      "../../results/big_dataset/TSD_angles\\S007C\\angl_bow_mov.csv\n",
      "angl_bow_mov\n",
      "S007C\n",
      "../../results/big_dataset/TSD_angles\\S008C\\angl_bow_mov.csv\n",
      "angl_bow_mov\n",
      "S008C\n",
      "../../results/big_dataset/TSD_angles\\S009C\\angl_bow_mov.csv\n",
      "angl_bow_mov\n",
      "S009C\n",
      "../../results/big_dataset/TSD_angles\\S002I\\angl_bow_mov.csv\n",
      "angl_bow_mov\n",
      "S002I\n",
      "../../results/big_dataset/TSD_angles\\S003I\\angl_bow_mov.csv\n",
      "angl_bow_mov\n",
      "S003I\n",
      "../../results/big_dataset/TSD_angles\\S005I\\angl_bow_mov.csv\n",
      "angl_bow_mov\n",
      "S005I\n",
      "../../results/big_dataset/TSD_angles\\S007I\\angl_bow_mov.csv\n",
      "angl_bow_mov\n",
      "S007I\n",
      "../../results/big_dataset/TSD_angles\\S009I\\angl_bow_mov.csv\n",
      "angl_bow_mov\n",
      "S009I\n",
      "../../results/big_dataset/TSD_angles\\S001S\\angl_bow_mov.csv\n",
      "angl_bow_mov\n",
      "S001S\n",
      "../../results/big_dataset/TSD_angles\\S002S\\angl_bow_mov.csv\n",
      "angl_bow_mov\n",
      "S002S\n",
      "../../results/big_dataset/TSD_angles\\S004S\\angl_bow_mov.csv\n",
      "angl_bow_mov\n",
      "S004S\n",
      "../../results/big_dataset/TSD_angles\\S007S\\angl_bow_mov.csv\n",
      "angl_bow_mov\n",
      "S007S\n",
      "../../results/big_dataset/TSD_angles\\S009S\\angl_bow_mov.csv\n",
      "angl_bow_mov\n",
      "S009S\n"
     ]
    }
   ],
   "source": [
    "for i in range(len(names_of_videos)):\n",
    "    curr_metric, curr_path = paths_to_csv[names_of_videos[i]][0]\n",
    "    print(curr_path)\n",
    "    print(curr_metric)\n",
    "    title = curr_path.split('/')[-1].split('\\\\')[1]\n",
    "    titles.append(title)\n",
    "    print(title)\n",
    "    angles = pd.read_csv(curr_path)['angle'].to_list()\n",
    "    bow_moving.append(angles)"
   ],
   "metadata": {
    "collapsed": false,
    "pycharm": {
     "name": "#%%\n"
    }
   }
  },
  {
   "cell_type": "markdown",
   "source": [
    "# Try correlation"
   ],
   "metadata": {
    "collapsed": false
   }
  },
  {
   "cell_type": "code",
   "execution_count": 269,
   "outputs": [
    {
     "data": {
      "text/plain": "<Figure size 1000x400 with 1 Axes>",
      "image/png": "[encoded data removed]"
     },
     "metadata": {},
     "output_type": "display_data"
    }
   ],
   "source": [
    "fig, ax = plt.subplots(figsize=(10, 4))\n",
    "start, end = ax.get_xlim()\n",
    "ax.xaxis.set_ticks(np.arange(0, 6400, 150))\n",
    "ax.xaxis.grid(True)\n",
    "ax.plot(smooth_time_series(bow_moving[2][450:850], 10));"
   ],
   "metadata": {
    "collapsed": false,
    "pycharm": {
     "name": "#%%\n"
    }
   }
  },
  {
   "cell_type": "code",
   "execution_count": 242,
   "outputs": [
    {
     "data": {
      "text/plain": "<Figure size 1000x400 with 1 Axes>",
      "image/png": "[encoded data removed]"
     },
     "metadata": {},
     "output_type": "display_data"
    }
   ],
   "source": [
    "fig, ax = plt.subplots(figsize=(10, 4))\n",
    "start, end = ax.get_xlim()\n",
    "ax.xaxis.set_ticks(np.arange(0, 6400, 150))\n",
    "ax.xaxis.grid(True)\n",
    "ax.plot(smooth_time_series(bow_moving[5][4600:4800], 10));"
   ],
   "metadata": {
    "collapsed": false,
    "pycharm": {
     "name": "#%%\n"
    }
   }
  },
  {
   "cell_type": "code",
   "execution_count": 255,
   "outputs": [
    {
     "data": {
      "text/plain": "<Figure size 1000x400 with 1 Axes>",
      "image/png": "[encoded data removed]"
     },
     "metadata": {},
     "output_type": "display_data"
    }
   ],
   "source": [
    "fig, ax = plt.subplots(figsize=(10, 4))\n",
    "start, end = ax.get_xlim()\n",
    "ax.xaxis.set_ticks(np.arange(0, 6400, 150))\n",
    "ax.xaxis.grid(True)\n",
    "ax.plot(smooth_time_series(bow_moving[8][4750:5150], 10));"
   ],
   "metadata": {
    "collapsed": false,
    "pycharm": {
     "name": "#%%\n"
    }
   }
  },
  {
   "cell_type": "code",
   "execution_count": 270,
   "outputs": [],
   "source": [
    "pattern_correct = bow_moving[2][450:850]\n",
    "pattern_inverted = bow_moving[5][4600:4800]\n",
    "pattern_inverted2 = bow_moving[8][4750:5150]"
   ],
   "metadata": {
    "collapsed": false,
    "pycharm": {
     "name": "#%%\n"
    }
   }
  },
  {
   "cell_type": "code",
   "execution_count": 275,
   "outputs": [],
   "source": [
    "def normalize(data):\n",
    "    data = np.array(smooth_time_series(data, 10))\n",
    "    return (data - data.mean())/data.std()*10\n",
    "\n",
    "def num_correlation_points(data, templates):\n",
    "    correlations = set()\n",
    "    for template in templates:\n",
    "        data = normalize(data)\n",
    "        template  = normalize(template)\n",
    "        corr_res = np.correlate(data, template,mode='valid')\n",
    "        th=20000\n",
    "        #plt.figure(figsize=(40,5))\n",
    "        #plt.subplot(211)\n",
    "        #plt.plot(data)\n",
    "        #plt.subplot(212)\n",
    "        #plt.plot(corr_res)\n",
    "        #print(max(corr_res))\n",
    "        #print(min(corr_res))\n",
    "        #plt.plot(np.arange(len(corr_res))[corr_res > th],corr_res[corr_res > th],'ro')\n",
    "        correlations.update(set(10*np.around(corr_res[corr_res > th]/10)))\n",
    "        #print(len(correlations))\n",
    "        plt.show()\n",
    "    return len(correlations)"
   ],
   "metadata": {
    "collapsed": false,
    "pycharm": {
     "name": "#%%\n"
    }
   }
  },
  {
   "cell_type": "code",
   "execution_count": 271,
   "outputs": [],
   "source": [],
   "metadata": {
    "collapsed": false,
    "pycharm": {
     "name": "#%%\n"
    }
   }
  },
  {
   "cell_type": "code",
   "execution_count": 282,
   "outputs": [
    {
     "name": "stdout",
     "output_type": "stream",
     "text": [
      "S001C\n",
      "Correct\n",
      "------------\n",
      "S002C\n",
      "Correct\n",
      "------------\n",
      "S007C\n",
      "Correct\n",
      "------------\n",
      "S008C\n",
      "Correct\n",
      "------------\n",
      "S009C\n",
      "Correct\n",
      "------------\n",
      "S002I\n",
      "Inverted\n",
      "------------\n",
      "S003I\n",
      "Inverted\n",
      "------------\n",
      "S005I\n",
      "Inverted\n",
      "------------\n",
      "S007I\n",
      "Inverted\n",
      "------------\n",
      "S009I\n",
      "Inverted\n",
      "------------\n",
      "S001S\n",
      "Shuffled\n",
      "------------\n",
      "S002S\n",
      "Shuffled\n",
      "------------\n",
      "S004S\n",
      "Shuffled\n",
      "------------\n",
      "S007S\n",
      "Shuffled\n",
      "------------\n",
      "S009S\n",
      "Shuffled\n",
      "------------\n"
     ]
    }
   ],
   "source": [
    "for i in range(len(bow_moving)):\n",
    "    print(titles[i])\n",
    "    if num_correlation_points(bow_moving[i], [ pattern_correct, ]) > 500:\n",
    "        print('Correct')\n",
    "    elif num_correlation_points(bow_moving[i], [ pattern_inverted2, ]) > 500:\n",
    "        print('Inverted')\n",
    "    else:\n",
    "        print('Shuffled')\n",
    "    print('------------')"
   ],
   "metadata": {
    "collapsed": false,
    "pycharm": {
     "name": "#%%\n"
    }
   }
  },
  {
   "cell_type": "markdown",
   "source": [
    "# Analyse change point detection"
   ],
   "metadata": {
    "collapsed": false
   }
  },
  {
   "cell_type": "code",
   "execution_count": 130,
   "outputs": [],
   "source": [
    "# source: https://github.com/gwgundersen/bocd/tree/master\n",
    "def bocd(data, model, hazard):\n",
    "    \"\"\"Return run length posterior using Algorithm 1 in Adams & MacKay 2007.\n",
    "    \"\"\"\n",
    "    # 1. Initialize lower triangular matrix representing the posterior as\n",
    "    #    function of time. Model parameters are initialized in the model class.\n",
    "    #\n",
    "    #    When we exponentiate R at the end, exp(-inf) --> 0, which is nice for\n",
    "    #    visualization.\n",
    "    #\n",
    "    T           = len(data)\n",
    "    log_R       = -np.inf * np.ones((T+1, T+1))\n",
    "    log_R[0, 0] = 0              # log 0 == 1\n",
    "    pmean       = np.empty(T)    # Model's predictive mean.\n",
    "    pvar        = np.empty(T)    # Model's predictive variance.\n",
    "    log_message = np.array([0])  # log 0 == 1\n",
    "    log_H       = np.log(hazard)\n",
    "    log_1mH     = np.log(1 - hazard)\n",
    "\n",
    "    for t in range(1, T+1):\n",
    "        # 2. Observe new datum.\n",
    "        x = data[t-1]\n",
    "\n",
    "        # Make model predictions.\n",
    "        pmean[t-1] = np.sum(np.exp(log_R[t-1, :t]) * model.mean_params[:t])\n",
    "        pvar[t-1]  = np.sum(np.exp(log_R[t-1, :t]) * model.var_params[:t])\n",
    "\n",
    "        # 3. Evaluate predictive probabilities.\n",
    "        log_pis = model.log_pred_prob(t, x)\n",
    "\n",
    "        # 4. Calculate growth probabilities.\n",
    "        log_growth_probs = log_pis + log_message + log_1mH\n",
    "\n",
    "        # 5. Calculate changepoint probabilities.\n",
    "        log_cp_prob = logsumexp(log_pis + log_message + log_H)\n",
    "\n",
    "        # 6. Calculate evidence\n",
    "        new_log_joint = np.append(log_cp_prob, log_growth_probs)\n",
    "\n",
    "        # 7. Determine run length distribution.\n",
    "        log_R[t, :t+1]  = new_log_joint\n",
    "        log_R[t, :t+1] -= logsumexp(new_log_joint)\n",
    "\n",
    "        # 8. Update sufficient statistics.\n",
    "        model.update_params(t, x)\n",
    "\n",
    "        # Pass message.\n",
    "        log_message = new_log_joint\n",
    "\n",
    "    R = np.exp(log_R)\n",
    "    return R, pmean, pvar\n",
    "\n",
    "\n",
    "# -----------------------------------------------------------------------------\n",
    "\n",
    "\n",
    "class GaussianUnknownMean:\n",
    "\n",
    "    def __init__(self, mean0, var0, varx):\n",
    "        \"\"\"Initialize model.\n",
    "\n",
    "        meanx is unknown; varx is known\n",
    "        p(meanx) = N(mean0, var0)\n",
    "        p(x) = N(meanx, varx)\n",
    "        \"\"\"\n",
    "        self.mean0 = mean0\n",
    "        self.var0  = var0\n",
    "        self.varx  = varx\n",
    "        self.mean_params = np.array([mean0])\n",
    "        self.prec_params = np.array([1/var0])\n",
    "\n",
    "    def log_pred_prob(self, t, x):\n",
    "        \"\"\"Compute predictive probabilities \\pi, i.e. the posterior predictive\n",
    "        for each run length hypothesis.\n",
    "        \"\"\"\n",
    "        # Posterior predictive: see eq. 40 in (Murphy 2007).\n",
    "        post_means = self.mean_params[:t]\n",
    "        post_stds  = np.sqrt(self.var_params[:t])\n",
    "        return norm(post_means, post_stds).logpdf(x)\n",
    "\n",
    "    def update_params(self, t, x):\n",
    "        \"\"\"Upon observing a new datum x at time t, update all run length\n",
    "        hypotheses.\n",
    "        \"\"\"\n",
    "        # See eq. 19 in (Murphy 2007).\n",
    "        new_prec_params  = self.prec_params + (1/self.varx)\n",
    "        self.prec_params = np.append([1/self.var0], new_prec_params)\n",
    "        # See eq. 24 in (Murphy 2007).\n",
    "        new_mean_params  = (self.mean_params * self.prec_params[:-1] + \\\n",
    "                            (x / self.varx)) / new_prec_params\n",
    "        self.mean_params = np.append([self.mean0], new_mean_params)\n",
    "\n",
    "    @property\n",
    "    def var_params(self):\n",
    "        \"\"\"Helper function for computing the posterior variance.\n",
    "        \"\"\"\n",
    "        return 1./self.prec_params + self.varx\n",
    "\n",
    "# -----------------------------------------------------------------------------\n",
    "\n",
    "def generate_data(varx, mean0, var0, T, cp_prob):\n",
    "    \"\"\"Generate partitioned data of T observations according to constant\n",
    "    changepoint probability `cp_prob` with hyperpriors `mean0` and `prec0`.\n",
    "    \"\"\"\n",
    "    data  = []\n",
    "    cps   = []\n",
    "    meanx = mean0\n",
    "    for t in range(0, T):\n",
    "        if np.random.random() < cp_prob:\n",
    "            meanx = np.random.normal(mean0, var0)\n",
    "            cps.append(t)\n",
    "        data.append(np.random.normal(meanx, varx))\n",
    "    return data, cps\n",
    "\n",
    "\n",
    "# -----------------------------------------------------------------------------\n",
    "\n",
    "def plot_posterior(T, data, cps, R, pmean, pvar):\n",
    "    fig, axes = plt.subplots(2, 1, figsize=(20,10))\n",
    "\n",
    "    ax1, ax2 = axes\n",
    "\n",
    "    ax1.scatter(range(0, T), data)\n",
    "    ax1.plot(range(0, T), data)\n",
    "    ax1.set_xlim([0, T])\n",
    "    ax1.margins(0)\n",
    "\n",
    "    # Plot predictions.\n",
    "    ax1.plot(range(0, T), pmean, c='k')\n",
    "    _2std = 2 * np.sqrt(pvar)\n",
    "    ax1.plot(range(0, T), pmean - _2std, c='k', ls='--')\n",
    "    ax1.plot(range(0, T), pmean + _2std, c='k', ls='--')\n",
    "\n",
    "    ax2.imshow(np.rot90(R), aspect='auto', cmap='gray_r',\n",
    "               norm=LogNorm(vmin=0.0001, vmax=1))\n",
    "    ax2.set_xlim([0, T])\n",
    "    ax2.margins(0)\n",
    "\n",
    "    for cp in cps:\n",
    "        ax1.axvline(cp, c='red', ls='dotted')\n",
    "        ax2.axvline(cp, c='red', ls='dotted')\n",
    "\n",
    "    plt.tight_layout()\n",
    "    plt.show()\n",
    "\n",
    "def get_cp_from_R(R):\n",
    "    num_col = len(R[0])\n",
    "    num_row = len(R)\n",
    "    cps = set()\n",
    "    R_prep = abs(np.log(R))\n",
    "    R_prep[R_prep == inf] = 0\n",
    "    for r in range(num_row):\n",
    "        for c in [1,]:\n",
    "        #if R[r][c] >0.1 and R[r+1][c+1]==0:\n",
    "        #   cps.append(r+1)\n",
    "        #for i in range(len(R[2])):\n",
    "            if R_prep[r][c]>0:\n",
    "                cps.add(r)\n",
    "\n",
    "    cps_cleaned = []\n",
    "    for c in cps:\n",
    "        if c-1 not in cps:\n",
    "            cps_cleaned.append(c)\n",
    "    return cps_cleaned\n",
    "\n",
    "def get_cp_from_R(R):\n",
    "    num_col = len(R[0])\n",
    "    num_row = len(R)\n",
    "    cps = set()\n",
    "    R_prep = abs(np.log(R))\n",
    "    R_prep[R_prep == inf] = 0\n",
    "    for r in range(num_row-1):\n",
    "        for c in [20,]:\n",
    "        #for c in range(num_col-1):\n",
    "            #if R_prep[r][c]>600 and R_prep[r+1][c+1]==0:\n",
    "                #cps.add(r+1)\n",
    "        #for i in range(len(R[2])):\n",
    "            if R_prep[r][c]>0:\n",
    "                cps.add(r-20)\n",
    "\n",
    "    cps_cleaned = []\n",
    "    for c in cps:\n",
    "        if c-1 not in cps:\n",
    "            cps_cleaned.append(c)\n",
    "    return cps_cleaned\n",
    "# -----------------------------------------------------------------------------\n",
    "def calculate_num_cp(tsd):\n",
    "\n",
    "    data = bow_moving[0]#[:1000]\n",
    "    cps=[]\n",
    "    T      = len(data)   # Number of observations.\n",
    "    hazard = 1/100  # Constant prior on changepoint probability.\n",
    "    mean0  = 20      # The prior mean on the mean parameter.\n",
    "    var0   = 1  # The prior variance for mean parameter.\n",
    "    varx= 1   # The known variance of the data.\n",
    "\n",
    "    #data, cps      = generate_data(varx, mean0, var0, T, hazard)\n",
    "    scaler = MinMaxScaler(feature_range=(0, 100))\n",
    "\n",
    "    values = smooth_time_series(data, 5)\n",
    "    values = np.array(values).reshape((len(values), 1))\n",
    "    scaler = scaler.fit(values)\n",
    "    data_norm = scaler.transform(values).reshape(len(values)).tolist()\n",
    "    model          = GaussianUnknownMean(mean0, var0, varx)\n",
    "    R, pmean, pvar = bocd(data_norm, model, hazard)\n",
    "    cps = get_cp_from_R(R)\n",
    "    #print(cps)\n",
    "\n",
    "    #plot_posterior(T, data_norm, cps, R, pmean, pvar)\n",
    "\n",
    "    return len(cps)"
   ],
   "metadata": {
    "collapsed": false,
    "pycharm": {
     "name": "#%%\n"
    }
   }
  },
  {
   "cell_type": "code",
   "execution_count": 132,
   "outputs": [
    {
     "name": "stderr",
     "output_type": "stream",
     "text": [
      "c:\\users\\tmozo\\documents\\master\\semester 4\\computational vision\\project\\venv\\lib\\site-packages\\ipykernel_launcher.py:169: RuntimeWarning: divide by zero encountered in log\n"
     ]
    },
    {
     "name": "stdout",
     "output_type": "stream",
     "text": [
      "S001C: 13.28996282527881\n"
     ]
    },
    {
     "name": "stderr",
     "output_type": "stream",
     "text": [
      "c:\\users\\tmozo\\documents\\master\\semester 4\\computational vision\\project\\venv\\lib\\site-packages\\ipykernel_launcher.py:169: RuntimeWarning: divide by zero encountered in log\n"
     ]
    },
    {
     "name": "stdout",
     "output_type": "stream",
     "text": [
      "S002C: 13.368234084322708\n"
     ]
    },
    {
     "name": "stderr",
     "output_type": "stream",
     "text": [
      "c:\\users\\tmozo\\documents\\master\\semester 4\\computational vision\\project\\venv\\lib\\site-packages\\ipykernel_launcher.py:169: RuntimeWarning: divide by zero encountered in log\n"
     ]
    },
    {
     "name": "stdout",
     "output_type": "stream",
     "text": [
      "S007C: 12.875922924545291\n"
     ]
    },
    {
     "name": "stderr",
     "output_type": "stream",
     "text": [
      "c:\\users\\tmozo\\documents\\master\\semester 4\\computational vision\\project\\venv\\lib\\site-packages\\ipykernel_launcher.py:169: RuntimeWarning: divide by zero encountered in log\n"
     ]
    },
    {
     "name": "stdout",
     "output_type": "stream",
     "text": [
      "S008C: 14.445903626628953\n"
     ]
    },
    {
     "name": "stderr",
     "output_type": "stream",
     "text": [
      "c:\\users\\tmozo\\documents\\master\\semester 4\\computational vision\\project\\venv\\lib\\site-packages\\ipykernel_launcher.py:169: RuntimeWarning: divide by zero encountered in log\n"
     ]
    },
    {
     "name": "stdout",
     "output_type": "stream",
     "text": [
      "S009C: 16.141776724235243\n"
     ]
    },
    {
     "name": "stderr",
     "output_type": "stream",
     "text": [
      "c:\\users\\tmozo\\documents\\master\\semester 4\\computational vision\\project\\venv\\lib\\site-packages\\ipykernel_launcher.py:169: RuntimeWarning: divide by zero encountered in log\n"
     ]
    },
    {
     "name": "stdout",
     "output_type": "stream",
     "text": [
      "S002I: 13.647642679900745\n"
     ]
    },
    {
     "name": "stderr",
     "output_type": "stream",
     "text": [
      "c:\\users\\tmozo\\documents\\master\\semester 4\\computational vision\\project\\venv\\lib\\site-packages\\ipykernel_launcher.py:169: RuntimeWarning: divide by zero encountered in log\n"
     ]
    },
    {
     "name": "stdout",
     "output_type": "stream",
     "text": [
      "S003I: 13.159105548909542\n"
     ]
    },
    {
     "name": "stderr",
     "output_type": "stream",
     "text": [
      "c:\\users\\tmozo\\documents\\master\\semester 4\\computational vision\\project\\venv\\lib\\site-packages\\ipykernel_launcher.py:169: RuntimeWarning: divide by zero encountered in log\n"
     ]
    },
    {
     "name": "stdout",
     "output_type": "stream",
     "text": [
      "S005I: 10.787567893783947\n"
     ]
    },
    {
     "name": "stderr",
     "output_type": "stream",
     "text": [
      "c:\\users\\tmozo\\documents\\master\\semester 4\\computational vision\\project\\venv\\lib\\site-packages\\ipykernel_launcher.py:169: RuntimeWarning: divide by zero encountered in log\n"
     ]
    },
    {
     "name": "stdout",
     "output_type": "stream",
     "text": [
      "S007I: 13.852562239659013\n"
     ]
    },
    {
     "ename": "KeyboardInterrupt",
     "evalue": "",
     "output_type": "error",
     "traceback": [
      "\u001B[1;31m---------------------------------------------------------------------------\u001B[0m",
      "\u001B[1;31mKeyboardInterrupt\u001B[0m                         Traceback (most recent call last)",
      "\u001B[1;32m~\\AppData\\Local\\Temp\\ipykernel_4280\\3279864710.py\u001B[0m in \u001B[0;36m<module>\u001B[1;34m\u001B[0m\n\u001B[0;32m      1\u001B[0m \u001B[1;32mfor\u001B[0m \u001B[0mi\u001B[0m \u001B[1;32min\u001B[0m \u001B[0mrange\u001B[0m\u001B[1;33m(\u001B[0m\u001B[0mlen\u001B[0m\u001B[1;33m(\u001B[0m\u001B[0mbow_moving\u001B[0m\u001B[1;33m)\u001B[0m\u001B[1;33m)\u001B[0m\u001B[1;33m:\u001B[0m\u001B[1;33m\u001B[0m\u001B[1;33m\u001B[0m\u001B[0m\n\u001B[0;32m      2\u001B[0m     \u001B[0mtsd_bow\u001B[0m \u001B[1;33m=\u001B[0m \u001B[0mbow_moving\u001B[0m\u001B[1;33m[\u001B[0m\u001B[0mi\u001B[0m\u001B[1;33m]\u001B[0m\u001B[1;33m\u001B[0m\u001B[1;33m\u001B[0m\u001B[0m\n\u001B[1;32m----> 3\u001B[1;33m     \u001B[0mprint\u001B[0m\u001B[1;33m(\u001B[0m\u001B[1;34mf'{titles[i]}: {1000*calculate_num_cp(tsd_bow)/len(tsd_bow)}'\u001B[0m\u001B[1;33m)\u001B[0m\u001B[1;33m\u001B[0m\u001B[1;33m\u001B[0m\u001B[0m\n\u001B[0m",
      "\u001B[1;32m~\\AppData\\Local\\Temp\\ipykernel_4280\\4074407881.py\u001B[0m in \u001B[0;36mcalculate_num_cp\u001B[1;34m(tsd)\u001B[0m\n\u001B[0;32m    202\u001B[0m     \u001B[0mdata_norm\u001B[0m \u001B[1;33m=\u001B[0m \u001B[0mscaler\u001B[0m\u001B[1;33m.\u001B[0m\u001B[0mtransform\u001B[0m\u001B[1;33m(\u001B[0m\u001B[0mvalues\u001B[0m\u001B[1;33m)\u001B[0m\u001B[1;33m.\u001B[0m\u001B[0mreshape\u001B[0m\u001B[1;33m(\u001B[0m\u001B[0mlen\u001B[0m\u001B[1;33m(\u001B[0m\u001B[0mvalues\u001B[0m\u001B[1;33m)\u001B[0m\u001B[1;33m)\u001B[0m\u001B[1;33m.\u001B[0m\u001B[0mtolist\u001B[0m\u001B[1;33m(\u001B[0m\u001B[1;33m)\u001B[0m\u001B[1;33m\u001B[0m\u001B[1;33m\u001B[0m\u001B[0m\n\u001B[0;32m    203\u001B[0m     \u001B[0mmodel\u001B[0m          \u001B[1;33m=\u001B[0m \u001B[0mGaussianUnknownMean\u001B[0m\u001B[1;33m(\u001B[0m\u001B[0mmean0\u001B[0m\u001B[1;33m,\u001B[0m \u001B[0mvar0\u001B[0m\u001B[1;33m,\u001B[0m \u001B[0mvarx\u001B[0m\u001B[1;33m)\u001B[0m\u001B[1;33m\u001B[0m\u001B[1;33m\u001B[0m\u001B[0m\n\u001B[1;32m--> 204\u001B[1;33m     \u001B[0mR\u001B[0m\u001B[1;33m,\u001B[0m \u001B[0mpmean\u001B[0m\u001B[1;33m,\u001B[0m \u001B[0mpvar\u001B[0m \u001B[1;33m=\u001B[0m \u001B[0mbocd\u001B[0m\u001B[1;33m(\u001B[0m\u001B[0mdata_norm\u001B[0m\u001B[1;33m,\u001B[0m \u001B[0mmodel\u001B[0m\u001B[1;33m,\u001B[0m \u001B[0mhazard\u001B[0m\u001B[1;33m)\u001B[0m\u001B[1;33m\u001B[0m\u001B[1;33m\u001B[0m\u001B[0m\n\u001B[0m\u001B[0;32m    205\u001B[0m     \u001B[0mcps\u001B[0m \u001B[1;33m=\u001B[0m \u001B[0mget_cp_from_R\u001B[0m\u001B[1;33m(\u001B[0m\u001B[0mR\u001B[0m\u001B[1;33m)\u001B[0m\u001B[1;33m\u001B[0m\u001B[1;33m\u001B[0m\u001B[0m\n\u001B[0;32m    206\u001B[0m     \u001B[1;31m#print(cps)\u001B[0m\u001B[1;33m\u001B[0m\u001B[1;33m\u001B[0m\u001B[1;33m\u001B[0m\u001B[0m\n",
      "\u001B[1;32m~\\AppData\\Local\\Temp\\ipykernel_4280\\4074407881.py\u001B[0m in \u001B[0;36mbocd\u001B[1;34m(data, model, hazard)\u001B[0m\n\u001B[0;32m     26\u001B[0m \u001B[1;33m\u001B[0m\u001B[0m\n\u001B[0;32m     27\u001B[0m         \u001B[1;31m# 3. Evaluate predictive probabilities.\u001B[0m\u001B[1;33m\u001B[0m\u001B[1;33m\u001B[0m\u001B[1;33m\u001B[0m\u001B[0m\n\u001B[1;32m---> 28\u001B[1;33m         \u001B[0mlog_pis\u001B[0m \u001B[1;33m=\u001B[0m \u001B[0mmodel\u001B[0m\u001B[1;33m.\u001B[0m\u001B[0mlog_pred_prob\u001B[0m\u001B[1;33m(\u001B[0m\u001B[0mt\u001B[0m\u001B[1;33m,\u001B[0m \u001B[0mx\u001B[0m\u001B[1;33m)\u001B[0m\u001B[1;33m\u001B[0m\u001B[1;33m\u001B[0m\u001B[0m\n\u001B[0m\u001B[0;32m     29\u001B[0m \u001B[1;33m\u001B[0m\u001B[0m\n\u001B[0;32m     30\u001B[0m         \u001B[1;31m# 4. Calculate growth probabilities.\u001B[0m\u001B[1;33m\u001B[0m\u001B[1;33m\u001B[0m\u001B[1;33m\u001B[0m\u001B[0m\n",
      "\u001B[1;32m~\\AppData\\Local\\Temp\\ipykernel_4280\\4074407881.py\u001B[0m in \u001B[0;36mlog_pred_prob\u001B[1;34m(self, t, x)\u001B[0m\n\u001B[0;32m     76\u001B[0m         \u001B[0mpost_means\u001B[0m \u001B[1;33m=\u001B[0m \u001B[0mself\u001B[0m\u001B[1;33m.\u001B[0m\u001B[0mmean_params\u001B[0m\u001B[1;33m[\u001B[0m\u001B[1;33m:\u001B[0m\u001B[0mt\u001B[0m\u001B[1;33m]\u001B[0m\u001B[1;33m\u001B[0m\u001B[1;33m\u001B[0m\u001B[0m\n\u001B[0;32m     77\u001B[0m         \u001B[0mpost_stds\u001B[0m  \u001B[1;33m=\u001B[0m \u001B[0mnp\u001B[0m\u001B[1;33m.\u001B[0m\u001B[0msqrt\u001B[0m\u001B[1;33m(\u001B[0m\u001B[0mself\u001B[0m\u001B[1;33m.\u001B[0m\u001B[0mvar_params\u001B[0m\u001B[1;33m[\u001B[0m\u001B[1;33m:\u001B[0m\u001B[0mt\u001B[0m\u001B[1;33m]\u001B[0m\u001B[1;33m)\u001B[0m\u001B[1;33m\u001B[0m\u001B[1;33m\u001B[0m\u001B[0m\n\u001B[1;32m---> 78\u001B[1;33m         \u001B[1;32mreturn\u001B[0m \u001B[0mnorm\u001B[0m\u001B[1;33m(\u001B[0m\u001B[0mpost_means\u001B[0m\u001B[1;33m,\u001B[0m \u001B[0mpost_stds\u001B[0m\u001B[1;33m)\u001B[0m\u001B[1;33m.\u001B[0m\u001B[0mlogpdf\u001B[0m\u001B[1;33m(\u001B[0m\u001B[0mx\u001B[0m\u001B[1;33m)\u001B[0m\u001B[1;33m\u001B[0m\u001B[1;33m\u001B[0m\u001B[0m\n\u001B[0m\u001B[0;32m     79\u001B[0m \u001B[1;33m\u001B[0m\u001B[0m\n\u001B[0;32m     80\u001B[0m     \u001B[1;32mdef\u001B[0m \u001B[0mupdate_params\u001B[0m\u001B[1;33m(\u001B[0m\u001B[0mself\u001B[0m\u001B[1;33m,\u001B[0m \u001B[0mt\u001B[0m\u001B[1;33m,\u001B[0m \u001B[0mx\u001B[0m\u001B[1;33m)\u001B[0m\u001B[1;33m:\u001B[0m\u001B[1;33m\u001B[0m\u001B[1;33m\u001B[0m\u001B[0m\n",
      "\u001B[1;32mc:\\users\\tmozo\\documents\\master\\semester 4\\computational vision\\project\\venv\\lib\\site-packages\\scipy\\stats\\_distn_infrastructure.py\u001B[0m in \u001B[0;36mlogpdf\u001B[1;34m(self, x)\u001B[0m\n\u001B[0;32m    454\u001B[0m \u001B[1;33m\u001B[0m\u001B[0m\n\u001B[0;32m    455\u001B[0m     \u001B[1;32mdef\u001B[0m \u001B[0mlogpdf\u001B[0m\u001B[1;33m(\u001B[0m\u001B[0mself\u001B[0m\u001B[1;33m,\u001B[0m \u001B[0mx\u001B[0m\u001B[1;33m)\u001B[0m\u001B[1;33m:\u001B[0m\u001B[1;33m\u001B[0m\u001B[1;33m\u001B[0m\u001B[0m\n\u001B[1;32m--> 456\u001B[1;33m         \u001B[1;32mreturn\u001B[0m \u001B[0mself\u001B[0m\u001B[1;33m.\u001B[0m\u001B[0mdist\u001B[0m\u001B[1;33m.\u001B[0m\u001B[0mlogpdf\u001B[0m\u001B[1;33m(\u001B[0m\u001B[0mx\u001B[0m\u001B[1;33m,\u001B[0m \u001B[1;33m*\u001B[0m\u001B[0mself\u001B[0m\u001B[1;33m.\u001B[0m\u001B[0margs\u001B[0m\u001B[1;33m,\u001B[0m \u001B[1;33m**\u001B[0m\u001B[0mself\u001B[0m\u001B[1;33m.\u001B[0m\u001B[0mkwds\u001B[0m\u001B[1;33m)\u001B[0m\u001B[1;33m\u001B[0m\u001B[1;33m\u001B[0m\u001B[0m\n\u001B[0m\u001B[0;32m    457\u001B[0m \u001B[1;33m\u001B[0m\u001B[0m\n\u001B[0;32m    458\u001B[0m     \u001B[1;32mdef\u001B[0m \u001B[0mcdf\u001B[0m\u001B[1;33m(\u001B[0m\u001B[0mself\u001B[0m\u001B[1;33m,\u001B[0m \u001B[0mx\u001B[0m\u001B[1;33m)\u001B[0m\u001B[1;33m:\u001B[0m\u001B[1;33m\u001B[0m\u001B[1;33m\u001B[0m\u001B[0m\n",
      "\u001B[1;32mc:\\users\\tmozo\\documents\\master\\semester 4\\computational vision\\project\\venv\\lib\\site-packages\\scipy\\stats\\_distn_infrastructure.py\u001B[0m in \u001B[0;36mlogpdf\u001B[1;34m(self, x, *args, **kwds)\u001B[0m\n\u001B[0;32m   1909\u001B[0m         \u001B[0margs\u001B[0m \u001B[1;33m=\u001B[0m \u001B[0mtuple\u001B[0m\u001B[1;33m(\u001B[0m\u001B[0mmap\u001B[0m\u001B[1;33m(\u001B[0m\u001B[0masarray\u001B[0m\u001B[1;33m,\u001B[0m \u001B[0margs\u001B[0m\u001B[1;33m)\u001B[0m\u001B[1;33m)\u001B[0m\u001B[1;33m\u001B[0m\u001B[1;33m\u001B[0m\u001B[0m\n\u001B[0;32m   1910\u001B[0m         \u001B[0mdtyp\u001B[0m \u001B[1;33m=\u001B[0m \u001B[0mnp\u001B[0m\u001B[1;33m.\u001B[0m\u001B[0mfind_common_type\u001B[0m\u001B[1;33m(\u001B[0m\u001B[1;33m[\u001B[0m\u001B[0mx\u001B[0m\u001B[1;33m.\u001B[0m\u001B[0mdtype\u001B[0m\u001B[1;33m,\u001B[0m \u001B[0mnp\u001B[0m\u001B[1;33m.\u001B[0m\u001B[0mfloat64\u001B[0m\u001B[1;33m]\u001B[0m\u001B[1;33m,\u001B[0m \u001B[1;33m[\u001B[0m\u001B[1;33m]\u001B[0m\u001B[1;33m)\u001B[0m\u001B[1;33m\u001B[0m\u001B[1;33m\u001B[0m\u001B[0m\n\u001B[1;32m-> 1911\u001B[1;33m         \u001B[0mx\u001B[0m \u001B[1;33m=\u001B[0m \u001B[0mnp\u001B[0m\u001B[1;33m.\u001B[0m\u001B[0masarray\u001B[0m\u001B[1;33m(\u001B[0m\u001B[1;33m(\u001B[0m\u001B[0mx\u001B[0m \u001B[1;33m-\u001B[0m \u001B[0mloc\u001B[0m\u001B[1;33m)\u001B[0m\u001B[1;33m/\u001B[0m\u001B[0mscale\u001B[0m\u001B[1;33m,\u001B[0m \u001B[0mdtype\u001B[0m\u001B[1;33m=\u001B[0m\u001B[0mdtyp\u001B[0m\u001B[1;33m)\u001B[0m\u001B[1;33m\u001B[0m\u001B[1;33m\u001B[0m\u001B[0m\n\u001B[0m\u001B[0;32m   1912\u001B[0m         \u001B[0mcond0\u001B[0m \u001B[1;33m=\u001B[0m \u001B[0mself\u001B[0m\u001B[1;33m.\u001B[0m\u001B[0m_argcheck\u001B[0m\u001B[1;33m(\u001B[0m\u001B[1;33m*\u001B[0m\u001B[0margs\u001B[0m\u001B[1;33m)\u001B[0m \u001B[1;33m&\u001B[0m \u001B[1;33m(\u001B[0m\u001B[0mscale\u001B[0m \u001B[1;33m>\u001B[0m \u001B[1;36m0\u001B[0m\u001B[1;33m)\u001B[0m\u001B[1;33m\u001B[0m\u001B[1;33m\u001B[0m\u001B[0m\n\u001B[0;32m   1913\u001B[0m         \u001B[0mcond1\u001B[0m \u001B[1;33m=\u001B[0m \u001B[0mself\u001B[0m\u001B[1;33m.\u001B[0m\u001B[0m_support_mask\u001B[0m\u001B[1;33m(\u001B[0m\u001B[0mx\u001B[0m\u001B[1;33m,\u001B[0m \u001B[1;33m*\u001B[0m\u001B[0margs\u001B[0m\u001B[1;33m)\u001B[0m \u001B[1;33m&\u001B[0m \u001B[1;33m(\u001B[0m\u001B[0mscale\u001B[0m \u001B[1;33m>\u001B[0m \u001B[1;36m0\u001B[0m\u001B[1;33m)\u001B[0m\u001B[1;33m\u001B[0m\u001B[1;33m\u001B[0m\u001B[0m\n",
      "\u001B[1;31mKeyboardInterrupt\u001B[0m: "
     ]
    }
   ],
   "source": [
    "for i in range(len(bow_moving)):\n",
    "    tsd_bow = bow_moving[i]\n",
    "    print(f'{titles[i]}: {1000*calculate_num_cp(tsd_bow)/len(tsd_bow)}')"
   ],
   "metadata": {
    "collapsed": false,
    "pycharm": {
     "name": "#%%\n"
    }
   }
  },
  {
   "cell_type": "code",
   "execution_count": 29,
   "outputs": [
    {
     "name": "stderr",
     "output_type": "stream",
     "text": [
      "c:\\users\\tmozo\\documents\\master\\semester 4\\computational vision\\project\\venv\\lib\\site-packages\\ipykernel_launcher.py:1: RuntimeWarning: divide by zero encountered in log\n",
      "  \"\"\"Entry point for launching an IPython kernel.\n"
     ]
    },
    {
     "data": {
      "text/plain": "array([[0.00000000e+00,            inf,            inf, ...,\n                   inf,            inf,            inf],\n       [4.60517019e+00, 1.00503359e-02,            inf, ...,\n                   inf,            inf,            inf],\n       [4.60517019e+00,            inf, 1.00503359e-02, ...,\n                   inf,            inf,            inf],\n       ...,\n       [4.60517019e+00, 2.64821830e+02, 3.16392529e+02, ...,\n                   inf,            inf,            inf],\n       [4.60517019e+00, 2.61435916e+02, 3.14336549e+02, ...,\n                   inf,            inf,            inf],\n       [4.60517019e+00, 2.37035267e+02, 2.96724459e+02, ...,\n                   inf,            inf,            inf]])"
     },
     "execution_count": 29,
     "metadata": {},
     "output_type": "execute_result"
    }
   ],
   "source": [
    "abs(np.log(R))"
   ],
   "metadata": {
    "collapsed": false,
    "pycharm": {
     "name": "#%%\n"
    }
   }
  },
  {
   "cell_type": "code",
   "execution_count": 24,
   "outputs": [
    {
     "data": {
      "text/plain": "array([0.01, 0.  , 0.  , ..., 0.  , 0.  , 0.  ])"
     },
     "execution_count": 24,
     "metadata": {},
     "output_type": "execute_result"
    }
   ],
   "source": [
    "R[]"
   ],
   "metadata": {
    "collapsed": false,
    "pycharm": {
     "name": "#%%\n"
    }
   }
  },
  {
   "cell_type": "code",
   "execution_count": 82,
   "outputs": [
    {
     "name": "stderr",
     "output_type": "stream",
     "text": [
      "c:\\users\\tmozo\\documents\\master\\semester 4\\computational vision\\project\\venv\\lib\\site-packages\\ipykernel_launcher.py:1: RuntimeWarning: divide by zero encountered in log\n",
      "  \"\"\"Entry point for launching an IPython kernel.\n"
     ]
    },
    {
     "data": {
      "text/plain": "array([[  2.30258509,          inf,          inf, ...,          inf,\n                 inf,          inf],\n       [  2.30258509,          inf,          inf, ...,          inf,\n                 inf,          inf],\n       [  2.30258509,          inf,          inf, ...,          inf,\n                 inf,          inf],\n       ...,\n       [  2.30258509, 400.48182913, 495.20510262, ...,          inf,\n                 inf,          inf],\n       [  2.30258509, 433.13456806, 525.55846033, ...,          inf,\n                 inf,          inf],\n       [  2.30258509, 459.75687582, 550.34990738, ...,          inf,\n                 inf,          inf]])"
     },
     "execution_count": 82,
     "metadata": {},
     "output_type": "execute_result"
    }
   ],
   "source": [
    "abs(np.log(R))[400:450]?"
   ],
   "metadata": {
    "collapsed": false,
    "pycharm": {
     "name": "#%%\n"
    }
   }
  },
  {
   "cell_type": "code",
   "execution_count": 83,
   "outputs": [
    {
     "name": "stderr",
     "output_type": "stream",
     "text": [
      "c:\\users\\tmozo\\documents\\master\\semester 4\\computational vision\\project\\venv\\lib\\site-packages\\ipykernel_launcher.py:1: RuntimeWarning: divide by zero encountered in log\n",
      "  \"\"\"Entry point for launching an IPython kernel.\n"
     ]
    },
    {
     "data": {
      "text/plain": "array([[ 0.        ,         inf,         inf, ...,         inf,\n                inf,         inf],\n       [ 2.30258509,  0.10536052,         inf, ...,         inf,\n                inf,         inf],\n       [ 2.30258509,         inf,  0.10536052, ...,         inf,\n                inf,         inf],\n       ...,\n       [ 2.30258509, 10.4107559 ,  5.85116953, ...,         inf,\n                inf,         inf],\n       [ 2.30258509, 16.67721513, 14.76716448, ...,         inf,\n                inf,         inf],\n       [ 2.30258509, 22.2832791 , 24.17970935, ...,         inf,\n                inf,         inf]])"
     },
     "execution_count": 83,
     "metadata": {},
     "output_type": "execute_result"
    }
   ],
   "source": [
    "abs(np.log(R))"
   ],
   "metadata": {
    "collapsed": false,
    "pycharm": {
     "name": "#%%\n"
    }
   }
  },
  {
   "cell_type": "code",
   "execution_count": 112,
   "outputs": [
    {
     "name": "stderr",
     "output_type": "stream",
     "text": [
      "c:\\users\\tmozo\\documents\\master\\semester 4\\computational vision\\project\\venv\\lib\\site-packages\\ipykernel_launcher.py:1: RuntimeWarning: divide by zero encountered in log\n",
      "  \"\"\"Entry point for launching an IPython kernel.\n"
     ]
    }
   ],
   "source": [
    "R_prep = abs(np.log(R))\n",
    "R_prep[R_prep == inf] = 0"
   ],
   "metadata": {
    "collapsed": false,
    "pycharm": {
     "name": "#%%\n"
    }
   }
  },
  {
   "cell_type": "code",
   "execution_count": 113,
   "outputs": [
    {
     "data": {
      "text/plain": "array([[0.00000000e+00, 0.00000000e+00, 0.00000000e+00, ...,\n        0.00000000e+00, 0.00000000e+00, 0.00000000e+00],\n       [4.60517019e+00, 1.00503359e-02, 0.00000000e+00, ...,\n        0.00000000e+00, 0.00000000e+00, 0.00000000e+00],\n       [4.60517019e+00, 1.09493693e+02, 1.00503359e-02, ...,\n        0.00000000e+00, 0.00000000e+00, 0.00000000e+00],\n       ...,\n       [4.60517019e+00, 9.25563394e+00, 1.11122717e+01, ...,\n        0.00000000e+00, 0.00000000e+00, 0.00000000e+00],\n       [4.60517019e+00, 8.84282480e+00, 1.05907515e+01, ...,\n        0.00000000e+00, 0.00000000e+00, 0.00000000e+00],\n       [4.60517019e+00, 8.51267957e+00, 1.00932180e+01, ...,\n        0.00000000e+00, 0.00000000e+00, 0.00000000e+00]])"
     },
     "execution_count": 113,
     "metadata": {},
     "output_type": "execute_result"
    }
   ],
   "source": [
    "R_prep"
   ],
   "metadata": {
    "collapsed": false,
    "pycharm": {
     "name": "#%%\n"
    }
   }
  },
  {
   "cell_type": "code",
   "execution_count": 71,
   "outputs": [],
   "source": [
    "scaler = MinMaxScaler(feature_range=(0, 1))\n",
    "values = data\n",
    "values = np.array(values).reshape((len(values), 1))\n",
    "scaler = scaler.fit(values)\n",
    "data_norm = scaler.transform(values).reshape(len(values)).tolist()"
   ],
   "metadata": {
    "collapsed": false,
    "pycharm": {
     "name": "#%%\n"
    }
   }
  },
  {
   "cell_type": "code",
   "execution_count": 72,
   "outputs": [
    {
     "data": {
      "text/plain": "[0.9847543536699459,\n 0.9785353571956796,\n 0.9901792211568674,\n 0.9916998817812754,\n 0.9937380067375181,\n 0.9926663979944517,\n 0.9943082260013241,\n 0.9983082404325436,\n 1.0,\n 0.9995632465594191,\n 0.9989535372358753,\n 0.9948213848712746,\n 0.9949250657895641,\n 0.9942939741974548,\n 0.993602402890323,\n 0.991622104144823,\n 0.9925525262262822,\n 0.9933343397379977,\n 0.9937461725300922,\n 0.9941675059802637,\n 0.9935894846273767,\n 0.9922031170520551,\n 0.9895966809443584,\n 0.9869742570205702,\n 0.9813255286663027,\n 0.9766535086994916,\n 0.9766005058885345,\n 0.9749716198485503,\n 0.9743883863405745,\n 0.9740714018256036,\n 0.9729101064890113,\n 0.970279022420435,\n 0.9665093776090503,\n 0.9604326989954357,\n 0.9523306162466445,\n 0.9437606007520387,\n 0.9354110137635592,\n 0.9238121945137272,\n 0.9123191498349077,\n 0.8976016874664854,\n 0.8817754070534658,\n 0.8766867060432979,\n 0.8719019241013912,\n 0.8688487855377645,\n 0.8650303448978771,\n 0.863526420153369,\n 0.8615676502778575,\n 0.8598303326104115,\n 0.8586410562399922,\n 0.8591592617492354,\n 0.8581392374316967,\n 0.8577883302509024,\n 0.8582502044832974,\n 0.8584316203332085,\n 0.8590110833682378,\n 0.8593832394353267,\n 0.8605487417885831,\n 0.8620218965412538,\n 0.8641523272415168,\n 0.8663209421937446,\n 0.8664366640552736,\n 0.8674951134775459,\n 0.8672567518374761,\n 0.8672320274620584,\n 0.8660661445325102,\n 0.8637687293793379,\n 0.8619643754812676,\n 0.8612173785227171,\n 0.8614135344655276,\n 0.860593573234472,\n 0.8605014475127153,\n 0.8594828696580818,\n 0.8586492045635996,\n 0.8577833454891519,\n 0.8583564279475759,\n 0.8601648820639252,\n 0.8613433378137758,\n 0.8623776986166856,\n 0.8633978184876925,\n 0.8639436419326623,\n 0.8643665281393296,\n 0.8644342035807195,\n 0.8646038417701349,\n 0.8656343382225566,\n 0.8667460809642757,\n 0.8677510621068385,\n 0.8691710365515091,\n 0.8724967431579962,\n 0.8749856953558146,\n 0.875169618648197,\n 0.875547232478584,\n 0.8758849846373324,\n 0.8762148140036063,\n 0.8769117148321677,\n 0.8768872915584283,\n 0.8768297757214945,\n 0.8736356736797395,\n 0.8718981168544837,\n 0.8707708358706876,\n 0.8705838316962637,\n 0.8705180882529455,\n 0.8702311335806261,\n 0.8715161173128272,\n 0.8708442112137922,\n 0.8693704171014256,\n 0.869392004338676,\n 0.8692882010032372,\n 0.8696881613319734,\n 0.8697532480724868,\n 0.8702636586378434,\n 0.8704130229014191,\n 0.8703804691235262,\n 0.8698503205872274,\n 0.8680913908929437,\n 0.8666190797020772,\n 0.8641674742984247,\n 0.8634702158508953,\n 0.8634311809282085,\n 0.8627874924844514,\n 0.8633121175781955,\n 0.8627352065040461,\n 0.8620799166261042,\n 0.860745471088675,\n 0.8597483734740496,\n 0.8588548661152255,\n 0.8573423921725973,\n 0.8558120971075673,\n 0.8549189421222982,\n 0.854066883149524,\n 0.8536102185390726,\n 0.8535514107465925,\n 0.8535780179737322,\n 0.8542871656891595,\n 0.8552947400430908,\n 0.8567414417186319,\n 0.8583023755643315,\n 0.8592634109108652,\n 0.8602862789603158,\n 0.8616326380036818,\n 0.8622817691479712,\n 0.8624454750599557,\n 0.8625811038246898,\n 0.8623069452060923,\n 0.8612993379364193,\n 0.8604323795172408,\n 0.8594438139272476,\n 0.858945772137355,\n 0.8587743604058198,\n 0.8586593967340497,\n 0.8584743040002651,\n 0.8601127029970919,\n 0.8610740297622343,\n 0.8625075338382517,\n 0.8643194327668506,\n 0.8663557872929,\n 0.8729770354211044,\n 0.8808207413465765,\n 0.8851167741573764,\n 0.892812223673108,\n 0.8947568669778199,\n 0.8936720907272953,\n 0.8914619492645617,\n 0.8894705154095812,\n 0.8875243036257046,\n 0.8845204561962399,\n 0.8841480770711114,\n 0.8830198842462706,\n 0.8808494882051474,\n 0.8797765741424821,\n 0.8713283304148611,\n 0.8644221557838432,\n 0.8603671290739292,\n 0.8538469814318579,\n 0.848179858518507,\n 0.8436753324423885,\n 0.8421144060269488,\n 0.8413563539832842,\n 0.8414018866094608,\n 0.8442866349329574,\n 0.8438965500310351,\n 0.8386828508503401,\n 0.8343792233090568,\n 0.832320517747374,\n 0.8305610780158743,\n 0.828922922032832,\n 0.8261798898254862,\n 0.8197187520871898,\n 0.8150789474782445,\n 0.8077574927706934,\n 0.8030092594940494,\n 0.8022323631424768,\n 0.8026873311887845,\n 0.8054508252767905,\n 0.8058308092713025,\n 0.809199347158261,\n 0.8120393306211431,\n 0.8145396455331533,\n 0.816447310259097,\n 0.8266762513882218,\n 0.8357031276626599,\n 0.8391931479959103,\n 0.8425639742637681,\n 0.8405791288748039,\n 0.841393268967702,\n 0.8416329324747258,\n 0.8394780348432018,\n 0.8365284410154987,\n 0.8323824457616451,\n 0.8283188886701871,\n 0.819823753019651,\n 0.8183599040609257,\n 0.8139513295421725,\n 0.809261535601977,\n 0.7910169464802503,\n 0.7771519195866567,\n 0.770157642537767,\n 0.7673842090009142,\n 0.7686931566727457,\n 0.7692255870054949,\n 0.7677625271701505,\n 0.7683260079264449,\n 0.7680233196143171,\n 0.766434099799095,\n 0.7658801512926108,\n 0.7732227207021067,\n 0.7738372088117706,\n 0.7809451534074847,\n 0.7819468911868797,\n 0.7849874445392737,\n 0.7889735442663728,\n 0.7887055274890573,\n 0.7894342337218947,\n 0.7911073544807965,\n 0.7926338120004868,\n 0.7976260930086352,\n 0.8025174350372433,\n 0.817197477812867,\n 0.8272584742963609,\n 0.8363484968921744,\n 0.8435851867390829,\n 0.8540601704391091,\n 0.859110784094117,\n 0.8660441648444321,\n 0.8740278199894358,\n 0.8794883473962312,\n 0.8839030824292136,\n 0.8888918618788004,\n 0.8898934898984106,\n 0.8910043483648096,\n 0.8916101815899562,\n 0.8920696414206748,\n 0.8963064878377971,\n 0.8998045963146335,\n 0.9048828423529522,\n 0.9081910037335874,\n 0.9107370813040463,\n 0.9119048140729396,\n 0.9140835725816288,\n 0.9145967983226095,\n 0.9155463737078182,\n 0.9170527305317313,\n 0.9195163520901195,\n 0.9216275903370927,\n 0.9234452675094877,\n 0.9233156856654872,\n 0.9233379473582184,\n 0.9219964324415746,\n 0.921002064114685,\n 0.920538366851152,\n 0.9196977453545137,\n 0.9190255166592736,\n 0.9182332076333433,\n 0.917041929125084,\n 0.9168841181581409,\n 0.9171424249612348,\n 0.9176064252435352,\n 0.9187121105505669,\n 0.9192033331537468,\n 0.9208415686243541,\n 0.9212306765397325,\n 0.9211255772496063,\n 0.920735395840091,\n 0.9224405449898905,\n 0.9223028677866534,\n 0.9227197205656936,\n 0.9227428137107339,\n 0.9230491729867667,\n 0.9228301262261864,\n 0.9233109363032668,\n 0.924438539832549,\n 0.9248796508443937,\n 0.9248330911079163,\n 0.9244643378169937,\n 0.9238379802923953,\n 0.9230901973731758,\n 0.9207927053678697,\n 0.9182317998612619,\n 0.9152577497344059,\n 0.9138589675414099,\n 0.9113936472966881,\n 0.9099874908858656,\n 0.9101608940849502,\n 0.9093656325025199,\n 0.9110271208630476,\n 0.9112351819696625,\n 0.9104952478364077,\n 0.9103281422416205,\n 0.9099897067689644,\n 0.9105967371709389,\n 0.9110265528656041,\n 0.9111045697092994,\n 0.9109173857176236,\n 0.9105344063774843,\n 0.9103812484837883,\n 0.9103828183520355,\n 0.9099291724890193,\n 0.9095216142747795,\n 0.9094829783134837,\n 0.9100042066020853,\n 0.9107374652683431,\n 0.9113531768577137,\n 0.9122894811448725,\n 0.912827732904107,\n 0.9136445208632158,\n 0.9163483330344051,\n 0.9169913003830279,\n 0.9180345360176887,\n 0.9184006891772449,\n 0.9190122444018356,\n 0.9193713429955266,\n 0.9199581762850062,\n 0.9205330633121449,\n 0.9209977535234442,\n 0.9216519737278039,\n 0.9221845712554682,\n 0.9226924900413744,\n 0.9237870982829748,\n 0.9245296003093628,\n 0.9251721245929823,\n 0.9257443157491516,\n 0.9266435380515425,\n 0.9272182555206852,\n 0.9277526193941756,\n 0.9283178653143833,\n 0.9287536716573324,\n 0.9290574514104541,\n 0.9296243629560605,\n 0.9300635159936994,\n 0.9304847184457761,\n 0.9316519986020901,\n 0.9328233479540646,\n 0.9335107708668486,\n 0.9338194969538072,\n 0.9345757769296079,\n 0.934428630276783,\n 0.9344133422201655,\n 0.933318202119626,\n 0.9320437150962926,\n 0.9312524018402248,\n 0.9294663317934584,\n 0.9287091606411655,\n 0.9293829077435387,\n 0.9292900320201027,\n 0.9292668429529531,\n 0.9287021847806689,\n 0.9287436908233972,\n 0.9289111144128459,\n 0.9282819701632228,\n 0.9273866101103332,\n 0.9260428803707432,\n 0.9238069855004374,\n 0.9202175593145012,\n 0.9142154448788324,\n 0.9057495760121865,\n 0.9021274922421723,\n 0.9001811317622683,\n 0.8984517831657761,\n 0.8954990939663727,\n 0.8915030194902016,\n 0.8893516965250561,\n 0.8893252975957815,\n 0.8892565082786101,\n 0.8894554269609223,\n 0.8909826096050715,\n 0.8867689269433403,\n 0.8818862538185215,\n 0.8801894721528436,\n 0.8799336429080964,\n 0.8798199392467296,\n 0.8798142328711303,\n 0.8808021983045828,\n 0.8806162484806312,\n 0.8795066085320862,\n 0.8781928568178026,\n 0.8778163555656238,\n 0.8774857395487139,\n 0.8791971239995877,\n 0.8805635465088406,\n 0.8810229784466768,\n 0.88176742122913,\n 0.8830992693740594,\n 0.8840475239647372,\n 0.8798622053191401,\n 0.8621880055345212,\n 0.8413091416429634,\n 0.8182170019765942,\n 0.7625293424864497,\n 0.7135857207023351,\n 0.6314688283688221,\n 0.5860994696694362,\n 0.5522909310762287,\n 0.5192506777593553,\n 0.5001304730895477,\n 0.49208347962799365,\n 0.48837893752379774,\n 0.48772752783864665,\n 0.4915539068906755,\n 0.4933845561063929,\n 0.49764059592907267,\n 0.5029389545567842,\n 0.5062361032503089,\n 0.5073670266230716,\n 0.5061661960753165,\n 0.4990521551544513,\n 0.4959710186296849,\n 0.4986721069652254,\n 0.5082070608589979,\n 0.5217896247865788,\n 0.5299490739921313,\n 0.5461006306431513,\n 0.5600578310308038,\n 0.5672249351718881,\n 0.5721007869671495,\n 0.5724933650823474,\n 0.5740572138713143,\n 0.5704704772315996,\n 0.5727719037863228,\n 0.573726031088817,\n 0.5776567400662644,\n 0.5678026102055345,\n 0.5652333619087635,\n 0.5694239323734587,\n 0.5736834746595041,\n 0.5751777321792422,\n 0.5793280440618349,\n 0.5928642186223765,\n 0.6160443104115889,\n 0.64151879121437,\n 0.6626777407083053,\n 0.6799423750710203,\n 0.7161632779254377,\n 0.7757287120791234,\n 0.8266008705284005,\n 0.8675489639539349,\n 0.9148040348902211,\n 0.9414048933747206,\n 0.9570728512563242,\n 0.9703729235765528,\n 0.9775301235083467,\n 0.983582968286326,\n 0.9906074193716596,\n 0.9964474334618103,\n 0.9904202648585274,\n 0.9838492851782292,\n 0.9761259654870009,\n 0.9704670242923392,\n 0.9666590598653324,\n 0.9579796369301805,\n 0.9484629520389587,\n 0.9320843611022211,\n 0.9204563374708632,\n 0.9066652597558158,\n 0.8916783046418413,\n 0.8815844184303485,\n 0.8677977648670363,\n 0.8528859636150345,\n 0.8444402595059233,\n 0.8398279136777855,\n 0.832030806784503,\n 0.8253856686659391,\n 0.8190611998966224,\n 0.8093186283452563,\n 0.8012949263965878,\n 0.7867525178101389,\n 0.7725879328508909,\n 0.7665167190948499,\n 0.7620611596938294,\n 0.7575386725445308,\n 0.7524815115210541,\n 0.7493131341912211,\n 0.7448333955751343,\n 0.7429215065636905,\n 0.742460423408621,\n 0.7442294710377917,\n 0.7457091556754718,\n 0.7456915940246898,\n 0.7451467808027088,\n 0.7452615756735874,\n 0.750057656298029,\n 0.7603541843857937,\n 0.768066342371746,\n 0.7765593965886379,\n 0.7815234947182048,\n 0.7822632475499902,\n 0.7818351904359302,\n 0.7809134251130943,\n 0.7796268188307018,\n 0.7787772147495162,\n 0.7781714499253614,\n 0.7768028820254871,\n 0.7756062508992316,\n 0.7746763906783911,\n 0.7737686664724397,\n 0.7736103772902998,\n 0.773842080014123,\n 0.7738628313430647,\n 0.7774414282586408,\n 0.7795386089126171,\n 0.781951264263752,\n 0.7840127499714196,\n 0.783673439621901,\n 0.7831726323265498,\n 0.784577247341335,\n 0.7868776742515218,\n 0.7879925885138195,\n 0.7890997035049296,\n 0.7912222550923569,\n 0.7929069316002944,\n 0.7969067585432577,\n 0.8042915965961139,\n 0.8073914033526013,\n 0.8071968034196633,\n 0.8058568537576405,\n 0.8044910373600918,\n 0.801413266404263,\n 0.7935234716500494,\n 0.7898871380357149,\n 0.7898266337437612,\n 0.7937167140981967,\n 0.7940214408406905,\n 0.7902593778513862,\n 0.7783754328452277,\n 0.7767526739692048,\n 0.7728595989059672,\n 0.7621606866147703,\n 0.7428413067431385,\n 0.7191826390782929,\n 0.6938153041614492,\n 0.6873834304057689,\n 0.6847488200449661,\n 0.6830743320962518,\n 0.6797771041176583,\n 0.6789365622159536,\n 0.6781435643046427,\n 0.6790072098136184,\n 0.6788164781099706,\n 0.6776829917736888,\n 0.664701466359974,\n 0.6672700694947853,\n 0.6737170674446022,\n 0.6678553461484265,\n 0.6528793270250843,\n 0.6380874636103591,\n 0.6144132686063697,\n 0.5806826999116985,\n 0.5600315577778354,\n 0.5495802597552724,\n 0.5314937237639903,\n 0.5028026133691879,\n 0.4684857209170718,\n 0.41632469370842246,\n 0.3713799500872412,\n 0.3241573700941119,\n 0.2844334104270942,\n 0.28488345145815636,\n 0.29145695345324724,\n 0.30468356052140005,\n 0.3131516578050408,\n 0.3178516238621419,\n 0.323319041882367,\n 0.32177340559584117,\n 0.3161843956289086,\n 0.3120648260775459,\n 0.29072565800668354,\n 0.2854594615590726,\n 0.2898388020776414,\n 0.33634708741294367,\n 0.36184678230039663,\n 0.37142129897646575,\n 0.36249496522411156,\n 0.351926094493702,\n 0.34680889351276406,\n 0.3505749462608832,\n 0.33537175189464313,\n 0.29718184209655446,\n 0.2532601249413065,\n 0.1896979448227239,\n 0.14519565219867558,\n 0.11089253882043748,\n 0.09185844805296772,\n 0.12213321868890276,\n 0.13192165493697128,\n 0.13676188729863825,\n 0.14404339068198901,\n 0.1468867757918298,\n 0.145049784117181,\n 0.14903642848763365,\n 0.14212176188654135,\n 0.12059613417322329,\n 0.1254747833560954,\n 0.15595493921014897,\n 0.18338425072374814,\n 0.22279731651035922,\n 0.2354161551688348,\n 0.2275740325088203,\n 0.22110330598578914,\n 0.21418201962106348,\n 0.20748138267675148,\n 0.197929317698822,\n 0.1959462598450769,\n 0.18561492228537463,\n 0.1481549766227695,\n 0.07307735029397139,\n 0.022858171593680365,\n 0.0,\n 0.0026847527198045062,\n 0.04113298536459614,\n 0.06645927589619094,\n 0.08393016956735283,\n 0.10245589453071574,\n 0.11042325504544642,\n 0.11779725196466267,\n 0.12142479772833786,\n 0.11686196062674697,\n 0.09994821653687425,\n 0.10829401347229678,\n 0.14928076670980028,\n 0.1980786428128432,\n 0.24850886762174856,\n 0.2766980950793671,\n 0.2827362446312363,\n 0.28323221635118706,\n 0.28069826986341967,\n 0.2809443027089232,\n 0.2786227111486704,\n 0.2681671643342824,\n 0.25776944820133835,\n 0.20796190666841036,\n 0.14402260116773125,\n 0.10973014227517375,\n 0.12181535008487826,\n 0.14709787379102918,\n 0.17071227718841042,\n 0.18600085842638442,\n 0.19964351674287,\n 0.2205736212715647,\n 0.25240875399015167,\n 0.272954346359152,\n 0.2809120148008048,\n 0.28370522960474814,\n 0.26964672214553537,\n 0.2700141403245427,\n 0.28731879533735266,\n 0.3653130955085004,\n 0.4260329304407849,\n 0.4558249548060928,\n 0.4758691465547455,\n 0.4849055659016444,\n 0.48414544312441093,\n 0.4775243473397666,\n 0.47118753995019474,\n 0.46472277117127675,\n 0.450200061106329,\n 0.4465686930255844,\n 0.4079950561431939,\n 0.35791004472137583,\n 0.34402508536452886,\n 0.3584651762702035,\n 0.3741668542072197,\n 0.41771698673735475,\n 0.4554944737777889,\n 0.48606833710782454,\n 0.5104720753782028,\n 0.5269204610831326,\n 0.5480198730803238,\n 0.5643927366657491,\n 0.5898778303748262,\n 0.5952822747129762,\n 0.6020456394394311,\n 0.6441346370555165,\n 0.6791599591309672,\n 0.7019192766038274,\n 0.7134132381903557,\n 0.7253933746328078,\n 0.7294572851571992,\n 0.735961481372539,\n 0.7418585283832422,\n 0.7437042034982839,\n 0.7398495770497764,\n 0.7336207466968574,\n 0.7301982803141782,\n 0.6725048773230793,\n 0.6187283800490777,\n 0.5724132812224125,\n 0.5607332604705257,\n 0.5314121217222474,\n 0.5073310798684441,\n 0.4676065233289845,\n 0.42589997629885396,\n 0.4084424474423954,\n 0.3726811202180729,\n 0.329181232272798,\n 0.28987506651844114,\n 0.24928824132764743,\n 0.2219400362765182,\n 0.20457196282286833,\n 0.19040578034275607,\n 0.17391368084965658,\n 0.15498357596883705,\n 0.12615047606770174,\n 0.08670421505577308,\n 0.07293582336660648,\n 0.06695528528697653,\n 0.0715864435623188,\n 0.07270810577279568,\n 0.07422183146958089,\n 0.07478651794415969,\n 0.07429865752499692,\n 0.07221205925535962,\n 0.07084778097560873,\n 0.0673695676860398,\n 0.06547823086029747,\n 0.06262033787497356,\n 0.059911320379207045,\n 0.0589282299070662,\n 0.0580187990538264,\n 0.057979598018181144,\n 0.05788920303888234,\n 0.05715287681506853,\n 0.05537509367729587,\n 0.053702225897605094,\n 0.05128112058702089,\n 0.04837957191364323,\n 0.04647395684318911,\n 0.046053576767661086,\n 0.04543555029281432,\n 0.04473072690813401,\n 0.04411607251986882,\n 0.043591488351033214,\n 0.043284095407306544,\n 0.042968864877864166,\n 0.04194737677480076,\n 0.04126202364823606,\n 0.040916907998788,\n 0.040149680479232674,\n 0.03944022870817554,\n 0.03841702467476543,\n 0.038117152045812286,\n 0.03882739285107489,\n 0.03934610779802039,\n 0.039990340460004326,\n 0.040650356903112306,\n 0.04114490938748688,\n 0.041366623431196736,\n 0.04108788112396505,\n 0.041266702269500855,\n 0.04189266232178518,\n 0.04272604276404357,\n 0.04294022695570088,\n 0.043208074241865235,\n 0.043534128045016385,\n 0.04399467778320987,\n 0.04367745714212384,\n 0.043687566078283446,\n 0.04314895990120987,\n 0.04276615864320121,\n 0.04181006696458067,\n 0.04131469443777602,\n 0.04139745552381935,\n 0.04157411942118394,\n 0.0424072787935339,\n 0.043012007885579406,\n 0.04365775141688205,\n 0.0443218334739105,\n 0.04477901467915241,\n 0.04565404651768873,\n 0.046066659206801086,\n 0.046631600971525966,\n 0.04668811328891537,\n 0.047982755592604676,\n 0.04948573323609651,\n 0.050080655970059285,\n 0.05240037205243814,\n 0.05269637029556712,\n 0.05324930817800777,\n 0.05332480377709109,\n 0.05378907907973396,\n 0.05657204420782935,\n 0.0595150084794428,\n 0.06487513801018924,\n 0.07577757354552739,\n 0.09205357767132083,\n 0.11221666495832844,\n 0.12702030133246467,\n 0.14495375623937656,\n 0.15606548309943818,\n 0.16338644553868426,\n 0.17149878411217273,\n 0.18114940991176182,\n 0.19856895517571133,\n 0.21293059264680386,\n 0.2230677468593854,\n 0.2247474239879173,\n 0.22572507100017475,\n 0.22570536149221992,\n 0.22277835051861844,\n 0.21924528821325634,\n 0.2158889426807426,\n 0.2049545040509409,\n 0.18755183504427037,\n 0.17265620261256676,\n 0.1626717846222281,\n 0.15185459969332943,\n 0.14852360467537512,\n 0.14023445885587388,\n 0.13449215625855498,\n 0.1315211381770383,\n 0.13148522477550245,\n 0.13052055964957848,\n 0.1297988904319894,\n 0.12937548562897216,\n 0.1296186611876357,\n 0.13067593064960964,\n 0.13118062794571805,\n 0.13289157922771344,\n 0.14430931217681942,\n 0.15548233093772124,\n 0.1674555949150301,\n 0.19001326881894326,\n 0.22078429153818208,\n 0.25979259590877984,\n 0.29321184183975174,\n 0.3362491549862771,\n 0.386932666304388,\n 0.4337388447367693,\n 0.47014872729462515,\n 0.5131225958517902,\n 0.5588553446642497,\n 0.6013341236444825,\n 0.6401341269546239,\n 0.6708426625102655,\n 0.702025714765194,\n 0.7143155752142234,\n 0.7321855805951545,\n 0.7413193554206807,\n 0.7630415136826136,\n 0.7793621045536663,\n 0.790695003766515,\n 0.8059748535228661,\n 0.8115614516160135,\n 0.8208816121542768,\n 0.8322740528598014,\n 0.8415364725959043,\n 0.8409457002472911,\n 0.8336187283124343,\n 0.8226812056331272,\n 0.8170993249593399,\n 0.8169735078012166,\n 0.8139774842064957,\n 0.8112192839881995,\n 0.8090327223580704,\n 0.8118737057588428,\n 0.8047415406308203,\n 0.7947924934871142,\n 0.7820191418974707,\n 0.7681837635993665,\n 0.7595716521736364,\n 0.7559277338513337,\n 0.7504661719906558,\n 0.7452364920326735,\n 0.7414730415092008,\n 0.7408575555998844,\n 0.7426192442665973,\n 0.7452902692684917,\n 0.7458552764195403,\n 0.7476475557032825,\n 0.7473879092149334,\n 0.7451696049081808,\n 0.7392041869220998,\n 0.737321647286779,\n 0.7404209012162786,\n 0.7413643005222792,\n 0.7447474894744248,\n 0.7454889832950105,\n 0.7456900568700793,\n 0.748087577728783,\n 0.752366554382387,\n 0.7559256233007396,\n 0.7532517994691985,\n 0.7551389861187066,\n 0.7622899692583827,\n 0.7676354915518855,\n 0.7771443893326577,\n 0.7838044253387539,\n 0.7863025853523691,\n 0.790229957712566,\n 0.8003726001159681,\n 0.7916165681508756,\n 0.7828872359077184,\n 0.7586623653752955,\n 0.7416878008527159,\n 0.7202055443643294,\n 0.7013219083226523,\n 0.6812774131897859,\n 0.6755563510552645,\n 0.6737432849648566,\n 0.6753707880195432,\n 0.6765722293813345,\n 0.6773520458607762,\n 0.6785372267896204,\n 0.6799279607721878,\n 0.6818280697239518,\n 0.6893313491873452,\n 0.6950218493986366,\n 0.6868336042943435,\n 0.6855350618444049,\n 0.6740398881864691,\n 0.6586244317897474,\n 0.6381941791773278,\n 0.6063093025531179,\n 0.5821731920168443,\n 0.5644128064162242,\n 0.5470887286598356,\n 0.5228471475490213,\n 0.49545480789737945,\n 0.4465457525350885,\n 0.36760170791046437,\n 0.32436034831242905,\n 0.2924590266566465,\n 0.27273262763130574,\n 0.28171098070318884,\n 0.29430750433666836,\n 0.297961894278401,\n 0.2990650637592455,\n 0.29552159816127027,\n 0.29770581667906065,\n 0.2968775915445951,\n 0.29884098762792816,\n 0.2840953659007908,\n 0.26156073422566767,\n 0.2660015996662252,\n 0.30415081461422694,\n 0.34486127180193865,\n 0.35847581383928545,\n 0.35397135500424376,\n 0.3438726904659642,\n 0.3351741081600305,\n 0.3295378759618747,\n 0.3271906207768182,\n 0.3196539346430996,\n 0.28899721032904163,\n 0.23939634221013745,\n 0.1777814109677039,\n 0.13673347195425595,\n 0.10335392685992284,\n 0.11756426774931972,\n 0.13066354086114979,\n 0.14228918898142734,\n 0.147346879600661,\n 0.14649303409929276,\n 0.1462210407749608,\n 0.14809347070122908,\n 0.1464071325428712,\n 0.1385159458412924,\n 0.12204796147031705,\n 0.12995426102702662,\n 0.15056797059389398,\n 0.21187104412704022,\n 0.23543697032102046,\n 0.24015998235077668,\n 0.234630239503322,\n 0.22256979139075744,\n 0.21691723050856798,\n 0.2104142250197492,\n 0.20838824105213255,\n 0.20570042941478467,\n 0.18783510294685363,\n 0.15106733515379578,\n 0.06896313572335827,\n 0.01931309234408507,\n 0.011538356845358144,\n 0.04116619067673716,\n 0.06000173713918122,\n 0.08170771681462824,\n 0.10545441632692232,\n 0.1170347275799703,\n 0.12428934995602192,\n 0.12432295586518444,\n 0.12166500867667329,\n 0.10339566560515995]"
     },
     "execution_count": 72,
     "metadata": {},
     "output_type": "execute_result"
    }
   ],
   "source": [
    "data_norm"
   ],
   "metadata": {
    "collapsed": false,
    "pycharm": {
     "name": "#%%\n"
    }
   }
  },
  {
   "cell_type": "code",
   "execution_count": null,
   "outputs": [],
   "source": [],
   "metadata": {
    "collapsed": false,
    "pycharm": {
     "name": "#%%\n"
    }
   }
  }
 ],
 "metadata": {
  "kernelspec": {
   "display_name": "Python 3",
   "language": "python",
   "name": "python3"
  },
  "language_info": {
   "codemirror_mode": {
    "name": "ipython",
    "version": 2
   },
   "file_extension": ".py",
   "mimetype": "text/x-python",
   "name": "python",
   "nbconvert_exporter": "python",
   "pygments_lexer": "ipython2",
   "version": "2.7.6"
  }
 },
 "nbformat": 4,
 "nbformat_minor": 0
}