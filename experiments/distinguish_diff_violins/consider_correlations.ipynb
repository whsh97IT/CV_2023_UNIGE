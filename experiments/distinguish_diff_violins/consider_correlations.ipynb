{
 "cells": [
  {
   "cell_type": "code",
   "execution_count": 41,
   "metadata": {
    "collapsed": true
   },
   "outputs": [],
   "source": [
    "import os\n",
    "from os import listdir\n",
    "import matplotlib.pyplot as plt\n",
    "import pandas as pd\n",
    "import numpy as np\n",
    "import math\n",
    "import sys\n",
    "sys.path.append(\"../../../src\")\n",
    "from scipy.fft import fft\n",
    "from FeaturesExtractorFromTSD import create_feature_dict_from_tsd\n",
    "import matplotlib.pyplot as plt\n",
    "import statistics\n",
    "import matplotlib.pyplot as plt\n",
    "from   matplotlib.colors import LogNorm\n",
    "from sklearn.preprocessing import MinMaxScaler\n",
    "import numpy as np\n",
    "from   scipy.stats import norm\n",
    "from   scipy.special import logsumexp\n",
    "from numpy import inf"
   ]
  },
  {
   "cell_type": "code",
   "execution_count": 27,
   "outputs": [],
   "source": [
    "path_tds_angles = '../../../results/big_dataset/TSD_angles'\n",
    "folders = [x[0] for x in os.walk(path_tds_angles)]\n",
    "folders.remove(path_tds_angles)"
   ],
   "metadata": {
    "collapsed": false,
    "pycharm": {
     "name": "#%%\n"
    }
   }
  },
  {
   "cell_type": "code",
   "execution_count": 28,
   "outputs": [],
   "source": [
    "def smooth_time_series(time_series, window_size):\n",
    "    smoothed_series = []\n",
    "    for i in range(len(time_series)):\n",
    "        lower_bound = max(0, i - window_size)\n",
    "        upper_bound = min(len(time_series), i + window_size + 1)\n",
    "        window = time_series[lower_bound:upper_bound]\n",
    "        average = sum(window) / len(window)\n",
    "        smoothed_series.append(average)\n",
    "    return smoothed_series"
   ],
   "metadata": {
    "collapsed": false,
    "pycharm": {
     "name": "#%%\n"
    }
   }
  },
  {
   "cell_type": "code",
   "execution_count": 29,
   "outputs": [],
   "source": [
    "paths_to_csv = {}"
   ],
   "metadata": {
    "collapsed": false,
    "pycharm": {
     "name": "#%%\n"
    }
   }
  },
  {
   "cell_type": "code",
   "execution_count": 30,
   "outputs": [],
   "source": [
    "for folder in folders:\n",
    "    video_name = folder.split('\\\\')[-1]\n",
    "    curr_paths_to_csv = [(f[:-4], os.path.join(folder, f)) for f in listdir(folder)]\n",
    "    paths_to_csv[video_name] = curr_paths_to_csv"
   ],
   "metadata": {
    "collapsed": false,
    "pycharm": {
     "name": "#%%\n"
    }
   }
  },
  {
   "cell_type": "code",
   "execution_count": 31,
   "outputs": [],
   "source": [
    "names_of_videos = [v for v in paths_to_csv.keys() ]\n",
    "names_of_videos.sort(key=lambda v: v[::-1])"
   ],
   "metadata": {
    "collapsed": false,
    "pycharm": {
     "name": "#%%\n"
    }
   }
  },
  {
   "cell_type": "code",
   "execution_count": 32,
   "outputs": [
    {
     "data": {
      "text/plain": "['S001C',\n 'S002C',\n 'S007C',\n 'S008C',\n 'S009C',\n 'S002I',\n 'S003I',\n 'S005I',\n 'S007I',\n 'S009I',\n 'S001S',\n 'S002S',\n 'S004S',\n 'S007S',\n 'S009S']"
     },
     "execution_count": 32,
     "metadata": {},
     "output_type": "execute_result"
    }
   ],
   "source": [
    "names_of_videos"
   ],
   "metadata": {
    "collapsed": false,
    "pycharm": {
     "name": "#%%\n"
    }
   }
  },
  {
   "cell_type": "code",
   "execution_count": 33,
   "outputs": [],
   "source": [
    "bow_moving = []\n",
    "titles = []"
   ],
   "metadata": {
    "collapsed": false,
    "pycharm": {
     "name": "#%%\n"
    }
   }
  },
  {
   "cell_type": "code",
   "execution_count": 34,
   "outputs": [
    {
     "name": "stdout",
     "output_type": "stream",
     "text": [
      "../../../results/big_dataset/TSD_angles\\S001C\\angl_bow_mov.csv\n",
      "angl_bow_mov\n",
      "S001C\n",
      "../../../results/big_dataset/TSD_angles\\S002C\\angl_bow_mov.csv\n",
      "angl_bow_mov\n",
      "S002C\n",
      "../../../results/big_dataset/TSD_angles\\S007C\\angl_bow_mov.csv\n",
      "angl_bow_mov\n",
      "S007C\n",
      "../../../results/big_dataset/TSD_angles\\S008C\\angl_bow_mov.csv\n",
      "angl_bow_mov\n",
      "S008C\n",
      "../../../results/big_dataset/TSD_angles\\S009C\\angl_bow_mov.csv\n",
      "angl_bow_mov\n",
      "S009C\n",
      "../../../results/big_dataset/TSD_angles\\S002I\\angl_bow_mov.csv\n",
      "angl_bow_mov\n",
      "S002I\n",
      "../../../results/big_dataset/TSD_angles\\S003I\\angl_bow_mov.csv\n",
      "angl_bow_mov\n",
      "S003I\n",
      "../../../results/big_dataset/TSD_angles\\S005I\\angl_bow_mov.csv\n",
      "angl_bow_mov\n",
      "S005I\n",
      "../../../results/big_dataset/TSD_angles\\S007I\\angl_bow_mov.csv\n",
      "angl_bow_mov\n",
      "S007I\n",
      "../../../results/big_dataset/TSD_angles\\S009I\\angl_bow_mov.csv\n",
      "angl_bow_mov\n",
      "S009I\n",
      "../../../results/big_dataset/TSD_angles\\S001S\\angl_bow_mov.csv\n",
      "angl_bow_mov\n",
      "S001S\n",
      "../../../results/big_dataset/TSD_angles\\S002S\\angl_bow_mov.csv\n",
      "angl_bow_mov\n",
      "S002S\n",
      "../../../results/big_dataset/TSD_angles\\S004S\\angl_bow_mov.csv\n",
      "angl_bow_mov\n",
      "S004S\n",
      "../../../results/big_dataset/TSD_angles\\S007S\\angl_bow_mov.csv\n",
      "angl_bow_mov\n",
      "S007S\n",
      "../../../results/big_dataset/TSD_angles\\S009S\\angl_bow_mov.csv\n",
      "angl_bow_mov\n",
      "S009S\n"
     ]
    }
   ],
   "source": [
    "for i in range(len(names_of_videos)):\n",
    "    curr_metric, curr_path = paths_to_csv[names_of_videos[i]][0]\n",
    "    print(curr_path)\n",
    "    print(curr_metric)\n",
    "    title = curr_path.split('/')[-1].split('\\\\')[1]\n",
    "    titles.append(title)\n",
    "    print(title)\n",
    "    angles = pd.read_csv(curr_path)['angle'].to_list()\n",
    "    bow_moving.append(angles)"
   ],
   "metadata": {
    "collapsed": false,
    "pycharm": {
     "name": "#%%\n"
    }
   }
  },
  {
   "cell_type": "markdown",
   "source": [
    "# Try correlation"
   ],
   "metadata": {
    "collapsed": false
   }
  },
  {
   "cell_type": "code",
   "execution_count": 39,
   "outputs": [
    {
     "data": {
      "text/plain": "<Figure size 1000x400 with 1 Axes>",
      "image/png": "[encoded data removed]"
     },
     "metadata": {},
     "output_type": "display_data"
    }
   ],
   "source": [
    "fig, ax = plt.subplots(figsize=(10, 4))\n",
    "start, end = ax.get_xlim()\n",
    "ax.xaxis.set_ticks(np.arange(0, 6400, 150))\n",
    "ax.xaxis.grid(True)\n",
    "ax.set_title('Pattern - correct strings')\n",
    "ax.plot(smooth_time_series(bow_moving[2][450:850], 10));\n",
    "plt.tight_layout()\n",
    "plt.savefig(\"pattern_correct_str.png\")"
   ],
   "metadata": {
    "collapsed": false,
    "pycharm": {
     "name": "#%%\n"
    }
   }
  },
  {
   "cell_type": "code",
   "execution_count": 40,
   "outputs": [
    {
     "data": {
      "text/plain": "<Figure size 1000x400 with 1 Axes>",
      "image/png": "[encoded data removed]"
     },
     "metadata": {},
     "output_type": "display_data"
    }
   ],
   "source": [
    "fig, ax = plt.subplots(figsize=(10, 4))\n",
    "start, end = ax.get_xlim()\n",
    "ax.xaxis.set_ticks(np.arange(0, 6400, 150))\n",
    "ax.xaxis.grid(True)\n",
    "ax.set_title('Pattern - inverted strings')\n",
    "ax.plot(smooth_time_series(bow_moving[8][4750:5150], 10));\n",
    "plt.tight_layout()\n",
    "plt.savefig(\"pattern_inverted_str.png\")"
   ],
   "metadata": {
    "collapsed": false,
    "pycharm": {
     "name": "#%%\n"
    }
   }
  },
  {
   "cell_type": "code",
   "execution_count": 37,
   "outputs": [],
   "source": [
    "pattern_correct = bow_moving[2][450:850]\n",
    "#pattern_inverted = bow_moving[5][4600:4800]\n",
    "pattern_inverted = bow_moving[8][4750:5150]"
   ],
   "metadata": {
    "collapsed": false,
    "pycharm": {
     "name": "#%%\n"
    }
   }
  },
  {
   "cell_type": "code",
   "execution_count": 38,
   "outputs": [],
   "source": [
    "def normalize(data):\n",
    "    data = np.array(smooth_time_series(data, 10))\n",
    "    return (data - data.mean())/data.std()*10\n",
    "\n",
    "def num_correlation_points(data, templates):\n",
    "    correlations = set()\n",
    "    for template in templates:\n",
    "        data = normalize(data)\n",
    "        template  = normalize(template)\n",
    "        corr_res = np.correlate(data, template,mode='valid')\n",
    "        th=20000\n",
    "        #plt.figure(figsize=(40,5))\n",
    "        #plt.subplot(211)\n",
    "        #plt.plot(data)\n",
    "        #plt.subplot(212)\n",
    "        #plt.plot(corr_res)\n",
    "        #print(max(corr_res))\n",
    "        #print(min(corr_res))\n",
    "        #plt.plot(np.arange(len(corr_res))[corr_res > th],corr_res[corr_res > th],'ro')\n",
    "        correlations.update(set(10*np.around(corr_res[corr_res > th]/10)))\n",
    "        #print(len(correlations))\n",
    "        plt.show()\n",
    "    return len(correlations)"
   ],
   "metadata": {
    "collapsed": false,
    "pycharm": {
     "name": "#%%\n"
    }
   }
  },
  {
   "cell_type": "code",
   "execution_count": 38,
   "outputs": [],
   "source": [],
   "metadata": {
    "collapsed": false,
    "pycharm": {
     "name": "#%%\n"
    }
   }
  },
  {
   "cell_type": "code",
   "execution_count": 282,
   "outputs": [
    {
     "name": "stdout",
     "output_type": "stream",
     "text": [
      "S001C\n",
      "Correct\n",
      "------------\n",
      "S002C\n",
      "Correct\n",
      "------------\n",
      "S007C\n",
      "Correct\n",
      "------------\n",
      "S008C\n",
      "Correct\n",
      "------------\n",
      "S009C\n",
      "Correct\n",
      "------------\n",
      "S002I\n",
      "Inverted\n",
      "------------\n",
      "S003I\n",
      "Inverted\n",
      "------------\n",
      "S005I\n",
      "Inverted\n",
      "------------\n",
      "S007I\n",
      "Inverted\n",
      "------------\n",
      "S009I\n",
      "Inverted\n",
      "------------\n",
      "S001S\n",
      "Shuffled\n",
      "------------\n",
      "S002S\n",
      "Shuffled\n",
      "------------\n",
      "S004S\n",
      "Shuffled\n",
      "------------\n",
      "S007S\n",
      "Shuffled\n",
      "------------\n",
      "S009S\n",
      "Shuffled\n",
      "------------\n"
     ]
    }
   ],
   "source": [
    "for i in range(len(bow_moving)):\n",
    "    print(titles[i])\n",
    "    if num_correlation_points(bow_moving[i], [ pattern_correct, ]) > 500:\n",
    "        print('Correct')\n",
    "    elif num_correlation_points(bow_moving[i], [ pattern_inverted, ]) > 500:\n",
    "        print('Inverted')\n",
    "    else:\n",
    "        print('Shuffled')\n",
    "    print('------------')"
   ],
   "metadata": {
    "collapsed": false,
    "pycharm": {
     "name": "#%%\n"
    }
   }
  },
  {
   "cell_type": "code",
   "execution_count": null,
   "outputs": [],
   "source": [],
   "metadata": {
    "collapsed": false,
    "pycharm": {
     "name": "#%%\n"
    }
   }
  }
 ],
 "metadata": {
  "kernelspec": {
   "display_name": "Python 3",
   "language": "python",
   "name": "python3"
  },
  "language_info": {
   "codemirror_mode": {
    "name": "ipython",
    "version": 2
   },
   "file_extension": ".py",
   "mimetype": "text/x-python",
   "name": "python",
   "nbconvert_exporter": "python",
   "pygments_lexer": "ipython2",
   "version": "2.7.6"
  }
 },
 "nbformat": 4,
 "nbformat_minor": 0
}