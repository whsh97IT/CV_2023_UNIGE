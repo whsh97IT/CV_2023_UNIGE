{
 "cells": [
  {
   "cell_type": "code",
   "execution_count": 1,
   "metadata": {
    "collapsed": true
   },
   "outputs": [],
   "source": [
    "import os\n",
    "from os import listdir\n",
    "import matplotlib.pyplot as plt\n",
    "import pandas as pd\n",
    "import numpy as np\n",
    "import math\n",
    "import sys\n",
    "sys.path.append(\"../../src\")\n",
    "from scipy.fft import fft\n",
    "from FeaturesExtractorFromTSD import create_feature_dict_from_tsd\n",
    "import matplotlib.pyplot as plt\n",
    "import statistics"
   ]
  },
  {
   "cell_type": "code",
   "execution_count": 2,
   "outputs": [],
   "source": [
    "path_tds_angles = '../../results/big_dataset/TSD_angles'\n",
    "folders = [x[0] for x in os.walk(path_tds_angles)]\n",
    "folders.remove(path_tds_angles)"
   ],
   "metadata": {
    "collapsed": false,
    "pycharm": {
     "name": "#%%\n"
    }
   }
  },
  {
   "cell_type": "code",
   "execution_count": 3,
   "outputs": [],
   "source": [
    "paths_to_csv = {}"
   ],
   "metadata": {
    "collapsed": false,
    "pycharm": {
     "name": "#%%\n"
    }
   }
  },
  {
   "cell_type": "code",
   "execution_count": 4,
   "outputs": [],
   "source": [
    "for folder in folders:\n",
    "    video_name = folder.split('\\\\')[-1]\n",
    "    curr_paths_to_csv = [(f[:-4], os.path.join(folder, f)) for f in listdir(folder)]\n",
    "    paths_to_csv[video_name] = curr_paths_to_csv"
   ],
   "metadata": {
    "collapsed": false,
    "pycharm": {
     "name": "#%%\n"
    }
   }
  },
  {
   "cell_type": "code",
   "execution_count": 46,
   "outputs": [],
   "source": [
    "names_of_videos = [v for v in paths_to_csv.keys() if v in ['S007I', 'S005I', 'S009I', 'S002S']]\n",
    "names_of_videos.sort(key=lambda v: v[::-1])"
   ],
   "metadata": {
    "collapsed": false,
    "pycharm": {
     "name": "#%%\n"
    }
   }
  },
  {
   "cell_type": "code",
   "execution_count": 47,
   "outputs": [
    {
     "data": {
      "text/plain": "['S001C',\n 'S002C',\n 'S007C',\n 'S008C',\n 'S009C',\n 'S002I',\n 'S003I',\n 'S005I',\n 'S007I',\n 'S009I',\n 'S001S',\n 'S002S',\n 'S004S',\n 'S007S',\n 'S009S']"
     },
     "execution_count": 47,
     "metadata": {},
     "output_type": "execute_result"
    }
   ],
   "source": [
    "names_of_videos"
   ],
   "metadata": {
    "collapsed": false,
    "pycharm": {
     "name": "#%%\n"
    }
   }
  },
  {
   "cell_type": "code",
   "execution_count": 59,
   "outputs": [
    {
     "data": {
      "text/plain": "15"
     },
     "execution_count": 59,
     "metadata": {},
     "output_type": "execute_result"
    }
   ],
   "source": [
    "len(names_of_videos)"
   ],
   "metadata": {
    "collapsed": false,
    "pycharm": {
     "name": "#%%\n"
    }
   }
  },
  {
   "cell_type": "code",
   "execution_count": 7,
   "outputs": [],
   "source": [
    "def smooth_time_series(time_series, window_size):\n",
    "    smoothed_series = []\n",
    "    for i in range(len(time_series)):\n",
    "        lower_bound = max(0, i - window_size)\n",
    "        upper_bound = min(len(time_series), i + window_size + 1)\n",
    "        window = time_series[lower_bound:upper_bound]\n",
    "        average = sum(window) / len(window)\n",
    "        smoothed_series.append(average)\n",
    "    return smoothed_series"
   ],
   "metadata": {
    "collapsed": false,
    "pycharm": {
     "name": "#%%\n"
    }
   }
  },
  {
   "cell_type": "code",
   "execution_count": 72,
   "outputs": [],
   "source": [
    "def calculate_sign_change_rate(time_series):\n",
    "    count = 0\n",
    "    for i in range(1, len(time_series)):\n",
    "        if time_series[i] * time_series[i-1] < 0:\n",
    "            count += 1\n",
    "    #sign_change_rate = count / (len(time_series) - 1)\n",
    "    return count\n",
    "\n",
    "def calc_area(values):\n",
    "  values = np.array(values)\n",
    "  indices = np.where(values > 0)[0]\n",
    "  area_pos = np.trapz(values[indices])\n",
    "  indices = np.where(values < 0)[0]\n",
    "  area_neg = np.trapz(values[indices])\n",
    "  return area_pos, area_neg\n",
    "\n",
    "def shift_data(series):\n",
    "  median = statistics.median(series)\n",
    "  shifted_data = [x - median for x in series]\n",
    "  return shifted_data\n",
    "\n",
    "def classify_time_series(values, titles):\n",
    "  arr = []\n",
    "\n",
    "  for v in values:\n",
    "    s = float(calculate_sign_change_rate(v))\n",
    "    arr.append(s)\n",
    "\n",
    "  thres= float(statistics.mean(arr))\n",
    "\n",
    "  for i, series in enumerate(values):\n",
    "    s = arr[i]\n",
    "    title = titles[i]\n",
    "\n",
    "    if s > thres:\n",
    "      print(f\"s:{s}, thres:{thres}\")\n",
    "      print(title, \" Shuffled\")\n",
    "    else:\n",
    "      print(f\"s:{s}, thres:{thres}\")\n",
    "      a1, a2 = calc_area(series)\n",
    "      if abs(a2) < a1/3:\n",
    "        print(title,\" Inverted\")\n",
    "      else:\n",
    "        print(title,\" Correct\")\n"
   ],
   "metadata": {
    "collapsed": false,
    "pycharm": {
     "name": "#%%\n"
    }
   }
  },
  {
   "cell_type": "code",
   "execution_count": 9,
   "outputs": [],
   "source": [
    "experiment_suff = 'classif_wrong_pred'"
   ],
   "metadata": {
    "collapsed": false,
    "pycharm": {
     "name": "#%%\n"
    }
   }
  },
  {
   "cell_type": "code",
   "execution_count": 145,
   "outputs": [],
   "source": [
    "\n",
    "def classify_time_series(angl_bow_mov, titles):\n",
    "    num_rows = 8\n",
    "    num_cols = 2\n",
    "    shifted_smooth_series = []\n",
    "    fig, axes = plt.subplots(num_rows, num_cols, figsize=(50, 18))\n",
    "    plt.rcParams['font.size'] = 20\n",
    "    axes = axes.flatten()\n",
    "    sign_change_arr = []\n",
    "    #print(len(angl_bow_mov))\n",
    "    for i, series in enumerate(angl_bow_mov):\n",
    "      smoothed_data = smooth_time_series(series, 10)\n",
    "      #neg_smoothed_data = negate_below_median(smoothed_data)\n",
    "      title = titles[i]\n",
    "      #num_sign_change = calculate_sign_change_rate(neg_smoothed_data)\n",
    "      #print(title, \" \", num_sign_change)\n",
    "\n",
    "      ax = axes[i]\n",
    "        #series = eliminate_lowest_values(series,10)\n",
    "        #average = sum(time_series) / len(time_series)\n",
    "      median = statistics.median(smoothed_data)\n",
    "      #mode = statistics.mode(smoothed_data)\n",
    "      shifted_data = shift_data(smoothed_data)\n",
    "      #shifted_data = smooth_time_series(shifted_data, 15)\n",
    "      ax.axhline(median, color='r', linestyle='--', label='median')\n",
    "      ax.axhline(0, color='g', linestyle='--', label='median')\n",
    "      #smoothed_data = smooth_time_series(series, 10) #np.convolve(series, np.ones(window_size) / window_size, mode='valid')\n",
    "      ax.plot(shifted_data, label='Shifted Data')\n",
    "      ax.plot(smoothed_data, label='Smoothed Data')\n",
    "      #ax.set_title(title)\n",
    "      #ax.legend()\n",
    "      #smooth_series.append(smoothed_data)\n",
    "      s =calculate_sign_change_rate(shifted_data)\n",
    "      a1, a2 = calc_area(shifted_data)\n",
    "      #print(title, s, a1,a2, a1+a2)\n",
    "      sign_change_arr.append(s)\n",
    "      shifted_smooth_series.append(shifted_data)\n",
    "\n",
    "    arr = []\n",
    "\n",
    "    for v in shifted_smooth_series:\n",
    "        s = calculate_sign_change_rate(v)\n",
    "        arr.append(s)\n",
    "\n",
    "    thres = int(statistics.mean(arr))\n",
    "\n",
    "    for i, series in enumerate(shifted_smooth_series):\n",
    "        s = arr[i]\n",
    "        title = titles[i]\n",
    "        ax = axes[i]\n",
    "        print(f\"s:{s}, thres:{thres}\")\n",
    "        if s > thres:\n",
    "          title += f\" Shuffled - {str('S'==title[-1])}\"\n",
    "        else:\n",
    "          a1, a2 = calc_area(series)\n",
    "          if abs(a2) < a1/2:\n",
    "            title += f\" Inverted - {str('I'==title[-1])}\"\n",
    "          else:\n",
    "            title += f\" Correct - {str('C'==title[-1])}\"\n",
    "\n",
    "        print(title)\n",
    "        print('------------------')\n",
    "        ax.set_title(title)\n",
    "\n",
    "    plt.tight_layout()\n",
    "    plt.savefig(experiment_suff+\"ts_classification.png\")\n",
    "    plt.close()\n",
    "    #return shifted_smooth_series"
   ],
   "metadata": {
    "collapsed": false,
    "pycharm": {
     "name": "#%%\n"
    }
   }
  },
  {
   "cell_type": "code",
   "execution_count": 146,
   "outputs": [],
   "source": [
    "bow_moving = []\n",
    "titles = []"
   ],
   "metadata": {
    "collapsed": false,
    "pycharm": {
     "name": "#%%\n"
    }
   }
  },
  {
   "cell_type": "code",
   "execution_count": 147,
   "outputs": [
    {
     "name": "stdout",
     "output_type": "stream",
     "text": [
      "../../results/big_dataset/TSD_angles\\S001C\\angl_bow_mov.csv\n",
      "angl_bow_mov\n",
      "S001C\n",
      "../../results/big_dataset/TSD_angles\\S002C\\angl_bow_mov.csv\n",
      "angl_bow_mov\n",
      "S002C\n",
      "../../results/big_dataset/TSD_angles\\S007C\\angl_bow_mov.csv\n",
      "angl_bow_mov\n",
      "S007C\n",
      "../../results/big_dataset/TSD_angles\\S008C\\angl_bow_mov.csv\n",
      "angl_bow_mov\n",
      "S008C\n",
      "../../results/big_dataset/TSD_angles\\S009C\\angl_bow_mov.csv\n",
      "angl_bow_mov\n",
      "S009C\n",
      "../../results/big_dataset/TSD_angles\\S002I\\angl_bow_mov.csv\n",
      "angl_bow_mov\n",
      "S002I\n",
      "../../results/big_dataset/TSD_angles\\S003I\\angl_bow_mov.csv\n",
      "angl_bow_mov\n",
      "S003I\n",
      "../../results/big_dataset/TSD_angles\\S005I\\angl_bow_mov.csv\n",
      "angl_bow_mov\n",
      "S005I\n",
      "../../results/big_dataset/TSD_angles\\S007I\\angl_bow_mov.csv\n",
      "angl_bow_mov\n",
      "S007I\n",
      "../../results/big_dataset/TSD_angles\\S009I\\angl_bow_mov.csv\n",
      "angl_bow_mov\n",
      "S009I\n",
      "../../results/big_dataset/TSD_angles\\S001S\\angl_bow_mov.csv\n",
      "angl_bow_mov\n",
      "S001S\n",
      "../../results/big_dataset/TSD_angles\\S002S\\angl_bow_mov.csv\n",
      "angl_bow_mov\n",
      "S002S\n",
      "../../results/big_dataset/TSD_angles\\S004S\\angl_bow_mov.csv\n",
      "angl_bow_mov\n",
      "S004S\n",
      "../../results/big_dataset/TSD_angles\\S007S\\angl_bow_mov.csv\n",
      "angl_bow_mov\n",
      "S007S\n",
      "../../results/big_dataset/TSD_angles\\S009S\\angl_bow_mov.csv\n",
      "angl_bow_mov\n",
      "S009S\n"
     ]
    }
   ],
   "source": [
    "for i in range(len(names_of_videos)):\n",
    "    curr_metric, curr_path = paths_to_csv[names_of_videos[i]][0]\n",
    "    print(curr_path)\n",
    "    print(curr_metric)\n",
    "    title = curr_path.split('/')[-1].split('\\\\')[1]\n",
    "    titles.append(title)\n",
    "    print(title)\n",
    "    angles = pd.read_csv(curr_path)['angle'].to_list()\n",
    "    bow_moving.append(angles)"
   ],
   "metadata": {
    "collapsed": false,
    "pycharm": {
     "name": "#%%\n"
    }
   }
  },
  {
   "cell_type": "code",
   "execution_count": 147,
   "outputs": [],
   "source": [],
   "metadata": {
    "collapsed": false,
    "pycharm": {
     "name": "#%%\n"
    }
   }
  },
  {
   "cell_type": "code",
   "execution_count": 148,
   "outputs": [
    {
     "name": "stdout",
     "output_type": "stream",
     "text": [
      "s:119, thres:149\n",
      "S001C Correct - True\n",
      "------------------\n",
      "s:105, thres:149\n",
      "S002C Correct - True\n",
      "------------------\n",
      "s:107, thres:149\n",
      "S007C Correct - True\n",
      "------------------\n",
      "s:96, thres:149\n",
      "S008C Correct - True\n",
      "------------------\n",
      "s:102, thres:149\n",
      "S009C Correct - True\n",
      "------------------\n",
      "s:146, thres:149\n",
      "S002I Inverted - True\n",
      "------------------\n",
      "s:127, thres:149\n",
      "S003I Inverted - True\n",
      "------------------\n",
      "s:154, thres:149\n",
      "S005I Shuffled - False\n",
      "------------------\n",
      "s:110, thres:149\n",
      "S007I Inverted - True\n",
      "------------------\n",
      "s:116, thres:149\n",
      "S009I Inverted - True\n",
      "------------------\n",
      "s:242, thres:149\n",
      "S001S Shuffled - True\n",
      "------------------\n",
      "s:120, thres:149\n",
      "S002S Correct - False\n",
      "------------------\n",
      "s:242, thres:149\n",
      "S004S Shuffled - True\n",
      "------------------\n",
      "s:262, thres:149\n",
      "S007S Shuffled - True\n",
      "------------------\n",
      "s:197, thres:149\n",
      "S009S Shuffled - True\n",
      "------------------\n"
     ]
    }
   ],
   "source": [
    "classify_time_series(bow_moving, titles)"
   ],
   "metadata": {
    "collapsed": false,
    "pycharm": {
     "name": "#%%\n"
    }
   }
  },
  {
   "cell_type": "markdown",
   "source": [
    "## prepare data"
   ],
   "metadata": {
    "collapsed": false
   }
  },
  {
   "cell_type": "code",
   "execution_count": 149,
   "outputs": [
    {
     "data": {
      "text/plain": "['S001C',\n 'S002C',\n 'S007C',\n 'S008C',\n 'S009C',\n 'S002I',\n 'S003I',\n 'S005I',\n 'S007I',\n 'S009I',\n 'S001S',\n 'S002S',\n 'S004S',\n 'S007S',\n 'S009S']"
     },
     "execution_count": 149,
     "metadata": {},
     "output_type": "execute_result"
    }
   ],
   "source": [
    "titles"
   ],
   "metadata": {
    "collapsed": false,
    "pycharm": {
     "name": "#%%\n"
    }
   }
  },
  {
   "cell_type": "code",
   "execution_count": 150,
   "outputs": [
    {
     "data": {
      "text/plain": "15"
     },
     "execution_count": 150,
     "metadata": {},
     "output_type": "execute_result"
    }
   ],
   "source": [
    "len(bow_moving)"
   ],
   "metadata": {
    "collapsed": false,
    "pycharm": {
     "name": "#%%\n"
    }
   }
  },
  {
   "cell_type": "code",
   "execution_count": 175,
   "outputs": [],
   "source": [
    "bow_moving_prepared = bow_moving.copy()"
   ],
   "metadata": {
    "collapsed": false,
    "pycharm": {
     "name": "#%%\n"
    }
   }
  },
  {
   "cell_type": "code",
   "execution_count": 176,
   "outputs": [
    {
     "name": "stdout",
     "output_type": "stream",
     "text": [
      "S005I\n",
      "S002S\n"
     ]
    }
   ],
   "source": [
    "print(titles[7])\n",
    "bow_moving_prepared[7] = bow_moving_prepared[7][6000:]\n",
    "print(titles[11])\n",
    "bow_moving_prepared[11] = bow_moving_prepared[11][100:]"
   ],
   "metadata": {
    "collapsed": false,
    "pycharm": {
     "name": "#%%\n"
    }
   }
  },
  {
   "cell_type": "code",
   "execution_count": 177,
   "outputs": [
    {
     "name": "stdout",
     "output_type": "stream",
     "text": [
      "S002I\n"
     ]
    }
   ],
   "source": [
    "print(titles[5])\n",
    "bow_moving_prepared[5] = bow_moving_prepared[5][500:-500]"
   ],
   "metadata": {
    "collapsed": false,
    "pycharm": {
     "name": "#%%\n"
    }
   }
  },
  {
   "cell_type": "code",
   "execution_count": 178,
   "outputs": [
    {
     "name": "stdout",
     "output_type": "stream",
     "text": [
      "s:119, thres:145\n",
      "S001C Correct - True\n",
      "------------------\n",
      "s:105, thres:145\n",
      "S002C Correct - True\n",
      "------------------\n",
      "s:107, thres:145\n",
      "S007C Correct - True\n",
      "------------------\n",
      "s:96, thres:145\n",
      "S008C Correct - True\n",
      "------------------\n",
      "s:102, thres:145\n",
      "S009C Correct - True\n",
      "------------------\n",
      "s:137, thres:145\n",
      "S002I Inverted - True\n",
      "------------------\n",
      "s:127, thres:145\n",
      "S003I Inverted - True\n",
      "------------------\n",
      "s:99, thres:145\n",
      "S005I Inverted - True\n",
      "------------------\n",
      "s:110, thres:145\n",
      "S007I Inverted - True\n",
      "------------------\n",
      "s:116, thres:145\n",
      "S009I Inverted - True\n",
      "------------------\n",
      "s:242, thres:145\n",
      "S001S Shuffled - True\n",
      "------------------\n",
      "s:122, thres:145\n",
      "S002S Correct - False\n",
      "------------------\n",
      "s:242, thres:145\n",
      "S004S Shuffled - True\n",
      "------------------\n",
      "s:262, thres:145\n",
      "S007S Shuffled - True\n",
      "------------------\n",
      "s:197, thres:145\n",
      "S009S Shuffled - True\n",
      "------------------\n"
     ]
    }
   ],
   "source": [
    "classify_time_series(bow_moving_prepared, titles)"
   ],
   "metadata": {
    "collapsed": false,
    "pycharm": {
     "name": "#%%\n"
    }
   }
  },
  {
   "cell_type": "code",
   "execution_count": 178,
   "outputs": [],
   "source": [],
   "metadata": {
    "collapsed": false,
    "pycharm": {
     "name": "#%%\n"
    }
   }
  },
  {
   "cell_type": "code",
   "execution_count": 67,
   "outputs": [],
   "source": [],
   "metadata": {
    "collapsed": false,
    "pycharm": {
     "name": "#%%\n"
    }
   }
  },
  {
   "cell_type": "code",
   "execution_count": 67,
   "outputs": [],
   "source": [],
   "metadata": {
    "collapsed": false,
    "pycharm": {
     "name": "#%%\n"
    }
   }
  },
  {
   "cell_type": "code",
   "execution_count": null,
   "outputs": [],
   "source": [],
   "metadata": {
    "collapsed": false,
    "pycharm": {
     "name": "#%%\n"
    }
   }
  },
  {
   "cell_type": "code",
   "execution_count": null,
   "outputs": [],
   "source": [],
   "metadata": {
    "collapsed": false,
    "pycharm": {
     "name": "#%%\n"
    }
   }
  },
  {
   "cell_type": "code",
   "execution_count": null,
   "outputs": [],
   "source": [],
   "metadata": {
    "collapsed": false,
    "pycharm": {
     "name": "#%%\n"
    }
   }
  }
 ],
 "metadata": {
  "kernelspec": {
   "display_name": "Python 3",
   "language": "python",
   "name": "python3"
  },
  "language_info": {
   "codemirror_mode": {
    "name": "ipython",
    "version": 2
   },
   "file_extension": ".py",
   "mimetype": "text/x-python",
   "name": "python",
   "nbconvert_exporter": "python",
   "pygments_lexer": "ipython2",
   "version": "2.7.6"
  }
 },
 "nbformat": 4,
 "nbformat_minor": 0
}