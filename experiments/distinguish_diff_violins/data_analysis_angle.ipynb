{
 "cells": [
  {
   "cell_type": "code",
   "execution_count": 45,
   "outputs": [],
   "source": [
    "import os\n",
    "from os import listdir\n",
    "import matplotlib.pyplot as plt\n",
    "import pandas as pd\n",
    "import numpy as np\n",
    "import math\n",
    "import sys\n",
    "sys.path.append(\"../../src\")\n",
    "from scipy.fft import fft\n",
    "from FeaturesExtractorFromTSD import create_feature_dict_from_tsd\n",
    "from numpy.ma.core import negative\n",
    "from statsmodels.tsa.seasonal import seasonal_decompose\n",
    "from statsmodels.graphics.tsaplots import plot_acf, plot_pacf, month_plot, quarter_plot\n",
    "from sklearn.preprocessing import MinMaxScaler\n",
    "import matplotlib.pyplot as plt\n",
    "import statistics"
   ],
   "metadata": {
    "collapsed": false,
    "pycharm": {
     "name": "#%%\n"
    }
   }
  },
  {
   "cell_type": "code",
   "execution_count": 46,
   "metadata": {
    "collapsed": true
   },
   "outputs": [],
   "source": [
    "paths_to_csv = {}"
   ]
  },
  {
   "cell_type": "markdown",
   "source": [
    "# Display time series of different angles"
   ],
   "metadata": {
    "collapsed": false
   }
  },
  {
   "cell_type": "code",
   "execution_count": 72,
   "outputs": [],
   "source": [
    "path_tds_angles = '../../results/big_dataset/TSD_angles'\n",
    "folders = [x[0] for x in os.walk(path_tds_angles)]\n",
    "folders.remove(path_tds_angles)"
   ],
   "metadata": {
    "collapsed": false,
    "pycharm": {
     "name": "#%%\n"
    }
   }
  },
  {
   "cell_type": "code",
   "execution_count": 72,
   "outputs": [],
   "source": [],
   "metadata": {
    "collapsed": false,
    "pycharm": {
     "name": "#%%\n"
    }
   }
  },
  {
   "cell_type": "code",
   "execution_count": 73,
   "outputs": [],
   "source": [
    "for folder in folders:\n",
    "    video_name = folder.split('\\\\')[-1]\n",
    "    curr_paths_to_csv = [(f[:-4], os.path.join(folder, f)) for f in listdir(folder)]\n",
    "    paths_to_csv[video_name] = curr_paths_to_csv"
   ],
   "metadata": {
    "collapsed": false,
    "pycharm": {
     "name": "#%%\n"
    }
   }
  },
  {
   "cell_type": "code",
   "execution_count": 74,
   "outputs": [
    {
     "data": {
      "text/plain": "{'S001C': [('angl_bow_mov',\n   '../../results/big_dataset/TSD_angles\\\\S001C\\\\angl_bow_mov.csv'),\n  ('angl_head_inclination',\n   '../../results/big_dataset/TSD_angles\\\\S001C\\\\angl_head_inclination.csv'),\n  ('angl_left_cheek_mov',\n   '../../results/big_dataset/TSD_angles\\\\S001C\\\\angl_left_cheek_mov.csv'),\n  ('angl_left_elbow_mov',\n   '../../results/big_dataset/TSD_angles\\\\S001C\\\\angl_left_elbow_mov.csv'),\n  ('angl_left_fingers_pos_mov',\n   '../../results/big_dataset/TSD_angles\\\\S001C\\\\angl_left_fingers_pos_mov.csv'),\n  ('angl_left_hips_mov',\n   '../../results/big_dataset/TSD_angles\\\\S001C\\\\angl_left_hips_mov.csv'),\n  ('angl_left_should_mov',\n   '../../results/big_dataset/TSD_angles\\\\S001C\\\\angl_left_should_mov.csv'),\n  ('angl_left_wrist_round',\n   '../../results/big_dataset/TSD_angles\\\\S001C\\\\angl_left_wrist_round.csv'),\n  ('angl_right_cheek_mov',\n   '../../results/big_dataset/TSD_angles\\\\S001C\\\\angl_right_cheek_mov.csv'),\n  ('angl_right_elbow_mov',\n   '../../results/big_dataset/TSD_angles\\\\S001C\\\\angl_right_elbow_mov.csv'),\n  ('angl_right_fingers_pos_mov',\n   '../../results/big_dataset/TSD_angles\\\\S001C\\\\angl_right_fingers_pos_mov.csv'),\n  ('angl_right_hips_mov',\n   '../../results/big_dataset/TSD_angles\\\\S001C\\\\angl_right_hips_mov.csv'),\n  ('angl_right_should_mov',\n   '../../results/big_dataset/TSD_angles\\\\S001C\\\\angl_right_should_mov.csv')],\n 'S001S': [('angl_bow_mov',\n   '../../results/big_dataset/TSD_angles\\\\S001S\\\\angl_bow_mov.csv'),\n  ('angl_head_inclination',\n   '../../results/big_dataset/TSD_angles\\\\S001S\\\\angl_head_inclination.csv'),\n  ('angl_left_cheek_mov',\n   '../../results/big_dataset/TSD_angles\\\\S001S\\\\angl_left_cheek_mov.csv'),\n  ('angl_left_elbow_mov',\n   '../../results/big_dataset/TSD_angles\\\\S001S\\\\angl_left_elbow_mov.csv'),\n  ('angl_left_fingers_pos_mov',\n   '../../results/big_dataset/TSD_angles\\\\S001S\\\\angl_left_fingers_pos_mov.csv'),\n  ('angl_left_hips_mov',\n   '../../results/big_dataset/TSD_angles\\\\S001S\\\\angl_left_hips_mov.csv'),\n  ('angl_left_should_mov',\n   '../../results/big_dataset/TSD_angles\\\\S001S\\\\angl_left_should_mov.csv'),\n  ('angl_left_wrist_round',\n   '../../results/big_dataset/TSD_angles\\\\S001S\\\\angl_left_wrist_round.csv'),\n  ('angl_right_cheek_mov',\n   '../../results/big_dataset/TSD_angles\\\\S001S\\\\angl_right_cheek_mov.csv'),\n  ('angl_right_elbow_mov',\n   '../../results/big_dataset/TSD_angles\\\\S001S\\\\angl_right_elbow_mov.csv'),\n  ('angl_right_fingers_pos_mov',\n   '../../results/big_dataset/TSD_angles\\\\S001S\\\\angl_right_fingers_pos_mov.csv'),\n  ('angl_right_hips_mov',\n   '../../results/big_dataset/TSD_angles\\\\S001S\\\\angl_right_hips_mov.csv'),\n  ('angl_right_should_mov',\n   '../../results/big_dataset/TSD_angles\\\\S001S\\\\angl_right_should_mov.csv')],\n 'S002C': [('angl_bow_mov',\n   '../../results/big_dataset/TSD_angles\\\\S002C\\\\angl_bow_mov.csv'),\n  ('angl_head_inclination',\n   '../../results/big_dataset/TSD_angles\\\\S002C\\\\angl_head_inclination.csv'),\n  ('angl_left_cheek_mov',\n   '../../results/big_dataset/TSD_angles\\\\S002C\\\\angl_left_cheek_mov.csv'),\n  ('angl_left_elbow_mov',\n   '../../results/big_dataset/TSD_angles\\\\S002C\\\\angl_left_elbow_mov.csv'),\n  ('angl_left_fingers_pos_mov',\n   '../../results/big_dataset/TSD_angles\\\\S002C\\\\angl_left_fingers_pos_mov.csv'),\n  ('angl_left_hips_mov',\n   '../../results/big_dataset/TSD_angles\\\\S002C\\\\angl_left_hips_mov.csv'),\n  ('angl_left_should_mov',\n   '../../results/big_dataset/TSD_angles\\\\S002C\\\\angl_left_should_mov.csv'),\n  ('angl_left_wrist_round',\n   '../../results/big_dataset/TSD_angles\\\\S002C\\\\angl_left_wrist_round.csv'),\n  ('angl_right_cheek_mov',\n   '../../results/big_dataset/TSD_angles\\\\S002C\\\\angl_right_cheek_mov.csv'),\n  ('angl_right_elbow_mov',\n   '../../results/big_dataset/TSD_angles\\\\S002C\\\\angl_right_elbow_mov.csv'),\n  ('angl_right_fingers_pos_mov',\n   '../../results/big_dataset/TSD_angles\\\\S002C\\\\angl_right_fingers_pos_mov.csv'),\n  ('angl_right_hips_mov',\n   '../../results/big_dataset/TSD_angles\\\\S002C\\\\angl_right_hips_mov.csv'),\n  ('angl_right_should_mov',\n   '../../results/big_dataset/TSD_angles\\\\S002C\\\\angl_right_should_mov.csv')],\n 'S002I': [('angl_bow_mov',\n   '../../results/big_dataset/TSD_angles\\\\S002I\\\\angl_bow_mov.csv'),\n  ('angl_head_inclination',\n   '../../results/big_dataset/TSD_angles\\\\S002I\\\\angl_head_inclination.csv'),\n  ('angl_left_cheek_mov',\n   '../../results/big_dataset/TSD_angles\\\\S002I\\\\angl_left_cheek_mov.csv'),\n  ('angl_left_elbow_mov',\n   '../../results/big_dataset/TSD_angles\\\\S002I\\\\angl_left_elbow_mov.csv'),\n  ('angl_left_fingers_pos_mov',\n   '../../results/big_dataset/TSD_angles\\\\S002I\\\\angl_left_fingers_pos_mov.csv'),\n  ('angl_left_hips_mov',\n   '../../results/big_dataset/TSD_angles\\\\S002I\\\\angl_left_hips_mov.csv'),\n  ('angl_left_should_mov',\n   '../../results/big_dataset/TSD_angles\\\\S002I\\\\angl_left_should_mov.csv'),\n  ('angl_left_wrist_round',\n   '../../results/big_dataset/TSD_angles\\\\S002I\\\\angl_left_wrist_round.csv'),\n  ('angl_right_cheek_mov',\n   '../../results/big_dataset/TSD_angles\\\\S002I\\\\angl_right_cheek_mov.csv'),\n  ('angl_right_elbow_mov',\n   '../../results/big_dataset/TSD_angles\\\\S002I\\\\angl_right_elbow_mov.csv'),\n  ('angl_right_fingers_pos_mov',\n   '../../results/big_dataset/TSD_angles\\\\S002I\\\\angl_right_fingers_pos_mov.csv'),\n  ('angl_right_hips_mov',\n   '../../results/big_dataset/TSD_angles\\\\S002I\\\\angl_right_hips_mov.csv'),\n  ('angl_right_should_mov',\n   '../../results/big_dataset/TSD_angles\\\\S002I\\\\angl_right_should_mov.csv')],\n 'S003I': [('angl_bow_mov',\n   '../../results/big_dataset/TSD_angles\\\\S003I\\\\angl_bow_mov.csv'),\n  ('angl_head_inclination',\n   '../../results/big_dataset/TSD_angles\\\\S003I\\\\angl_head_inclination.csv'),\n  ('angl_left_cheek_mov',\n   '../../results/big_dataset/TSD_angles\\\\S003I\\\\angl_left_cheek_mov.csv'),\n  ('angl_left_elbow_mov',\n   '../../results/big_dataset/TSD_angles\\\\S003I\\\\angl_left_elbow_mov.csv'),\n  ('angl_left_fingers_pos_mov',\n   '../../results/big_dataset/TSD_angles\\\\S003I\\\\angl_left_fingers_pos_mov.csv'),\n  ('angl_left_hips_mov',\n   '../../results/big_dataset/TSD_angles\\\\S003I\\\\angl_left_hips_mov.csv'),\n  ('angl_left_should_mov',\n   '../../results/big_dataset/TSD_angles\\\\S003I\\\\angl_left_should_mov.csv'),\n  ('angl_left_wrist_round',\n   '../../results/big_dataset/TSD_angles\\\\S003I\\\\angl_left_wrist_round.csv'),\n  ('angl_right_cheek_mov',\n   '../../results/big_dataset/TSD_angles\\\\S003I\\\\angl_right_cheek_mov.csv'),\n  ('angl_right_elbow_mov',\n   '../../results/big_dataset/TSD_angles\\\\S003I\\\\angl_right_elbow_mov.csv'),\n  ('angl_right_fingers_pos_mov',\n   '../../results/big_dataset/TSD_angles\\\\S003I\\\\angl_right_fingers_pos_mov.csv'),\n  ('angl_right_hips_mov',\n   '../../results/big_dataset/TSD_angles\\\\S003I\\\\angl_right_hips_mov.csv'),\n  ('angl_right_should_mov',\n   '../../results/big_dataset/TSD_angles\\\\S003I\\\\angl_right_should_mov.csv')],\n 'S004S': [('angl_bow_mov',\n   '../../results/big_dataset/TSD_angles\\\\S004S\\\\angl_bow_mov.csv'),\n  ('angl_head_inclination',\n   '../../results/big_dataset/TSD_angles\\\\S004S\\\\angl_head_inclination.csv'),\n  ('angl_left_cheek_mov',\n   '../../results/big_dataset/TSD_angles\\\\S004S\\\\angl_left_cheek_mov.csv'),\n  ('angl_left_elbow_mov',\n   '../../results/big_dataset/TSD_angles\\\\S004S\\\\angl_left_elbow_mov.csv'),\n  ('angl_left_fingers_pos_mov',\n   '../../results/big_dataset/TSD_angles\\\\S004S\\\\angl_left_fingers_pos_mov.csv'),\n  ('angl_left_hips_mov',\n   '../../results/big_dataset/TSD_angles\\\\S004S\\\\angl_left_hips_mov.csv'),\n  ('angl_left_should_mov',\n   '../../results/big_dataset/TSD_angles\\\\S004S\\\\angl_left_should_mov.csv'),\n  ('angl_left_wrist_round',\n   '../../results/big_dataset/TSD_angles\\\\S004S\\\\angl_left_wrist_round.csv'),\n  ('angl_right_cheek_mov',\n   '../../results/big_dataset/TSD_angles\\\\S004S\\\\angl_right_cheek_mov.csv'),\n  ('angl_right_elbow_mov',\n   '../../results/big_dataset/TSD_angles\\\\S004S\\\\angl_right_elbow_mov.csv'),\n  ('angl_right_fingers_pos_mov',\n   '../../results/big_dataset/TSD_angles\\\\S004S\\\\angl_right_fingers_pos_mov.csv'),\n  ('angl_right_hips_mov',\n   '../../results/big_dataset/TSD_angles\\\\S004S\\\\angl_right_hips_mov.csv'),\n  ('angl_right_should_mov',\n   '../../results/big_dataset/TSD_angles\\\\S004S\\\\angl_right_should_mov.csv')],\n 'S005I': [('angl_bow_mov',\n   '../../results/big_dataset/TSD_angles\\\\S005I\\\\angl_bow_mov.csv'),\n  ('angl_head_inclination',\n   '../../results/big_dataset/TSD_angles\\\\S005I\\\\angl_head_inclination.csv'),\n  ('angl_left_cheek_mov',\n   '../../results/big_dataset/TSD_angles\\\\S005I\\\\angl_left_cheek_mov.csv'),\n  ('angl_left_elbow_mov',\n   '../../results/big_dataset/TSD_angles\\\\S005I\\\\angl_left_elbow_mov.csv'),\n  ('angl_left_fingers_pos_mov',\n   '../../results/big_dataset/TSD_angles\\\\S005I\\\\angl_left_fingers_pos_mov.csv'),\n  ('angl_left_hips_mov',\n   '../../results/big_dataset/TSD_angles\\\\S005I\\\\angl_left_hips_mov.csv'),\n  ('angl_left_should_mov',\n   '../../results/big_dataset/TSD_angles\\\\S005I\\\\angl_left_should_mov.csv'),\n  ('angl_left_wrist_round',\n   '../../results/big_dataset/TSD_angles\\\\S005I\\\\angl_left_wrist_round.csv'),\n  ('angl_right_cheek_mov',\n   '../../results/big_dataset/TSD_angles\\\\S005I\\\\angl_right_cheek_mov.csv'),\n  ('angl_right_elbow_mov',\n   '../../results/big_dataset/TSD_angles\\\\S005I\\\\angl_right_elbow_mov.csv'),\n  ('angl_right_fingers_pos_mov',\n   '../../results/big_dataset/TSD_angles\\\\S005I\\\\angl_right_fingers_pos_mov.csv'),\n  ('angl_right_hips_mov',\n   '../../results/big_dataset/TSD_angles\\\\S005I\\\\angl_right_hips_mov.csv'),\n  ('angl_right_should_mov',\n   '../../results/big_dataset/TSD_angles\\\\S005I\\\\angl_right_should_mov.csv')],\n 'S008C': [('angl_bow_mov',\n   '../../results/big_dataset/TSD_angles\\\\S008C\\\\angl_bow_mov.csv'),\n  ('angl_head_inclination',\n   '../../results/big_dataset/TSD_angles\\\\S008C\\\\angl_head_inclination.csv'),\n  ('angl_left_cheek_mov',\n   '../../results/big_dataset/TSD_angles\\\\S008C\\\\angl_left_cheek_mov.csv'),\n  ('angl_left_elbow_mov',\n   '../../results/big_dataset/TSD_angles\\\\S008C\\\\angl_left_elbow_mov.csv'),\n  ('angl_left_fingers_pos_mov',\n   '../../results/big_dataset/TSD_angles\\\\S008C\\\\angl_left_fingers_pos_mov.csv'),\n  ('angl_left_hips_mov',\n   '../../results/big_dataset/TSD_angles\\\\S008C\\\\angl_left_hips_mov.csv'),\n  ('angl_left_should_mov',\n   '../../results/big_dataset/TSD_angles\\\\S008C\\\\angl_left_should_mov.csv'),\n  ('angl_left_wrist_round',\n   '../../results/big_dataset/TSD_angles\\\\S008C\\\\angl_left_wrist_round.csv'),\n  ('angl_right_cheek_mov',\n   '../../results/big_dataset/TSD_angles\\\\S008C\\\\angl_right_cheek_mov.csv'),\n  ('angl_right_elbow_mov',\n   '../../results/big_dataset/TSD_angles\\\\S008C\\\\angl_right_elbow_mov.csv'),\n  ('angl_right_fingers_pos_mov',\n   '../../results/big_dataset/TSD_angles\\\\S008C\\\\angl_right_fingers_pos_mov.csv'),\n  ('angl_right_hips_mov',\n   '../../results/big_dataset/TSD_angles\\\\S008C\\\\angl_right_hips_mov.csv'),\n  ('angl_right_should_mov',\n   '../../results/big_dataset/TSD_angles\\\\S008C\\\\angl_right_should_mov.csv')],\n 'S009S': [('angl_bow_mov',\n   '../../results/big_dataset/TSD_angles\\\\S009S\\\\angl_bow_mov.csv'),\n  ('angl_head_inclination',\n   '../../results/big_dataset/TSD_angles\\\\S009S\\\\angl_head_inclination.csv'),\n  ('angl_left_cheek_mov',\n   '../../results/big_dataset/TSD_angles\\\\S009S\\\\angl_left_cheek_mov.csv'),\n  ('angl_left_elbow_mov',\n   '../../results/big_dataset/TSD_angles\\\\S009S\\\\angl_left_elbow_mov.csv'),\n  ('angl_left_fingers_pos_mov',\n   '../../results/big_dataset/TSD_angles\\\\S009S\\\\angl_left_fingers_pos_mov.csv'),\n  ('angl_left_hips_mov',\n   '../../results/big_dataset/TSD_angles\\\\S009S\\\\angl_left_hips_mov.csv'),\n  ('angl_left_should_mov',\n   '../../results/big_dataset/TSD_angles\\\\S009S\\\\angl_left_should_mov.csv'),\n  ('angl_left_wrist_round',\n   '../../results/big_dataset/TSD_angles\\\\S009S\\\\angl_left_wrist_round.csv'),\n  ('angl_right_cheek_mov',\n   '../../results/big_dataset/TSD_angles\\\\S009S\\\\angl_right_cheek_mov.csv'),\n  ('angl_right_elbow_mov',\n   '../../results/big_dataset/TSD_angles\\\\S009S\\\\angl_right_elbow_mov.csv'),\n  ('angl_right_fingers_pos_mov',\n   '../../results/big_dataset/TSD_angles\\\\S009S\\\\angl_right_fingers_pos_mov.csv'),\n  ('angl_right_hips_mov',\n   '../../results/big_dataset/TSD_angles\\\\S009S\\\\angl_right_hips_mov.csv'),\n  ('angl_right_should_mov',\n   '../../results/big_dataset/TSD_angles\\\\S009S\\\\angl_right_should_mov.csv')],\n 'S002S': [('angl_bow_mov',\n   '../../results/big_dataset/TSD_angles\\\\S002S\\\\angl_bow_mov.csv'),\n  ('angl_head_inclination',\n   '../../results/big_dataset/TSD_angles\\\\S002S\\\\angl_head_inclination.csv'),\n  ('angl_left_cheek_mov',\n   '../../results/big_dataset/TSD_angles\\\\S002S\\\\angl_left_cheek_mov.csv'),\n  ('angl_left_elbow_mov',\n   '../../results/big_dataset/TSD_angles\\\\S002S\\\\angl_left_elbow_mov.csv'),\n  ('angl_left_fingers_pos_mov',\n   '../../results/big_dataset/TSD_angles\\\\S002S\\\\angl_left_fingers_pos_mov.csv'),\n  ('angl_left_hips_mov',\n   '../../results/big_dataset/TSD_angles\\\\S002S\\\\angl_left_hips_mov.csv'),\n  ('angl_left_should_mov',\n   '../../results/big_dataset/TSD_angles\\\\S002S\\\\angl_left_should_mov.csv'),\n  ('angl_left_wrist_round',\n   '../../results/big_dataset/TSD_angles\\\\S002S\\\\angl_left_wrist_round.csv'),\n  ('angl_right_cheek_mov',\n   '../../results/big_dataset/TSD_angles\\\\S002S\\\\angl_right_cheek_mov.csv'),\n  ('angl_right_elbow_mov',\n   '../../results/big_dataset/TSD_angles\\\\S002S\\\\angl_right_elbow_mov.csv'),\n  ('angl_right_fingers_pos_mov',\n   '../../results/big_dataset/TSD_angles\\\\S002S\\\\angl_right_fingers_pos_mov.csv'),\n  ('angl_right_hips_mov',\n   '../../results/big_dataset/TSD_angles\\\\S002S\\\\angl_right_hips_mov.csv'),\n  ('angl_right_should_mov',\n   '../../results/big_dataset/TSD_angles\\\\S002S\\\\angl_right_should_mov.csv')],\n 'S007C': [('angl_bow_mov',\n   '../../results/big_dataset/TSD_angles\\\\S007C\\\\angl_bow_mov.csv'),\n  ('angl_head_inclination',\n   '../../results/big_dataset/TSD_angles\\\\S007C\\\\angl_head_inclination.csv'),\n  ('angl_left_cheek_mov',\n   '../../results/big_dataset/TSD_angles\\\\S007C\\\\angl_left_cheek_mov.csv'),\n  ('angl_left_elbow_mov',\n   '../../results/big_dataset/TSD_angles\\\\S007C\\\\angl_left_elbow_mov.csv'),\n  ('angl_left_fingers_pos_mov',\n   '../../results/big_dataset/TSD_angles\\\\S007C\\\\angl_left_fingers_pos_mov.csv'),\n  ('angl_left_hips_mov',\n   '../../results/big_dataset/TSD_angles\\\\S007C\\\\angl_left_hips_mov.csv'),\n  ('angl_left_should_mov',\n   '../../results/big_dataset/TSD_angles\\\\S007C\\\\angl_left_should_mov.csv'),\n  ('angl_left_wrist_round',\n   '../../results/big_dataset/TSD_angles\\\\S007C\\\\angl_left_wrist_round.csv'),\n  ('angl_right_cheek_mov',\n   '../../results/big_dataset/TSD_angles\\\\S007C\\\\angl_right_cheek_mov.csv'),\n  ('angl_right_elbow_mov',\n   '../../results/big_dataset/TSD_angles\\\\S007C\\\\angl_right_elbow_mov.csv'),\n  ('angl_right_fingers_pos_mov',\n   '../../results/big_dataset/TSD_angles\\\\S007C\\\\angl_right_fingers_pos_mov.csv'),\n  ('angl_right_hips_mov',\n   '../../results/big_dataset/TSD_angles\\\\S007C\\\\angl_right_hips_mov.csv'),\n  ('angl_right_should_mov',\n   '../../results/big_dataset/TSD_angles\\\\S007C\\\\angl_right_should_mov.csv')],\n 'S007I': [('angl_bow_mov',\n   '../../results/big_dataset/TSD_angles\\\\S007I\\\\angl_bow_mov.csv'),\n  ('angl_head_inclination',\n   '../../results/big_dataset/TSD_angles\\\\S007I\\\\angl_head_inclination.csv'),\n  ('angl_left_cheek_mov',\n   '../../results/big_dataset/TSD_angles\\\\S007I\\\\angl_left_cheek_mov.csv'),\n  ('angl_left_elbow_mov',\n   '../../results/big_dataset/TSD_angles\\\\S007I\\\\angl_left_elbow_mov.csv'),\n  ('angl_left_fingers_pos_mov',\n   '../../results/big_dataset/TSD_angles\\\\S007I\\\\angl_left_fingers_pos_mov.csv'),\n  ('angl_left_hips_mov',\n   '../../results/big_dataset/TSD_angles\\\\S007I\\\\angl_left_hips_mov.csv'),\n  ('angl_left_should_mov',\n   '../../results/big_dataset/TSD_angles\\\\S007I\\\\angl_left_should_mov.csv'),\n  ('angl_left_wrist_round',\n   '../../results/big_dataset/TSD_angles\\\\S007I\\\\angl_left_wrist_round.csv'),\n  ('angl_right_cheek_mov',\n   '../../results/big_dataset/TSD_angles\\\\S007I\\\\angl_right_cheek_mov.csv'),\n  ('angl_right_elbow_mov',\n   '../../results/big_dataset/TSD_angles\\\\S007I\\\\angl_right_elbow_mov.csv'),\n  ('angl_right_fingers_pos_mov',\n   '../../results/big_dataset/TSD_angles\\\\S007I\\\\angl_right_fingers_pos_mov.csv'),\n  ('angl_right_hips_mov',\n   '../../results/big_dataset/TSD_angles\\\\S007I\\\\angl_right_hips_mov.csv'),\n  ('angl_right_should_mov',\n   '../../results/big_dataset/TSD_angles\\\\S007I\\\\angl_right_should_mov.csv')],\n 'S007S': [('angl_bow_mov',\n   '../../results/big_dataset/TSD_angles\\\\S007S\\\\angl_bow_mov.csv'),\n  ('angl_head_inclination',\n   '../../results/big_dataset/TSD_angles\\\\S007S\\\\angl_head_inclination.csv'),\n  ('angl_left_cheek_mov',\n   '../../results/big_dataset/TSD_angles\\\\S007S\\\\angl_left_cheek_mov.csv'),\n  ('angl_left_elbow_mov',\n   '../../results/big_dataset/TSD_angles\\\\S007S\\\\angl_left_elbow_mov.csv'),\n  ('angl_left_fingers_pos_mov',\n   '../../results/big_dataset/TSD_angles\\\\S007S\\\\angl_left_fingers_pos_mov.csv'),\n  ('angl_left_hips_mov',\n   '../../results/big_dataset/TSD_angles\\\\S007S\\\\angl_left_hips_mov.csv'),\n  ('angl_left_should_mov',\n   '../../results/big_dataset/TSD_angles\\\\S007S\\\\angl_left_should_mov.csv'),\n  ('angl_left_wrist_round',\n   '../../results/big_dataset/TSD_angles\\\\S007S\\\\angl_left_wrist_round.csv'),\n  ('angl_right_cheek_mov',\n   '../../results/big_dataset/TSD_angles\\\\S007S\\\\angl_right_cheek_mov.csv'),\n  ('angl_right_elbow_mov',\n   '../../results/big_dataset/TSD_angles\\\\S007S\\\\angl_right_elbow_mov.csv'),\n  ('angl_right_fingers_pos_mov',\n   '../../results/big_dataset/TSD_angles\\\\S007S\\\\angl_right_fingers_pos_mov.csv'),\n  ('angl_right_hips_mov',\n   '../../results/big_dataset/TSD_angles\\\\S007S\\\\angl_right_hips_mov.csv'),\n  ('angl_right_should_mov',\n   '../../results/big_dataset/TSD_angles\\\\S007S\\\\angl_right_should_mov.csv')],\n 'S009C': [('angl_bow_mov',\n   '../../results/big_dataset/TSD_angles\\\\S009C\\\\angl_bow_mov.csv'),\n  ('angl_head_inclination',\n   '../../results/big_dataset/TSD_angles\\\\S009C\\\\angl_head_inclination.csv'),\n  ('angl_left_cheek_mov',\n   '../../results/big_dataset/TSD_angles\\\\S009C\\\\angl_left_cheek_mov.csv'),\n  ('angl_left_elbow_mov',\n   '../../results/big_dataset/TSD_angles\\\\S009C\\\\angl_left_elbow_mov.csv'),\n  ('angl_left_fingers_pos_mov',\n   '../../results/big_dataset/TSD_angles\\\\S009C\\\\angl_left_fingers_pos_mov.csv'),\n  ('angl_left_hips_mov',\n   '../../results/big_dataset/TSD_angles\\\\S009C\\\\angl_left_hips_mov.csv'),\n  ('angl_left_should_mov',\n   '../../results/big_dataset/TSD_angles\\\\S009C\\\\angl_left_should_mov.csv'),\n  ('angl_left_wrist_round',\n   '../../results/big_dataset/TSD_angles\\\\S009C\\\\angl_left_wrist_round.csv'),\n  ('angl_right_cheek_mov',\n   '../../results/big_dataset/TSD_angles\\\\S009C\\\\angl_right_cheek_mov.csv'),\n  ('angl_right_elbow_mov',\n   '../../results/big_dataset/TSD_angles\\\\S009C\\\\angl_right_elbow_mov.csv'),\n  ('angl_right_fingers_pos_mov',\n   '../../results/big_dataset/TSD_angles\\\\S009C\\\\angl_right_fingers_pos_mov.csv'),\n  ('angl_right_hips_mov',\n   '../../results/big_dataset/TSD_angles\\\\S009C\\\\angl_right_hips_mov.csv'),\n  ('angl_right_should_mov',\n   '../../results/big_dataset/TSD_angles\\\\S009C\\\\angl_right_should_mov.csv')],\n 'S009I': [('angl_bow_mov',\n   '../../results/big_dataset/TSD_angles\\\\S009I\\\\angl_bow_mov.csv'),\n  ('angl_head_inclination',\n   '../../results/big_dataset/TSD_angles\\\\S009I\\\\angl_head_inclination.csv'),\n  ('angl_left_cheek_mov',\n   '../../results/big_dataset/TSD_angles\\\\S009I\\\\angl_left_cheek_mov.csv'),\n  ('angl_left_elbow_mov',\n   '../../results/big_dataset/TSD_angles\\\\S009I\\\\angl_left_elbow_mov.csv'),\n  ('angl_left_fingers_pos_mov',\n   '../../results/big_dataset/TSD_angles\\\\S009I\\\\angl_left_fingers_pos_mov.csv'),\n  ('angl_left_hips_mov',\n   '../../results/big_dataset/TSD_angles\\\\S009I\\\\angl_left_hips_mov.csv'),\n  ('angl_left_should_mov',\n   '../../results/big_dataset/TSD_angles\\\\S009I\\\\angl_left_should_mov.csv'),\n  ('angl_left_wrist_round',\n   '../../results/big_dataset/TSD_angles\\\\S009I\\\\angl_left_wrist_round.csv'),\n  ('angl_right_cheek_mov',\n   '../../results/big_dataset/TSD_angles\\\\S009I\\\\angl_right_cheek_mov.csv'),\n  ('angl_right_elbow_mov',\n   '../../results/big_dataset/TSD_angles\\\\S009I\\\\angl_right_elbow_mov.csv'),\n  ('angl_right_fingers_pos_mov',\n   '../../results/big_dataset/TSD_angles\\\\S009I\\\\angl_right_fingers_pos_mov.csv'),\n  ('angl_right_hips_mov',\n   '../../results/big_dataset/TSD_angles\\\\S009I\\\\angl_right_hips_mov.csv'),\n  ('angl_right_should_mov',\n   '../../results/big_dataset/TSD_angles\\\\S009I\\\\angl_right_should_mov.csv')]}"
     },
     "execution_count": 74,
     "metadata": {},
     "output_type": "execute_result"
    }
   ],
   "source": [
    "paths_to_csv"
   ],
   "metadata": {
    "collapsed": false,
    "pycharm": {
     "name": "#%%\n"
    }
   }
  },
  {
   "cell_type": "code",
   "execution_count": 75,
   "outputs": [
    {
     "name": "stdout",
     "output_type": "stream",
     "text": [
      "['S001C', 'S002C', 'S007C', 'S008C', 'S009C', 'S002I', 'S003I', 'S005I', 'S007I', 'S009I', 'S001S', 'S002S', 'S004S', 'S007S', 'S009S']\n"
     ]
    }
   ],
   "source": [
    "# sort values to show firstly C class then I and S\n",
    "names_of_videos = [v for v in paths_to_csv.keys()]\n",
    "names_of_videos.sort(key=lambda v: v[::-1])\n",
    "print(names_of_videos)"
   ],
   "metadata": {
    "collapsed": false,
    "pycharm": {
     "name": "#%%\n"
    }
   }
  },
  {
   "cell_type": "code",
   "execution_count": 76,
   "outputs": [],
   "source": [
    "angles = pd.read_csv(paths_to_csv[names_of_videos[0]][0][1])['angle'].to_list()"
   ],
   "metadata": {
    "collapsed": false,
    "pycharm": {
     "name": "#%%\n"
    }
   }
  },
  {
   "cell_type": "code",
   "execution_count": 77,
   "outputs": [],
   "source": [
    "num_of_metrics = len(paths_to_csv[names_of_videos[0]])"
   ],
   "metadata": {
    "collapsed": false,
    "pycharm": {
     "name": "#%%\n"
    }
   }
  },
  {
   "cell_type": "code",
   "execution_count": 78,
   "outputs": [
    {
     "data": {
      "text/plain": "{'S001C': [('angl_bow_mov',\n   '../../results/big_dataset/TSD_angles\\\\S001C\\\\angl_bow_mov.csv'),\n  ('angl_head_inclination',\n   '../../results/big_dataset/TSD_angles\\\\S001C\\\\angl_head_inclination.csv'),\n  ('angl_left_cheek_mov',\n   '../../results/big_dataset/TSD_angles\\\\S001C\\\\angl_left_cheek_mov.csv'),\n  ('angl_left_elbow_mov',\n   '../../results/big_dataset/TSD_angles\\\\S001C\\\\angl_left_elbow_mov.csv'),\n  ('angl_left_fingers_pos_mov',\n   '../../results/big_dataset/TSD_angles\\\\S001C\\\\angl_left_fingers_pos_mov.csv'),\n  ('angl_left_hips_mov',\n   '../../results/big_dataset/TSD_angles\\\\S001C\\\\angl_left_hips_mov.csv'),\n  ('angl_left_should_mov',\n   '../../results/big_dataset/TSD_angles\\\\S001C\\\\angl_left_should_mov.csv'),\n  ('angl_left_wrist_round',\n   '../../results/big_dataset/TSD_angles\\\\S001C\\\\angl_left_wrist_round.csv'),\n  ('angl_right_cheek_mov',\n   '../../results/big_dataset/TSD_angles\\\\S001C\\\\angl_right_cheek_mov.csv'),\n  ('angl_right_elbow_mov',\n   '../../results/big_dataset/TSD_angles\\\\S001C\\\\angl_right_elbow_mov.csv'),\n  ('angl_right_fingers_pos_mov',\n   '../../results/big_dataset/TSD_angles\\\\S001C\\\\angl_right_fingers_pos_mov.csv'),\n  ('angl_right_hips_mov',\n   '../../results/big_dataset/TSD_angles\\\\S001C\\\\angl_right_hips_mov.csv'),\n  ('angl_right_should_mov',\n   '../../results/big_dataset/TSD_angles\\\\S001C\\\\angl_right_should_mov.csv')],\n 'S001S': [('angl_bow_mov',\n   '../../results/big_dataset/TSD_angles\\\\S001S\\\\angl_bow_mov.csv'),\n  ('angl_head_inclination',\n   '../../results/big_dataset/TSD_angles\\\\S001S\\\\angl_head_inclination.csv'),\n  ('angl_left_cheek_mov',\n   '../../results/big_dataset/TSD_angles\\\\S001S\\\\angl_left_cheek_mov.csv'),\n  ('angl_left_elbow_mov',\n   '../../results/big_dataset/TSD_angles\\\\S001S\\\\angl_left_elbow_mov.csv'),\n  ('angl_left_fingers_pos_mov',\n   '../../results/big_dataset/TSD_angles\\\\S001S\\\\angl_left_fingers_pos_mov.csv'),\n  ('angl_left_hips_mov',\n   '../../results/big_dataset/TSD_angles\\\\S001S\\\\angl_left_hips_mov.csv'),\n  ('angl_left_should_mov',\n   '../../results/big_dataset/TSD_angles\\\\S001S\\\\angl_left_should_mov.csv'),\n  ('angl_left_wrist_round',\n   '../../results/big_dataset/TSD_angles\\\\S001S\\\\angl_left_wrist_round.csv'),\n  ('angl_right_cheek_mov',\n   '../../results/big_dataset/TSD_angles\\\\S001S\\\\angl_right_cheek_mov.csv'),\n  ('angl_right_elbow_mov',\n   '../../results/big_dataset/TSD_angles\\\\S001S\\\\angl_right_elbow_mov.csv'),\n  ('angl_right_fingers_pos_mov',\n   '../../results/big_dataset/TSD_angles\\\\S001S\\\\angl_right_fingers_pos_mov.csv'),\n  ('angl_right_hips_mov',\n   '../../results/big_dataset/TSD_angles\\\\S001S\\\\angl_right_hips_mov.csv'),\n  ('angl_right_should_mov',\n   '../../results/big_dataset/TSD_angles\\\\S001S\\\\angl_right_should_mov.csv')],\n 'S002C': [('angl_bow_mov',\n   '../../results/big_dataset/TSD_angles\\\\S002C\\\\angl_bow_mov.csv'),\n  ('angl_head_inclination',\n   '../../results/big_dataset/TSD_angles\\\\S002C\\\\angl_head_inclination.csv'),\n  ('angl_left_cheek_mov',\n   '../../results/big_dataset/TSD_angles\\\\S002C\\\\angl_left_cheek_mov.csv'),\n  ('angl_left_elbow_mov',\n   '../../results/big_dataset/TSD_angles\\\\S002C\\\\angl_left_elbow_mov.csv'),\n  ('angl_left_fingers_pos_mov',\n   '../../results/big_dataset/TSD_angles\\\\S002C\\\\angl_left_fingers_pos_mov.csv'),\n  ('angl_left_hips_mov',\n   '../../results/big_dataset/TSD_angles\\\\S002C\\\\angl_left_hips_mov.csv'),\n  ('angl_left_should_mov',\n   '../../results/big_dataset/TSD_angles\\\\S002C\\\\angl_left_should_mov.csv'),\n  ('angl_left_wrist_round',\n   '../../results/big_dataset/TSD_angles\\\\S002C\\\\angl_left_wrist_round.csv'),\n  ('angl_right_cheek_mov',\n   '../../results/big_dataset/TSD_angles\\\\S002C\\\\angl_right_cheek_mov.csv'),\n  ('angl_right_elbow_mov',\n   '../../results/big_dataset/TSD_angles\\\\S002C\\\\angl_right_elbow_mov.csv'),\n  ('angl_right_fingers_pos_mov',\n   '../../results/big_dataset/TSD_angles\\\\S002C\\\\angl_right_fingers_pos_mov.csv'),\n  ('angl_right_hips_mov',\n   '../../results/big_dataset/TSD_angles\\\\S002C\\\\angl_right_hips_mov.csv'),\n  ('angl_right_should_mov',\n   '../../results/big_dataset/TSD_angles\\\\S002C\\\\angl_right_should_mov.csv')],\n 'S002I': [('angl_bow_mov',\n   '../../results/big_dataset/TSD_angles\\\\S002I\\\\angl_bow_mov.csv'),\n  ('angl_head_inclination',\n   '../../results/big_dataset/TSD_angles\\\\S002I\\\\angl_head_inclination.csv'),\n  ('angl_left_cheek_mov',\n   '../../results/big_dataset/TSD_angles\\\\S002I\\\\angl_left_cheek_mov.csv'),\n  ('angl_left_elbow_mov',\n   '../../results/big_dataset/TSD_angles\\\\S002I\\\\angl_left_elbow_mov.csv'),\n  ('angl_left_fingers_pos_mov',\n   '../../results/big_dataset/TSD_angles\\\\S002I\\\\angl_left_fingers_pos_mov.csv'),\n  ('angl_left_hips_mov',\n   '../../results/big_dataset/TSD_angles\\\\S002I\\\\angl_left_hips_mov.csv'),\n  ('angl_left_should_mov',\n   '../../results/big_dataset/TSD_angles\\\\S002I\\\\angl_left_should_mov.csv'),\n  ('angl_left_wrist_round',\n   '../../results/big_dataset/TSD_angles\\\\S002I\\\\angl_left_wrist_round.csv'),\n  ('angl_right_cheek_mov',\n   '../../results/big_dataset/TSD_angles\\\\S002I\\\\angl_right_cheek_mov.csv'),\n  ('angl_right_elbow_mov',\n   '../../results/big_dataset/TSD_angles\\\\S002I\\\\angl_right_elbow_mov.csv'),\n  ('angl_right_fingers_pos_mov',\n   '../../results/big_dataset/TSD_angles\\\\S002I\\\\angl_right_fingers_pos_mov.csv'),\n  ('angl_right_hips_mov',\n   '../../results/big_dataset/TSD_angles\\\\S002I\\\\angl_right_hips_mov.csv'),\n  ('angl_right_should_mov',\n   '../../results/big_dataset/TSD_angles\\\\S002I\\\\angl_right_should_mov.csv')],\n 'S003I': [('angl_bow_mov',\n   '../../results/big_dataset/TSD_angles\\\\S003I\\\\angl_bow_mov.csv'),\n  ('angl_head_inclination',\n   '../../results/big_dataset/TSD_angles\\\\S003I\\\\angl_head_inclination.csv'),\n  ('angl_left_cheek_mov',\n   '../../results/big_dataset/TSD_angles\\\\S003I\\\\angl_left_cheek_mov.csv'),\n  ('angl_left_elbow_mov',\n   '../../results/big_dataset/TSD_angles\\\\S003I\\\\angl_left_elbow_mov.csv'),\n  ('angl_left_fingers_pos_mov',\n   '../../results/big_dataset/TSD_angles\\\\S003I\\\\angl_left_fingers_pos_mov.csv'),\n  ('angl_left_hips_mov',\n   '../../results/big_dataset/TSD_angles\\\\S003I\\\\angl_left_hips_mov.csv'),\n  ('angl_left_should_mov',\n   '../../results/big_dataset/TSD_angles\\\\S003I\\\\angl_left_should_mov.csv'),\n  ('angl_left_wrist_round',\n   '../../results/big_dataset/TSD_angles\\\\S003I\\\\angl_left_wrist_round.csv'),\n  ('angl_right_cheek_mov',\n   '../../results/big_dataset/TSD_angles\\\\S003I\\\\angl_right_cheek_mov.csv'),\n  ('angl_right_elbow_mov',\n   '../../results/big_dataset/TSD_angles\\\\S003I\\\\angl_right_elbow_mov.csv'),\n  ('angl_right_fingers_pos_mov',\n   '../../results/big_dataset/TSD_angles\\\\S003I\\\\angl_right_fingers_pos_mov.csv'),\n  ('angl_right_hips_mov',\n   '../../results/big_dataset/TSD_angles\\\\S003I\\\\angl_right_hips_mov.csv'),\n  ('angl_right_should_mov',\n   '../../results/big_dataset/TSD_angles\\\\S003I\\\\angl_right_should_mov.csv')],\n 'S004S': [('angl_bow_mov',\n   '../../results/big_dataset/TSD_angles\\\\S004S\\\\angl_bow_mov.csv'),\n  ('angl_head_inclination',\n   '../../results/big_dataset/TSD_angles\\\\S004S\\\\angl_head_inclination.csv'),\n  ('angl_left_cheek_mov',\n   '../../results/big_dataset/TSD_angles\\\\S004S\\\\angl_left_cheek_mov.csv'),\n  ('angl_left_elbow_mov',\n   '../../results/big_dataset/TSD_angles\\\\S004S\\\\angl_left_elbow_mov.csv'),\n  ('angl_left_fingers_pos_mov',\n   '../../results/big_dataset/TSD_angles\\\\S004S\\\\angl_left_fingers_pos_mov.csv'),\n  ('angl_left_hips_mov',\n   '../../results/big_dataset/TSD_angles\\\\S004S\\\\angl_left_hips_mov.csv'),\n  ('angl_left_should_mov',\n   '../../results/big_dataset/TSD_angles\\\\S004S\\\\angl_left_should_mov.csv'),\n  ('angl_left_wrist_round',\n   '../../results/big_dataset/TSD_angles\\\\S004S\\\\angl_left_wrist_round.csv'),\n  ('angl_right_cheek_mov',\n   '../../results/big_dataset/TSD_angles\\\\S004S\\\\angl_right_cheek_mov.csv'),\n  ('angl_right_elbow_mov',\n   '../../results/big_dataset/TSD_angles\\\\S004S\\\\angl_right_elbow_mov.csv'),\n  ('angl_right_fingers_pos_mov',\n   '../../results/big_dataset/TSD_angles\\\\S004S\\\\angl_right_fingers_pos_mov.csv'),\n  ('angl_right_hips_mov',\n   '../../results/big_dataset/TSD_angles\\\\S004S\\\\angl_right_hips_mov.csv'),\n  ('angl_right_should_mov',\n   '../../results/big_dataset/TSD_angles\\\\S004S\\\\angl_right_should_mov.csv')],\n 'S005I': [('angl_bow_mov',\n   '../../results/big_dataset/TSD_angles\\\\S005I\\\\angl_bow_mov.csv'),\n  ('angl_head_inclination',\n   '../../results/big_dataset/TSD_angles\\\\S005I\\\\angl_head_inclination.csv'),\n  ('angl_left_cheek_mov',\n   '../../results/big_dataset/TSD_angles\\\\S005I\\\\angl_left_cheek_mov.csv'),\n  ('angl_left_elbow_mov',\n   '../../results/big_dataset/TSD_angles\\\\S005I\\\\angl_left_elbow_mov.csv'),\n  ('angl_left_fingers_pos_mov',\n   '../../results/big_dataset/TSD_angles\\\\S005I\\\\angl_left_fingers_pos_mov.csv'),\n  ('angl_left_hips_mov',\n   '../../results/big_dataset/TSD_angles\\\\S005I\\\\angl_left_hips_mov.csv'),\n  ('angl_left_should_mov',\n   '../../results/big_dataset/TSD_angles\\\\S005I\\\\angl_left_should_mov.csv'),\n  ('angl_left_wrist_round',\n   '../../results/big_dataset/TSD_angles\\\\S005I\\\\angl_left_wrist_round.csv'),\n  ('angl_right_cheek_mov',\n   '../../results/big_dataset/TSD_angles\\\\S005I\\\\angl_right_cheek_mov.csv'),\n  ('angl_right_elbow_mov',\n   '../../results/big_dataset/TSD_angles\\\\S005I\\\\angl_right_elbow_mov.csv'),\n  ('angl_right_fingers_pos_mov',\n   '../../results/big_dataset/TSD_angles\\\\S005I\\\\angl_right_fingers_pos_mov.csv'),\n  ('angl_right_hips_mov',\n   '../../results/big_dataset/TSD_angles\\\\S005I\\\\angl_right_hips_mov.csv'),\n  ('angl_right_should_mov',\n   '../../results/big_dataset/TSD_angles\\\\S005I\\\\angl_right_should_mov.csv')],\n 'S008C': [('angl_bow_mov',\n   '../../results/big_dataset/TSD_angles\\\\S008C\\\\angl_bow_mov.csv'),\n  ('angl_head_inclination',\n   '../../results/big_dataset/TSD_angles\\\\S008C\\\\angl_head_inclination.csv'),\n  ('angl_left_cheek_mov',\n   '../../results/big_dataset/TSD_angles\\\\S008C\\\\angl_left_cheek_mov.csv'),\n  ('angl_left_elbow_mov',\n   '../../results/big_dataset/TSD_angles\\\\S008C\\\\angl_left_elbow_mov.csv'),\n  ('angl_left_fingers_pos_mov',\n   '../../results/big_dataset/TSD_angles\\\\S008C\\\\angl_left_fingers_pos_mov.csv'),\n  ('angl_left_hips_mov',\n   '../../results/big_dataset/TSD_angles\\\\S008C\\\\angl_left_hips_mov.csv'),\n  ('angl_left_should_mov',\n   '../../results/big_dataset/TSD_angles\\\\S008C\\\\angl_left_should_mov.csv'),\n  ('angl_left_wrist_round',\n   '../../results/big_dataset/TSD_angles\\\\S008C\\\\angl_left_wrist_round.csv'),\n  ('angl_right_cheek_mov',\n   '../../results/big_dataset/TSD_angles\\\\S008C\\\\angl_right_cheek_mov.csv'),\n  ('angl_right_elbow_mov',\n   '../../results/big_dataset/TSD_angles\\\\S008C\\\\angl_right_elbow_mov.csv'),\n  ('angl_right_fingers_pos_mov',\n   '../../results/big_dataset/TSD_angles\\\\S008C\\\\angl_right_fingers_pos_mov.csv'),\n  ('angl_right_hips_mov',\n   '../../results/big_dataset/TSD_angles\\\\S008C\\\\angl_right_hips_mov.csv'),\n  ('angl_right_should_mov',\n   '../../results/big_dataset/TSD_angles\\\\S008C\\\\angl_right_should_mov.csv')],\n 'S009S': [('angl_bow_mov',\n   '../../results/big_dataset/TSD_angles\\\\S009S\\\\angl_bow_mov.csv'),\n  ('angl_head_inclination',\n   '../../results/big_dataset/TSD_angles\\\\S009S\\\\angl_head_inclination.csv'),\n  ('angl_left_cheek_mov',\n   '../../results/big_dataset/TSD_angles\\\\S009S\\\\angl_left_cheek_mov.csv'),\n  ('angl_left_elbow_mov',\n   '../../results/big_dataset/TSD_angles\\\\S009S\\\\angl_left_elbow_mov.csv'),\n  ('angl_left_fingers_pos_mov',\n   '../../results/big_dataset/TSD_angles\\\\S009S\\\\angl_left_fingers_pos_mov.csv'),\n  ('angl_left_hips_mov',\n   '../../results/big_dataset/TSD_angles\\\\S009S\\\\angl_left_hips_mov.csv'),\n  ('angl_left_should_mov',\n   '../../results/big_dataset/TSD_angles\\\\S009S\\\\angl_left_should_mov.csv'),\n  ('angl_left_wrist_round',\n   '../../results/big_dataset/TSD_angles\\\\S009S\\\\angl_left_wrist_round.csv'),\n  ('angl_right_cheek_mov',\n   '../../results/big_dataset/TSD_angles\\\\S009S\\\\angl_right_cheek_mov.csv'),\n  ('angl_right_elbow_mov',\n   '../../results/big_dataset/TSD_angles\\\\S009S\\\\angl_right_elbow_mov.csv'),\n  ('angl_right_fingers_pos_mov',\n   '../../results/big_dataset/TSD_angles\\\\S009S\\\\angl_right_fingers_pos_mov.csv'),\n  ('angl_right_hips_mov',\n   '../../results/big_dataset/TSD_angles\\\\S009S\\\\angl_right_hips_mov.csv'),\n  ('angl_right_should_mov',\n   '../../results/big_dataset/TSD_angles\\\\S009S\\\\angl_right_should_mov.csv')],\n 'S002S': [('angl_bow_mov',\n   '../../results/big_dataset/TSD_angles\\\\S002S\\\\angl_bow_mov.csv'),\n  ('angl_head_inclination',\n   '../../results/big_dataset/TSD_angles\\\\S002S\\\\angl_head_inclination.csv'),\n  ('angl_left_cheek_mov',\n   '../../results/big_dataset/TSD_angles\\\\S002S\\\\angl_left_cheek_mov.csv'),\n  ('angl_left_elbow_mov',\n   '../../results/big_dataset/TSD_angles\\\\S002S\\\\angl_left_elbow_mov.csv'),\n  ('angl_left_fingers_pos_mov',\n   '../../results/big_dataset/TSD_angles\\\\S002S\\\\angl_left_fingers_pos_mov.csv'),\n  ('angl_left_hips_mov',\n   '../../results/big_dataset/TSD_angles\\\\S002S\\\\angl_left_hips_mov.csv'),\n  ('angl_left_should_mov',\n   '../../results/big_dataset/TSD_angles\\\\S002S\\\\angl_left_should_mov.csv'),\n  ('angl_left_wrist_round',\n   '../../results/big_dataset/TSD_angles\\\\S002S\\\\angl_left_wrist_round.csv'),\n  ('angl_right_cheek_mov',\n   '../../results/big_dataset/TSD_angles\\\\S002S\\\\angl_right_cheek_mov.csv'),\n  ('angl_right_elbow_mov',\n   '../../results/big_dataset/TSD_angles\\\\S002S\\\\angl_right_elbow_mov.csv'),\n  ('angl_right_fingers_pos_mov',\n   '../../results/big_dataset/TSD_angles\\\\S002S\\\\angl_right_fingers_pos_mov.csv'),\n  ('angl_right_hips_mov',\n   '../../results/big_dataset/TSD_angles\\\\S002S\\\\angl_right_hips_mov.csv'),\n  ('angl_right_should_mov',\n   '../../results/big_dataset/TSD_angles\\\\S002S\\\\angl_right_should_mov.csv')],\n 'S007C': [('angl_bow_mov',\n   '../../results/big_dataset/TSD_angles\\\\S007C\\\\angl_bow_mov.csv'),\n  ('angl_head_inclination',\n   '../../results/big_dataset/TSD_angles\\\\S007C\\\\angl_head_inclination.csv'),\n  ('angl_left_cheek_mov',\n   '../../results/big_dataset/TSD_angles\\\\S007C\\\\angl_left_cheek_mov.csv'),\n  ('angl_left_elbow_mov',\n   '../../results/big_dataset/TSD_angles\\\\S007C\\\\angl_left_elbow_mov.csv'),\n  ('angl_left_fingers_pos_mov',\n   '../../results/big_dataset/TSD_angles\\\\S007C\\\\angl_left_fingers_pos_mov.csv'),\n  ('angl_left_hips_mov',\n   '../../results/big_dataset/TSD_angles\\\\S007C\\\\angl_left_hips_mov.csv'),\n  ('angl_left_should_mov',\n   '../../results/big_dataset/TSD_angles\\\\S007C\\\\angl_left_should_mov.csv'),\n  ('angl_left_wrist_round',\n   '../../results/big_dataset/TSD_angles\\\\S007C\\\\angl_left_wrist_round.csv'),\n  ('angl_right_cheek_mov',\n   '../../results/big_dataset/TSD_angles\\\\S007C\\\\angl_right_cheek_mov.csv'),\n  ('angl_right_elbow_mov',\n   '../../results/big_dataset/TSD_angles\\\\S007C\\\\angl_right_elbow_mov.csv'),\n  ('angl_right_fingers_pos_mov',\n   '../../results/big_dataset/TSD_angles\\\\S007C\\\\angl_right_fingers_pos_mov.csv'),\n  ('angl_right_hips_mov',\n   '../../results/big_dataset/TSD_angles\\\\S007C\\\\angl_right_hips_mov.csv'),\n  ('angl_right_should_mov',\n   '../../results/big_dataset/TSD_angles\\\\S007C\\\\angl_right_should_mov.csv')],\n 'S007I': [('angl_bow_mov',\n   '../../results/big_dataset/TSD_angles\\\\S007I\\\\angl_bow_mov.csv'),\n  ('angl_head_inclination',\n   '../../results/big_dataset/TSD_angles\\\\S007I\\\\angl_head_inclination.csv'),\n  ('angl_left_cheek_mov',\n   '../../results/big_dataset/TSD_angles\\\\S007I\\\\angl_left_cheek_mov.csv'),\n  ('angl_left_elbow_mov',\n   '../../results/big_dataset/TSD_angles\\\\S007I\\\\angl_left_elbow_mov.csv'),\n  ('angl_left_fingers_pos_mov',\n   '../../results/big_dataset/TSD_angles\\\\S007I\\\\angl_left_fingers_pos_mov.csv'),\n  ('angl_left_hips_mov',\n   '../../results/big_dataset/TSD_angles\\\\S007I\\\\angl_left_hips_mov.csv'),\n  ('angl_left_should_mov',\n   '../../results/big_dataset/TSD_angles\\\\S007I\\\\angl_left_should_mov.csv'),\n  ('angl_left_wrist_round',\n   '../../results/big_dataset/TSD_angles\\\\S007I\\\\angl_left_wrist_round.csv'),\n  ('angl_right_cheek_mov',\n   '../../results/big_dataset/TSD_angles\\\\S007I\\\\angl_right_cheek_mov.csv'),\n  ('angl_right_elbow_mov',\n   '../../results/big_dataset/TSD_angles\\\\S007I\\\\angl_right_elbow_mov.csv'),\n  ('angl_right_fingers_pos_mov',\n   '../../results/big_dataset/TSD_angles\\\\S007I\\\\angl_right_fingers_pos_mov.csv'),\n  ('angl_right_hips_mov',\n   '../../results/big_dataset/TSD_angles\\\\S007I\\\\angl_right_hips_mov.csv'),\n  ('angl_right_should_mov',\n   '../../results/big_dataset/TSD_angles\\\\S007I\\\\angl_right_should_mov.csv')],\n 'S007S': [('angl_bow_mov',\n   '../../results/big_dataset/TSD_angles\\\\S007S\\\\angl_bow_mov.csv'),\n  ('angl_head_inclination',\n   '../../results/big_dataset/TSD_angles\\\\S007S\\\\angl_head_inclination.csv'),\n  ('angl_left_cheek_mov',\n   '../../results/big_dataset/TSD_angles\\\\S007S\\\\angl_left_cheek_mov.csv'),\n  ('angl_left_elbow_mov',\n   '../../results/big_dataset/TSD_angles\\\\S007S\\\\angl_left_elbow_mov.csv'),\n  ('angl_left_fingers_pos_mov',\n   '../../results/big_dataset/TSD_angles\\\\S007S\\\\angl_left_fingers_pos_mov.csv'),\n  ('angl_left_hips_mov',\n   '../../results/big_dataset/TSD_angles\\\\S007S\\\\angl_left_hips_mov.csv'),\n  ('angl_left_should_mov',\n   '../../results/big_dataset/TSD_angles\\\\S007S\\\\angl_left_should_mov.csv'),\n  ('angl_left_wrist_round',\n   '../../results/big_dataset/TSD_angles\\\\S007S\\\\angl_left_wrist_round.csv'),\n  ('angl_right_cheek_mov',\n   '../../results/big_dataset/TSD_angles\\\\S007S\\\\angl_right_cheek_mov.csv'),\n  ('angl_right_elbow_mov',\n   '../../results/big_dataset/TSD_angles\\\\S007S\\\\angl_right_elbow_mov.csv'),\n  ('angl_right_fingers_pos_mov',\n   '../../results/big_dataset/TSD_angles\\\\S007S\\\\angl_right_fingers_pos_mov.csv'),\n  ('angl_right_hips_mov',\n   '../../results/big_dataset/TSD_angles\\\\S007S\\\\angl_right_hips_mov.csv'),\n  ('angl_right_should_mov',\n   '../../results/big_dataset/TSD_angles\\\\S007S\\\\angl_right_should_mov.csv')],\n 'S009C': [('angl_bow_mov',\n   '../../results/big_dataset/TSD_angles\\\\S009C\\\\angl_bow_mov.csv'),\n  ('angl_head_inclination',\n   '../../results/big_dataset/TSD_angles\\\\S009C\\\\angl_head_inclination.csv'),\n  ('angl_left_cheek_mov',\n   '../../results/big_dataset/TSD_angles\\\\S009C\\\\angl_left_cheek_mov.csv'),\n  ('angl_left_elbow_mov',\n   '../../results/big_dataset/TSD_angles\\\\S009C\\\\angl_left_elbow_mov.csv'),\n  ('angl_left_fingers_pos_mov',\n   '../../results/big_dataset/TSD_angles\\\\S009C\\\\angl_left_fingers_pos_mov.csv'),\n  ('angl_left_hips_mov',\n   '../../results/big_dataset/TSD_angles\\\\S009C\\\\angl_left_hips_mov.csv'),\n  ('angl_left_should_mov',\n   '../../results/big_dataset/TSD_angles\\\\S009C\\\\angl_left_should_mov.csv'),\n  ('angl_left_wrist_round',\n   '../../results/big_dataset/TSD_angles\\\\S009C\\\\angl_left_wrist_round.csv'),\n  ('angl_right_cheek_mov',\n   '../../results/big_dataset/TSD_angles\\\\S009C\\\\angl_right_cheek_mov.csv'),\n  ('angl_right_elbow_mov',\n   '../../results/big_dataset/TSD_angles\\\\S009C\\\\angl_right_elbow_mov.csv'),\n  ('angl_right_fingers_pos_mov',\n   '../../results/big_dataset/TSD_angles\\\\S009C\\\\angl_right_fingers_pos_mov.csv'),\n  ('angl_right_hips_mov',\n   '../../results/big_dataset/TSD_angles\\\\S009C\\\\angl_right_hips_mov.csv'),\n  ('angl_right_should_mov',\n   '../../results/big_dataset/TSD_angles\\\\S009C\\\\angl_right_should_mov.csv')],\n 'S009I': [('angl_bow_mov',\n   '../../results/big_dataset/TSD_angles\\\\S009I\\\\angl_bow_mov.csv'),\n  ('angl_head_inclination',\n   '../../results/big_dataset/TSD_angles\\\\S009I\\\\angl_head_inclination.csv'),\n  ('angl_left_cheek_mov',\n   '../../results/big_dataset/TSD_angles\\\\S009I\\\\angl_left_cheek_mov.csv'),\n  ('angl_left_elbow_mov',\n   '../../results/big_dataset/TSD_angles\\\\S009I\\\\angl_left_elbow_mov.csv'),\n  ('angl_left_fingers_pos_mov',\n   '../../results/big_dataset/TSD_angles\\\\S009I\\\\angl_left_fingers_pos_mov.csv'),\n  ('angl_left_hips_mov',\n   '../../results/big_dataset/TSD_angles\\\\S009I\\\\angl_left_hips_mov.csv'),\n  ('angl_left_should_mov',\n   '../../results/big_dataset/TSD_angles\\\\S009I\\\\angl_left_should_mov.csv'),\n  ('angl_left_wrist_round',\n   '../../results/big_dataset/TSD_angles\\\\S009I\\\\angl_left_wrist_round.csv'),\n  ('angl_right_cheek_mov',\n   '../../results/big_dataset/TSD_angles\\\\S009I\\\\angl_right_cheek_mov.csv'),\n  ('angl_right_elbow_mov',\n   '../../results/big_dataset/TSD_angles\\\\S009I\\\\angl_right_elbow_mov.csv'),\n  ('angl_right_fingers_pos_mov',\n   '../../results/big_dataset/TSD_angles\\\\S009I\\\\angl_right_fingers_pos_mov.csv'),\n  ('angl_right_hips_mov',\n   '../../results/big_dataset/TSD_angles\\\\S009I\\\\angl_right_hips_mov.csv'),\n  ('angl_right_should_mov',\n   '../../results/big_dataset/TSD_angles\\\\S009I\\\\angl_right_should_mov.csv')]}"
     },
     "execution_count": 78,
     "metadata": {},
     "output_type": "execute_result"
    }
   ],
   "source": [
    "paths_to_csv"
   ],
   "metadata": {
    "collapsed": false,
    "pycharm": {
     "name": "#%%\n"
    }
   }
  },
  {
   "cell_type": "code",
   "execution_count": 10,
   "outputs": [],
   "source": [],
   "metadata": {
    "collapsed": false,
    "pycharm": {
     "name": "#%%\n"
    }
   }
  },
  {
   "cell_type": "code",
   "execution_count": 11,
   "outputs": [
    {
     "name": "stdout",
     "output_type": "stream",
     "text": [
      "S001C\n",
      "S001C\n",
      "S001C\n",
      "S001C\n",
      "S001C\n",
      "S001C\n",
      "S001C\n",
      "S001C\n",
      "S001C\n",
      "S001C\n",
      "S001C\n",
      "S001C\n",
      "S001C\n",
      "S002C\n",
      "S002C\n",
      "S002C\n",
      "S002C\n",
      "S002C\n",
      "S002C\n",
      "S002C\n",
      "S002C\n",
      "S002C\n",
      "S002C\n",
      "S002C\n",
      "S002C\n",
      "S002C\n",
      "S007C\n",
      "S007C\n",
      "S007C\n",
      "S007C\n",
      "S007C\n",
      "S007C\n",
      "S007C\n",
      "S007C\n",
      "S007C\n",
      "S007C\n",
      "S007C\n",
      "S007C\n",
      "S007C\n",
      "S008C\n",
      "S008C\n",
      "S008C\n",
      "S008C\n",
      "S008C\n",
      "S008C\n",
      "S008C\n",
      "S008C\n",
      "S008C\n",
      "S008C\n",
      "S008C\n",
      "S008C\n",
      "S008C\n",
      "S009C\n",
      "S009C\n",
      "S009C\n",
      "S009C\n",
      "S009C\n",
      "S009C\n",
      "S009C\n",
      "S009C\n",
      "S009C\n",
      "S009C\n",
      "S009C\n",
      "S009C\n",
      "S009C\n",
      "S002I\n",
      "S002I\n",
      "S002I\n",
      "S002I\n",
      "S002I\n",
      "S002I\n",
      "S002I\n",
      "S002I\n",
      "S002I\n",
      "S002I\n",
      "S002I\n",
      "S002I\n",
      "S002I\n",
      "S003I\n",
      "S003I\n",
      "S003I\n",
      "S003I\n",
      "S003I\n",
      "S003I\n",
      "S003I\n",
      "S003I\n",
      "S003I\n",
      "S003I\n",
      "S003I\n",
      "S003I\n",
      "S003I\n",
      "S005I\n",
      "S005I\n",
      "S005I\n",
      "S005I\n",
      "S005I\n",
      "S005I\n",
      "S005I\n",
      "S005I\n",
      "S005I\n",
      "S005I\n",
      "S005I\n",
      "S005I\n",
      "S005I\n",
      "S007I\n",
      "S007I\n",
      "S007I\n",
      "S007I\n",
      "S007I\n",
      "S007I\n",
      "S007I\n",
      "S007I\n",
      "S007I\n",
      "S007I\n",
      "S007I\n",
      "S007I\n",
      "S007I\n",
      "S009I\n",
      "S009I\n",
      "S009I\n",
      "S009I\n",
      "S009I\n",
      "S009I\n",
      "S009I\n",
      "S009I\n",
      "S009I\n",
      "S009I\n",
      "S009I\n",
      "S009I\n",
      "S009I\n",
      "S001S\n",
      "S001S\n",
      "S001S\n",
      "S001S\n",
      "S001S\n",
      "S001S\n",
      "S001S\n",
      "S001S\n",
      "S001S\n",
      "S001S\n",
      "S001S\n",
      "S001S\n",
      "S001S\n",
      "S002S\n",
      "S002S\n",
      "S002S\n",
      "S002S\n",
      "S002S\n",
      "S002S\n",
      "S002S\n",
      "S002S\n",
      "S002S\n",
      "S002S\n",
      "S002S\n",
      "S002S\n",
      "S002S\n",
      "S004S\n",
      "S004S\n",
      "S004S\n",
      "S004S\n",
      "S004S\n",
      "S004S\n",
      "S004S\n",
      "S004S\n",
      "S004S\n",
      "S004S\n",
      "S004S\n",
      "S004S\n",
      "S004S\n",
      "S007S\n",
      "S007S\n",
      "S007S\n",
      "S007S\n",
      "S007S\n",
      "S007S\n",
      "S007S\n",
      "S007S\n",
      "S007S\n",
      "S007S\n",
      "S007S\n",
      "S007S\n",
      "S007S\n",
      "S009S\n",
      "S009S\n",
      "S009S\n",
      "S009S\n",
      "S009S\n",
      "S009S\n",
      "S009S\n",
      "S009S\n",
      "S009S\n",
      "S009S\n",
      "S009S\n",
      "S009S\n",
      "S009S\n"
     ]
    }
   ],
   "source": [
    "limits_max = np.zeros(num_of_metrics)\n",
    "limits_min = [10000]*num_of_metrics\n",
    "for i in range(len(names_of_videos)):\n",
    "    for j in range(num_of_metrics):\n",
    "        print(names_of_videos[i])\n",
    "        curr_metric, curr_path = paths_to_csv[names_of_videos[i]][j]\n",
    "        angles = pd.read_csv(curr_path)['angle'].to_list()\n",
    "        angle_max = max(angles)\n",
    "        angle_min = min(angles)\n",
    "        if limits_max[j] < angle_max:\n",
    "            limits_max[j] = angle_max\n",
    "        if limits_min[j] > angle_min:\n",
    "            limits_min[j] = angle_min"
   ],
   "metadata": {
    "collapsed": false,
    "pycharm": {
     "name": "#%%\n"
    }
   }
  },
  {
   "cell_type": "code",
   "execution_count": 12,
   "outputs": [],
   "source": [
    "experiment_suff = \"big_dataset_\""
   ],
   "metadata": {
    "collapsed": false,
    "pycharm": {
     "name": "#%%\n"
    }
   }
  },
  {
   "cell_type": "code",
   "execution_count": 13,
   "outputs": [],
   "source": [
    "def smooth_time_series(time_series, window_size):\n",
    "    smoothed_series = []\n",
    "    for i in range(len(time_series)):\n",
    "        lower_bound = max(0, i - window_size)\n",
    "        upper_bound = min(len(time_series), i + window_size + 1)\n",
    "        window = time_series[lower_bound:upper_bound]\n",
    "        average = sum(window) / len(window)\n",
    "        smoothed_series.append(average)\n",
    "    return smoothed_series"
   ],
   "metadata": {
    "collapsed": false,
    "pycharm": {
     "name": "#%%\n"
    }
   }
  },
  {
   "cell_type": "code",
   "execution_count": 14,
   "outputs": [],
   "source": [
    "fig, axs = plt.subplots(len(paths_to_csv['S005I']),len(names_of_videos), figsize=(260, 90))\n",
    "for i in range(len(names_of_videos)):\n",
    "    #for j in range(num_of_metrics):\n",
    "    for j in [0,]:\n",
    "        curr_metric, curr_path = paths_to_csv[names_of_videos[i]][j]\n",
    "        angles = smooth_time_series(pd.read_csv(curr_path)['angle'].to_list(), 10)\n",
    "        axs[j][i].plot(angles)\n",
    "        axs[j][i].title.set_text(names_of_videos[i] + \"\\n\" + curr_metric)\n",
    "        axs[j][i].set_yticks(np.arange(limits_min[j], limits_max[j], step=50))\n",
    "plt.tight_layout()\n",
    "plt.savefig(experiment_suff+\"results_consider_angles.png\")\n",
    "plt.close()"
   ],
   "metadata": {
    "collapsed": false,
    "pycharm": {
     "name": "#%%\n"
    }
   }
  },
  {
   "cell_type": "code",
   "execution_count": 34,
   "outputs": [],
   "source": [],
   "metadata": {
    "collapsed": false,
    "pycharm": {
     "name": "#%%\n"
    }
   }
  },
  {
   "cell_type": "markdown",
   "source": [
    "## Results\n",
    "We can see the pattern in the following angle -> rwrist, lshoul, lhip (moving of the bow)"
   ],
   "metadata": {
    "collapsed": false
   }
  },
  {
   "cell_type": "markdown",
   "source": [],
   "metadata": {
    "collapsed": false
   }
  },
  {
   "cell_type": "markdown",
   "source": [
    "# Analyse the moving of the bow"
   ],
   "metadata": {
    "collapsed": false
   }
  },
  {
   "cell_type": "code",
   "execution_count": 111,
   "outputs": [],
   "source": [
    "bow_moving = []\n",
    "titles = []"
   ],
   "metadata": {
    "collapsed": false,
    "pycharm": {
     "name": "#%%\n"
    }
   }
  },
  {
   "cell_type": "code",
   "execution_count": 115,
   "outputs": [
    {
     "data": {
      "text/plain": "15"
     },
     "execution_count": 115,
     "metadata": {},
     "output_type": "execute_result"
    }
   ],
   "source": [
    "len(names_of_videos)"
   ],
   "metadata": {
    "collapsed": false,
    "pycharm": {
     "name": "#%%\n"
    }
   }
  },
  {
   "cell_type": "code",
   "execution_count": 116,
   "outputs": [
    {
     "data": {
      "text/plain": "15"
     },
     "execution_count": 116,
     "metadata": {},
     "output_type": "execute_result"
    }
   ],
   "source": [
    "len(paths_to_csv)"
   ],
   "metadata": {
    "collapsed": false,
    "pycharm": {
     "name": "#%%\n"
    }
   }
  },
  {
   "cell_type": "code",
   "execution_count": 117,
   "outputs": [
    {
     "name": "stdout",
     "output_type": "stream",
     "text": [
      "../../results/big_dataset/TSD_angles\\S001C\\angl_bow_mov.csv\n",
      "angl_bow_mov\n",
      "S001C\n",
      "../../results/big_dataset/TSD_angles\\S002C\\angl_bow_mov.csv\n",
      "angl_bow_mov\n",
      "S002C\n",
      "../../results/big_dataset/TSD_angles\\S007C\\angl_bow_mov.csv\n",
      "angl_bow_mov\n",
      "S007C\n",
      "../../results/big_dataset/TSD_angles\\S008C\\angl_bow_mov.csv\n",
      "angl_bow_mov\n",
      "S008C\n",
      "../../results/big_dataset/TSD_angles\\S009C\\angl_bow_mov.csv\n",
      "angl_bow_mov\n",
      "S009C\n",
      "../../results/big_dataset/TSD_angles\\S002I\\angl_bow_mov.csv\n",
      "angl_bow_mov\n",
      "S002I\n",
      "../../results/big_dataset/TSD_angles\\S003I\\angl_bow_mov.csv\n",
      "angl_bow_mov\n",
      "S003I\n",
      "../../results/big_dataset/TSD_angles\\S005I\\angl_bow_mov.csv\n",
      "angl_bow_mov\n",
      "S005I\n",
      "../../results/big_dataset/TSD_angles\\S007I\\angl_bow_mov.csv\n",
      "angl_bow_mov\n",
      "S007I\n",
      "../../results/big_dataset/TSD_angles\\S009I\\angl_bow_mov.csv\n",
      "angl_bow_mov\n",
      "S009I\n",
      "../../results/big_dataset/TSD_angles\\S001S\\angl_bow_mov.csv\n",
      "angl_bow_mov\n",
      "S001S\n",
      "../../results/big_dataset/TSD_angles\\S002S\\angl_bow_mov.csv\n",
      "angl_bow_mov\n",
      "S002S\n",
      "../../results/big_dataset/TSD_angles\\S004S\\angl_bow_mov.csv\n",
      "angl_bow_mov\n",
      "S004S\n",
      "../../results/big_dataset/TSD_angles\\S007S\\angl_bow_mov.csv\n",
      "angl_bow_mov\n",
      "S007S\n",
      "../../results/big_dataset/TSD_angles\\S009S\\angl_bow_mov.csv\n",
      "angl_bow_mov\n",
      "S009S\n"
     ]
    }
   ],
   "source": [
    "for i in range(len(names_of_videos)):\n",
    "    curr_metric, curr_path = paths_to_csv[names_of_videos[i]][0]\n",
    "    print(curr_path)\n",
    "    print(curr_metric)\n",
    "    title = curr_path.split('/')[-1].split('\\\\')[1]\n",
    "    titles.append(title)\n",
    "    print(title)\n",
    "    angles = pd.read_csv(curr_path)['angle'].to_list()\n",
    "    bow_moving.append(angles)"
   ],
   "metadata": {
    "collapsed": false,
    "pycharm": {
     "name": "#%%\n"
    }
   }
  },
  {
   "cell_type": "code",
   "execution_count": 118,
   "outputs": [
    {
     "name": "stdout",
     "output_type": "stream",
     "text": [
      "15\n",
      "10760\n"
     ]
    }
   ],
   "source": [
    "print(len(bow_moving))\n",
    "print(len(bow_moving[0]))"
   ],
   "metadata": {
    "collapsed": false,
    "pycharm": {
     "name": "#%%\n"
    }
   }
  },
  {
   "cell_type": "code",
   "execution_count": 119,
   "outputs": [],
   "source": [
    "def calculate_sign_change_rate(time_series):\n",
    "    count = 0\n",
    "    for i in range(1, len(time_series)):\n",
    "        if time_series[i] * time_series[i-1] < 0:\n",
    "            count += 1\n",
    "    #sign_change_rate = count / (len(time_series) - 1)\n",
    "    return count\n",
    "\n",
    "def calc_area(values):\n",
    "  values = np.array(values)\n",
    "  indices = np.where(values > 0)[0]\n",
    "  area_pos = np.trapz(values[indices])\n",
    "  indices = np.where(values < 0)[0]\n",
    "  area_neg = np.trapz(values[indices])\n",
    "  return area_pos, area_neg\n",
    "\n",
    "def shift_data(series):\n",
    "  median = statistics.median(series)\n",
    "  shifted_data = [x - median for x in series]\n",
    "  return shifted_data\n",
    "\n",
    "def classify_time_series(values, titles):\n",
    "  arr = []\n",
    "\n",
    "  for v in values:\n",
    "    s = calculate_sign_change_rate(v)\n",
    "    arr.append(s)\n",
    "\n",
    "  thres= int(statistics.mean(arr))\n",
    "\n",
    "  for i, series in enumerate(values):\n",
    "    s = arr[i]\n",
    "    title = titles[i]\n",
    "\n",
    "    if s > thres:\n",
    "      print(title, \" Shuffled\")\n",
    "    else:\n",
    "      a1, a2 = calc_area(series)\n",
    "      if abs(a2) < a1/3:\n",
    "        print(title,\" Inverted\")\n",
    "      else:\n",
    "        print(title,\" Correct\")\n"
   ],
   "metadata": {
    "collapsed": false,
    "pycharm": {
     "name": "#%%\n"
    }
   }
  },
  {
   "cell_type": "code",
   "execution_count": 135,
   "outputs": [],
   "source": [
    "\n",
    "def classify_time_series(angl_bow_mov, titles):\n",
    "    num_rows = 8\n",
    "    num_cols = 2\n",
    "    shifted_smooth_series = []\n",
    "    fig, axes = plt.subplots(num_rows, num_cols, figsize=(50, 18))\n",
    "    plt.rcParams['font.size'] = 20\n",
    "    axes = axes.flatten()\n",
    "    sign_change_arr = []\n",
    "    #print(len(angl_bow_mov))\n",
    "    for i, series in enumerate(angl_bow_mov):\n",
    "      smoothed_data = smooth_time_series(series, 10)\n",
    "      #neg_smoothed_data = negate_below_median(smoothed_data)\n",
    "      title = titles[i]\n",
    "      #num_sign_change = calculate_sign_change_rate(neg_smoothed_data)\n",
    "      #print(title, \" \", num_sign_change)\n",
    "\n",
    "      ax = axes[i]\n",
    "        #series = eliminate_lowest_values(series,10)\n",
    "        #average = sum(time_series) / len(time_series)\n",
    "      median = statistics.median(smoothed_data)\n",
    "      #mode = statistics.mode(smoothed_data)\n",
    "      shifted_data = shift_data(smoothed_data)\n",
    "      #shifted_data = smooth_time_series(shifted_data, 15)\n",
    "      ax.axhline(median, color='r', linestyle='--', label='median')\n",
    "      ax.axhline(0, color='g', linestyle='--', label='median')\n",
    "      #smoothed_data = smooth_time_series(series, 10) #np.convolve(series, np.ones(window_size) / window_size, mode='valid')\n",
    "      ax.plot(shifted_data, label='Shifted Data')\n",
    "      ax.plot(smoothed_data, label='Smoothed Data')\n",
    "      #ax.set_title(title)\n",
    "      #ax.legend()\n",
    "      #smooth_series.append(smoothed_data)\n",
    "      s =calculate_sign_change_rate(shifted_data)\n",
    "      a1, a2 = calc_area(shifted_data)\n",
    "      #print(title, s, a1,a2, a1+a2)\n",
    "      sign_change_arr.append(s)\n",
    "      shifted_smooth_series.append(shifted_data)\n",
    "\n",
    "    arr = []\n",
    "\n",
    "    for v in shifted_smooth_series:\n",
    "        s = calculate_sign_change_rate(v)\n",
    "        arr.append(s)\n",
    "\n",
    "    thres = int(statistics.mean(arr))\n",
    "\n",
    "    for i, series in enumerate(shifted_smooth_series):\n",
    "        s = arr[i]\n",
    "        title = titles[i]\n",
    "        ax = axes[i]\n",
    "\n",
    "        if s > thres:\n",
    "          title += f\" Shuffled - {str('S'==title[-1])}\"\n",
    "        else:\n",
    "          a1, a2 = calc_area(series)\n",
    "          if abs(a2) < a1/3:\n",
    "            title += f\" Inverted - {str('I'==title[-1])}\"\n",
    "          else:\n",
    "            title += f\" Correct - {str('C'==title[-1])}\"\n",
    "\n",
    "        ax.set_title(title)\n",
    "\n",
    "    plt.tight_layout()\n",
    "    plt.savefig(experiment_suff+\"ts_classification.png\")\n",
    "    plt.close()\n",
    "    #return shifted_smooth_series"
   ],
   "metadata": {
    "collapsed": false,
    "pycharm": {
     "name": "#%%\n"
    }
   }
  },
  {
   "cell_type": "code",
   "execution_count": 136,
   "outputs": [],
   "source": [
    "classify_time_series(bow_moving, titles)"
   ],
   "metadata": {
    "collapsed": false,
    "pycharm": {
     "name": "#%%\n"
    }
   }
  },
  {
   "cell_type": "markdown",
   "source": [
    "# Analysis of feature engineering"
   ],
   "metadata": {
    "collapsed": false
   }
  },
  {
   "cell_type": "code",
   "execution_count": 40,
   "outputs": [],
   "source": [
    "names_of_metrics = []\n",
    "for i in range(len(names_of_videos)):\n",
    "    for j in range(num_of_metrics):\n",
    "        curr_metric, curr_path = paths_to_csv[names_of_videos[i]][j]\n",
    "        names_of_metrics.append(curr_metric)\n",
    "    break\n",
    "\n",
    "sample_tsd = pd.read_csv(curr_path)['angle'].to_list()\n",
    "names_metrics_and_features = []\n",
    "for metr in names_of_metrics:\n",
    "    for feature_n in create_feature_dict_from_tsd(sample_tsd).keys():\n",
    "        names_metrics_and_features.append(f\"{metr}_{feature_n}\")"
   ],
   "metadata": {
    "collapsed": false,
    "pycharm": {
     "name": "#%%\n"
    }
   }
  },
  {
   "cell_type": "code",
   "execution_count": 41,
   "outputs": [],
   "source": [
    "di_df = {}\n",
    "di_df[\"features_of_metrics\"] = names_metrics_and_features"
   ],
   "metadata": {
    "collapsed": false,
    "pycharm": {
     "name": "#%%\n"
    }
   }
  },
  {
   "cell_type": "code",
   "execution_count": 42,
   "outputs": [],
   "source": [
    "for i in range(len(names_of_videos)):\n",
    "    curr_metrics = []\n",
    "    for j in range(num_of_metrics):\n",
    "        curr_metric, curr_path = paths_to_csv[names_of_videos[i]][j]\n",
    "        angles_tsd = pd.read_csv(curr_path)['angle'].to_list()\n",
    "        features_di = create_feature_dict_from_tsd(angles_tsd)\n",
    "        features = list(features_di.values())\n",
    "        curr_metrics.extend(features)\n",
    "    di_df[names_of_videos[i]] = curr_metrics"
   ],
   "metadata": {
    "collapsed": false,
    "pycharm": {
     "name": "#%%\n"
    }
   }
  },
  {
   "cell_type": "code",
   "execution_count": 43,
   "outputs": [],
   "source": [
    "df = pd.DataFrame(data=di_df)\n",
    "df.to_csv(\"../../results/TSD_angles/extracted_features.csv\")"
   ],
   "metadata": {
    "collapsed": false,
    "pycharm": {
     "name": "#%%\n"
    }
   }
  },
  {
   "cell_type": "code",
   "execution_count": 44,
   "outputs": [
    {
     "data": {
      "text/plain": "                    features_of_metrics                 S001C  \\\n0                     angl_bow_mov_mean   76.830251+0.000000j   \n1                      angl_bow_mov_var   1043.06621+0.00000j   \n2                      angl_bow_mov_mad   30.385701+0.000000j   \n3                      angl_bow_mov_max  125.061729+0.000000j   \n4                      angl_bow_mov_min   21.250317+0.000000j   \n..                                  ...                   ...   \n242      angl_right_should_mov_meanFreq   65.955493+0.000000j   \n243  angl_right_should_mov_skewnessFreq   17.257566+0.000000j   \n244  angl_right_should_mov_kurtosisFreq  304.867259+0.000000j   \n245        angl_right_should_mov_median   38.077658+0.000000j   \n246    angl_right_should_mov_peak_count   25.000000+0.000000j   \n\n                    S002C                 S008C                 S002I  \\\n0     68.583402+0.000000j   54.267763+0.000000j   35.365808+0.000000j   \n1    186.077299+0.000000j  733.879394+0.000000j  177.082557+0.000000j   \n2     11.748290+0.000000j   27.887872+0.000000j  3.8219550+0.0000000j   \n3     89.598037+0.000000j   90.732960+0.000000j   98.233452+0.000000j   \n4     35.509156+0.000000j  6.7995080+0.0000000j   21.128953+0.000000j   \n..                    ...                   ...                   ...   \n242   26.048732+0.000000j   42.025544+0.000000j   21.984242-0.000000j   \n243   17.542095-0.000000j   14.805501+0.000000j   16.261595-0.000000j   \n244  304.282794-0.000000j  233.001181+0.000000j  275.862272-0.000000j   \n245   35.774391+0.000000j   30.798603+0.000000j   24.186996+0.000000j   \n246   23.000000+0.000000j   26.000000+0.000000j   32.000000+0.000000j   \n\n                    S003I                 S005I                 S001S  \\\n0     39.916350+0.000000j   24.163687+0.000000j   44.868354+0.000000j   \n1    447.781385+0.000000j   52.490857+0.000000j  294.830209+0.000000j   \n2    4.8431270+0.0000000j  1.9893340+0.0000000j  8.0152080+0.0000000j   \n3    111.928556+0.000000j   47.888241+0.000000j   84.296444+0.000000j   \n4     20.458603+0.000000j   15.993056+0.000000j   10.673398+0.000000j   \n..                    ...                   ...                   ...   \n242   17.074938-0.000000j   10.374508-0.000000j   13.361468+0.000000j   \n243   13.339921-0.000000j   17.431341+0.000000j   18.225815-0.000000j   \n244  216.747833-0.000000j  301.376363+0.000000j  320.042116-0.000000j   \n245   20.059365+0.000000j   14.384317+0.000000j   10.700603+0.000000j   \n246   28.000000+0.000000j   26.000000+0.000000j   28.000000+0.000000j   \n\n                    S004S                 S009S  \n0     65.991443+0.000000j   78.625578+0.000000j  \n1    790.162151+0.000000j  805.973607+0.000000j  \n2     17.207783+0.000000j   20.075995+0.000000j  \n3    138.640912+0.000000j  134.162943+0.000000j  \n4     24.094896+0.000000j   18.369220+0.000000j  \n..                    ...                   ...  \n242   15.841057+0.000000j  2.5197400+0.0000000j  \n243   15.843463+0.000000j   12.914536-0.000000j  \n244  262.574597+0.000000j  210.276003+0.000000j  \n245   24.422180+0.000000j  9.1975130+0.0000000j  \n246   21.000000+0.000000j   26.000000+0.000000j  \n\n[247 rows x 10 columns]",
      "text/html": "<div>\n<style scoped>\n    .dataframe tbody tr th:only-of-type {\n        vertical-align: middle;\n    }\n\n    .dataframe tbody tr th {\n        vertical-align: top;\n    }\n\n    .dataframe thead th {\n        text-align: right;\n    }\n</style>\n<table border=\"1\" class=\"dataframe\">\n  <thead>\n    <tr style=\"text-align: right;\">\n      <th></th>\n      <th>features_of_metrics</th>\n      <th>S001C</th>\n      <th>S002C</th>\n      <th>S008C</th>\n      <th>S002I</th>\n      <th>S003I</th>\n      <th>S005I</th>\n      <th>S001S</th>\n      <th>S004S</th>\n      <th>S009S</th>\n    </tr>\n  </thead>\n  <tbody>\n    <tr>\n      <th>0</th>\n      <td>angl_bow_mov_mean</td>\n      <td>76.830251+0.000000j</td>\n      <td>68.583402+0.000000j</td>\n      <td>54.267763+0.000000j</td>\n      <td>35.365808+0.000000j</td>\n      <td>39.916350+0.000000j</td>\n      <td>24.163687+0.000000j</td>\n      <td>44.868354+0.000000j</td>\n      <td>65.991443+0.000000j</td>\n      <td>78.625578+0.000000j</td>\n    </tr>\n    <tr>\n      <th>1</th>\n      <td>angl_bow_mov_var</td>\n      <td>1043.06621+0.00000j</td>\n      <td>186.077299+0.000000j</td>\n      <td>733.879394+0.000000j</td>\n      <td>177.082557+0.000000j</td>\n      <td>447.781385+0.000000j</td>\n      <td>52.490857+0.000000j</td>\n      <td>294.830209+0.000000j</td>\n      <td>790.162151+0.000000j</td>\n      <td>805.973607+0.000000j</td>\n    </tr>\n    <tr>\n      <th>2</th>\n      <td>angl_bow_mov_mad</td>\n      <td>30.385701+0.000000j</td>\n      <td>11.748290+0.000000j</td>\n      <td>27.887872+0.000000j</td>\n      <td>3.8219550+0.0000000j</td>\n      <td>4.8431270+0.0000000j</td>\n      <td>1.9893340+0.0000000j</td>\n      <td>8.0152080+0.0000000j</td>\n      <td>17.207783+0.000000j</td>\n      <td>20.075995+0.000000j</td>\n    </tr>\n    <tr>\n      <th>3</th>\n      <td>angl_bow_mov_max</td>\n      <td>125.061729+0.000000j</td>\n      <td>89.598037+0.000000j</td>\n      <td>90.732960+0.000000j</td>\n      <td>98.233452+0.000000j</td>\n      <td>111.928556+0.000000j</td>\n      <td>47.888241+0.000000j</td>\n      <td>84.296444+0.000000j</td>\n      <td>138.640912+0.000000j</td>\n      <td>134.162943+0.000000j</td>\n    </tr>\n    <tr>\n      <th>4</th>\n      <td>angl_bow_mov_min</td>\n      <td>21.250317+0.000000j</td>\n      <td>35.509156+0.000000j</td>\n      <td>6.7995080+0.0000000j</td>\n      <td>21.128953+0.000000j</td>\n      <td>20.458603+0.000000j</td>\n      <td>15.993056+0.000000j</td>\n      <td>10.673398+0.000000j</td>\n      <td>24.094896+0.000000j</td>\n      <td>18.369220+0.000000j</td>\n    </tr>\n    <tr>\n      <th>...</th>\n      <td>...</td>\n      <td>...</td>\n      <td>...</td>\n      <td>...</td>\n      <td>...</td>\n      <td>...</td>\n      <td>...</td>\n      <td>...</td>\n      <td>...</td>\n      <td>...</td>\n    </tr>\n    <tr>\n      <th>242</th>\n      <td>angl_right_should_mov_meanFreq</td>\n      <td>65.955493+0.000000j</td>\n      <td>26.048732+0.000000j</td>\n      <td>42.025544+0.000000j</td>\n      <td>21.984242-0.000000j</td>\n      <td>17.074938-0.000000j</td>\n      <td>10.374508-0.000000j</td>\n      <td>13.361468+0.000000j</td>\n      <td>15.841057+0.000000j</td>\n      <td>2.5197400+0.0000000j</td>\n    </tr>\n    <tr>\n      <th>243</th>\n      <td>angl_right_should_mov_skewnessFreq</td>\n      <td>17.257566+0.000000j</td>\n      <td>17.542095-0.000000j</td>\n      <td>14.805501+0.000000j</td>\n      <td>16.261595-0.000000j</td>\n      <td>13.339921-0.000000j</td>\n      <td>17.431341+0.000000j</td>\n      <td>18.225815-0.000000j</td>\n      <td>15.843463+0.000000j</td>\n      <td>12.914536-0.000000j</td>\n    </tr>\n    <tr>\n      <th>244</th>\n      <td>angl_right_should_mov_kurtosisFreq</td>\n      <td>304.867259+0.000000j</td>\n      <td>304.282794-0.000000j</td>\n      <td>233.001181+0.000000j</td>\n      <td>275.862272-0.000000j</td>\n      <td>216.747833-0.000000j</td>\n      <td>301.376363+0.000000j</td>\n      <td>320.042116-0.000000j</td>\n      <td>262.574597+0.000000j</td>\n      <td>210.276003+0.000000j</td>\n    </tr>\n    <tr>\n      <th>245</th>\n      <td>angl_right_should_mov_median</td>\n      <td>38.077658+0.000000j</td>\n      <td>35.774391+0.000000j</td>\n      <td>30.798603+0.000000j</td>\n      <td>24.186996+0.000000j</td>\n      <td>20.059365+0.000000j</td>\n      <td>14.384317+0.000000j</td>\n      <td>10.700603+0.000000j</td>\n      <td>24.422180+0.000000j</td>\n      <td>9.1975130+0.0000000j</td>\n    </tr>\n    <tr>\n      <th>246</th>\n      <td>angl_right_should_mov_peak_count</td>\n      <td>25.000000+0.000000j</td>\n      <td>23.000000+0.000000j</td>\n      <td>26.000000+0.000000j</td>\n      <td>32.000000+0.000000j</td>\n      <td>28.000000+0.000000j</td>\n      <td>26.000000+0.000000j</td>\n      <td>28.000000+0.000000j</td>\n      <td>21.000000+0.000000j</td>\n      <td>26.000000+0.000000j</td>\n    </tr>\n  </tbody>\n</table>\n<p>247 rows × 10 columns</p>\n</div>"
     },
     "execution_count": 44,
     "metadata": {},
     "output_type": "execute_result"
    }
   ],
   "source": [
    "df"
   ],
   "metadata": {
    "collapsed": false,
    "pycharm": {
     "name": "#%%\n"
    }
   }
  },
  {
   "cell_type": "code",
   "execution_count": 28,
   "outputs": [
    {
     "name": "stderr",
     "output_type": "stream",
     "text": [
      "c:\\users\\tmozo\\documents\\master\\semester 4\\computational vision\\project\\venv\\lib\\site-packages\\pandas\\core\\internals\\managers.py:1464: ComplexWarning: Casting complex values to real discards the imaginary part\n",
      "  arr = arr.astype(dtype, copy=False)  # type: ignore[arg-type]\n"
     ]
    }
   ],
   "source": [
    "correl = df.corr()"
   ],
   "metadata": {
    "collapsed": false,
    "pycharm": {
     "name": "#%%\n"
    }
   }
  },
  {
   "cell_type": "code",
   "execution_count": 29,
   "outputs": [
    {
     "data": {
      "text/plain": "<pandas.io.formats.style.Styler at 0x1f652b2cc88>",
      "text/html": "<style type=\"text/css\">\n#T_94d9d_row0_col4, #T_94d9d_row1_col5, #T_94d9d_row2_col1, #T_94d9d_row3_col1, #T_94d9d_row4_col1, #T_94d9d_row5_col1, #T_94d9d_row6_col4, #T_94d9d_row7_col4 {\n  background-color: gray;\n}\n</style>\n<table id=\"T_94d9d_\">\n  <thead>\n    <tr>\n      <th class=\"blank level0\" >&nbsp;</th>\n      <th class=\"col_heading level0 col0\" >S001C</th>\n      <th class=\"col_heading level0 col1\" >S002C</th>\n      <th class=\"col_heading level0 col2\" >S002I</th>\n      <th class=\"col_heading level0 col3\" >S003I</th>\n      <th class=\"col_heading level0 col4\" >S005I</th>\n      <th class=\"col_heading level0 col5\" >S001S</th>\n      <th class=\"col_heading level0 col6\" >S004S</th>\n      <th class=\"col_heading level0 col7\" >S009S</th>\n    </tr>\n  </thead>\n  <tbody>\n    <tr>\n      <th id=\"T_94d9d_level0_row0\" class=\"row_heading level0 row0\" >S001C</th>\n      <td id=\"T_94d9d_row0_col0\" class=\"data row0 col0\" >1.000000</td>\n      <td id=\"T_94d9d_row0_col1\" class=\"data row0 col1\" >0.979585</td>\n      <td id=\"T_94d9d_row0_col2\" class=\"data row0 col2\" >0.975323</td>\n      <td id=\"T_94d9d_row0_col3\" class=\"data row0 col3\" >0.984160</td>\n      <td id=\"T_94d9d_row0_col4\" class=\"data row0 col4\" >0.965048</td>\n      <td id=\"T_94d9d_row0_col5\" class=\"data row0 col5\" >0.977015</td>\n      <td id=\"T_94d9d_row0_col6\" class=\"data row0 col6\" >0.997006</td>\n      <td id=\"T_94d9d_row0_col7\" class=\"data row0 col7\" >0.986382</td>\n    </tr>\n    <tr>\n      <th id=\"T_94d9d_level0_row1\" class=\"row_heading level0 row1\" >S002C</th>\n      <td id=\"T_94d9d_row1_col0\" class=\"data row1 col0\" >0.979585</td>\n      <td id=\"T_94d9d_row1_col1\" class=\"data row1 col1\" >1.000000</td>\n      <td id=\"T_94d9d_row1_col2\" class=\"data row1 col2\" >0.948620</td>\n      <td id=\"T_94d9d_row1_col3\" class=\"data row1 col3\" >0.963801</td>\n      <td id=\"T_94d9d_row1_col4\" class=\"data row1 col4\" >0.955429</td>\n      <td id=\"T_94d9d_row1_col5\" class=\"data row1 col5\" >0.942674</td>\n      <td id=\"T_94d9d_row1_col6\" class=\"data row1 col6\" >0.969717</td>\n      <td id=\"T_94d9d_row1_col7\" class=\"data row1 col7\" >0.975943</td>\n    </tr>\n    <tr>\n      <th id=\"T_94d9d_level0_row2\" class=\"row_heading level0 row2\" >S002I</th>\n      <td id=\"T_94d9d_row2_col0\" class=\"data row2 col0\" >0.975323</td>\n      <td id=\"T_94d9d_row2_col1\" class=\"data row2 col1\" >0.948620</td>\n      <td id=\"T_94d9d_row2_col2\" class=\"data row2 col2\" >1.000000</td>\n      <td id=\"T_94d9d_row2_col3\" class=\"data row2 col3\" >0.994115</td>\n      <td id=\"T_94d9d_row2_col4\" class=\"data row2 col4\" >0.984238</td>\n      <td id=\"T_94d9d_row2_col5\" class=\"data row2 col5\" >0.982389</td>\n      <td id=\"T_94d9d_row2_col6\" class=\"data row2 col6\" >0.982174</td>\n      <td id=\"T_94d9d_row2_col7\" class=\"data row2 col7\" >0.977898</td>\n    </tr>\n    <tr>\n      <th id=\"T_94d9d_level0_row3\" class=\"row_heading level0 row3\" >S003I</th>\n      <td id=\"T_94d9d_row3_col0\" class=\"data row3 col0\" >0.984160</td>\n      <td id=\"T_94d9d_row3_col1\" class=\"data row3 col1\" >0.963801</td>\n      <td id=\"T_94d9d_row3_col2\" class=\"data row3 col2\" >0.994115</td>\n      <td id=\"T_94d9d_row3_col3\" class=\"data row3 col3\" >1.000000</td>\n      <td id=\"T_94d9d_row3_col4\" class=\"data row3 col4\" >0.986413</td>\n      <td id=\"T_94d9d_row3_col5\" class=\"data row3 col5\" >0.991034</td>\n      <td id=\"T_94d9d_row3_col6\" class=\"data row3 col6\" >0.990676</td>\n      <td id=\"T_94d9d_row3_col7\" class=\"data row3 col7\" >0.986786</td>\n    </tr>\n    <tr>\n      <th id=\"T_94d9d_level0_row4\" class=\"row_heading level0 row4\" >S005I</th>\n      <td id=\"T_94d9d_row4_col0\" class=\"data row4 col0\" >0.965048</td>\n      <td id=\"T_94d9d_row4_col1\" class=\"data row4 col1\" >0.955429</td>\n      <td id=\"T_94d9d_row4_col2\" class=\"data row4 col2\" >0.984238</td>\n      <td id=\"T_94d9d_row4_col3\" class=\"data row4 col3\" >0.986413</td>\n      <td id=\"T_94d9d_row4_col4\" class=\"data row4 col4\" >1.000000</td>\n      <td id=\"T_94d9d_row4_col5\" class=\"data row4 col5\" >0.974136</td>\n      <td id=\"T_94d9d_row4_col6\" class=\"data row4 col6\" >0.968510</td>\n      <td id=\"T_94d9d_row4_col7\" class=\"data row4 col7\" >0.973377</td>\n    </tr>\n    <tr>\n      <th id=\"T_94d9d_level0_row5\" class=\"row_heading level0 row5\" >S001S</th>\n      <td id=\"T_94d9d_row5_col0\" class=\"data row5 col0\" >0.977015</td>\n      <td id=\"T_94d9d_row5_col1\" class=\"data row5 col1\" >0.942674</td>\n      <td id=\"T_94d9d_row5_col2\" class=\"data row5 col2\" >0.982389</td>\n      <td id=\"T_94d9d_row5_col3\" class=\"data row5 col3\" >0.991034</td>\n      <td id=\"T_94d9d_row5_col4\" class=\"data row5 col4\" >0.974136</td>\n      <td id=\"T_94d9d_row5_col5\" class=\"data row5 col5\" >1.000000</td>\n      <td id=\"T_94d9d_row5_col6\" class=\"data row5 col6\" >0.987413</td>\n      <td id=\"T_94d9d_row5_col7\" class=\"data row5 col7\" >0.982940</td>\n    </tr>\n    <tr>\n      <th id=\"T_94d9d_level0_row6\" class=\"row_heading level0 row6\" >S004S</th>\n      <td id=\"T_94d9d_row6_col0\" class=\"data row6 col0\" >0.997006</td>\n      <td id=\"T_94d9d_row6_col1\" class=\"data row6 col1\" >0.969717</td>\n      <td id=\"T_94d9d_row6_col2\" class=\"data row6 col2\" >0.982174</td>\n      <td id=\"T_94d9d_row6_col3\" class=\"data row6 col3\" >0.990676</td>\n      <td id=\"T_94d9d_row6_col4\" class=\"data row6 col4\" >0.968510</td>\n      <td id=\"T_94d9d_row6_col5\" class=\"data row6 col5\" >0.987413</td>\n      <td id=\"T_94d9d_row6_col6\" class=\"data row6 col6\" >1.000000</td>\n      <td id=\"T_94d9d_row6_col7\" class=\"data row6 col7\" >0.986990</td>\n    </tr>\n    <tr>\n      <th id=\"T_94d9d_level0_row7\" class=\"row_heading level0 row7\" >S009S</th>\n      <td id=\"T_94d9d_row7_col0\" class=\"data row7 col0\" >0.986382</td>\n      <td id=\"T_94d9d_row7_col1\" class=\"data row7 col1\" >0.975943</td>\n      <td id=\"T_94d9d_row7_col2\" class=\"data row7 col2\" >0.977898</td>\n      <td id=\"T_94d9d_row7_col3\" class=\"data row7 col3\" >0.986786</td>\n      <td id=\"T_94d9d_row7_col4\" class=\"data row7 col4\" >0.973377</td>\n      <td id=\"T_94d9d_row7_col5\" class=\"data row7 col5\" >0.982940</td>\n      <td id=\"T_94d9d_row7_col6\" class=\"data row7 col6\" >0.986990</td>\n      <td id=\"T_94d9d_row7_col7\" class=\"data row7 col7\" >1.000000</td>\n    </tr>\n  </tbody>\n</table>\n"
     },
     "execution_count": 29,
     "metadata": {},
     "output_type": "execute_result"
    }
   ],
   "source": [
    "correl.style.highlight_min(color = 'gray', axis = 1)"
   ],
   "metadata": {
    "collapsed": false,
    "pycharm": {
     "name": "#%%\n"
    }
   }
  },
  {
   "cell_type": "code",
   "execution_count": 30,
   "outputs": [],
   "source": [
    "correl_2 = df.drop('S002C', axis=1).corr()"
   ],
   "metadata": {
    "collapsed": false,
    "pycharm": {
     "name": "#%%\n"
    }
   }
  },
  {
   "cell_type": "code",
   "execution_count": 31,
   "outputs": [
    {
     "data": {
      "text/plain": "<pandas.io.formats.style.Styler at 0x1f65290fec8>",
      "text/html": "<style type=\"text/css\">\n#T_27d59_row0_col3, #T_27d59_row1_col0, #T_27d59_row2_col0, #T_27d59_row3_col0, #T_27d59_row4_col3, #T_27d59_row5_col3, #T_27d59_row6_col3 {\n  background-color: gray;\n}\n</style>\n<table id=\"T_27d59_\">\n  <thead>\n    <tr>\n      <th class=\"blank level0\" >&nbsp;</th>\n      <th class=\"col_heading level0 col0\" >S001C</th>\n      <th class=\"col_heading level0 col1\" >S002I</th>\n      <th class=\"col_heading level0 col2\" >S003I</th>\n      <th class=\"col_heading level0 col3\" >S005I</th>\n      <th class=\"col_heading level0 col4\" >S001S</th>\n      <th class=\"col_heading level0 col5\" >S004S</th>\n      <th class=\"col_heading level0 col6\" >S009S</th>\n    </tr>\n  </thead>\n  <tbody>\n    <tr>\n      <th id=\"T_27d59_level0_row0\" class=\"row_heading level0 row0\" >S001C</th>\n      <td id=\"T_27d59_row0_col0\" class=\"data row0 col0\" >1.000000</td>\n      <td id=\"T_27d59_row0_col1\" class=\"data row0 col1\" >0.975323</td>\n      <td id=\"T_27d59_row0_col2\" class=\"data row0 col2\" >0.984160</td>\n      <td id=\"T_27d59_row0_col3\" class=\"data row0 col3\" >0.965048</td>\n      <td id=\"T_27d59_row0_col4\" class=\"data row0 col4\" >0.977015</td>\n      <td id=\"T_27d59_row0_col5\" class=\"data row0 col5\" >0.997006</td>\n      <td id=\"T_27d59_row0_col6\" class=\"data row0 col6\" >0.986382</td>\n    </tr>\n    <tr>\n      <th id=\"T_27d59_level0_row1\" class=\"row_heading level0 row1\" >S002I</th>\n      <td id=\"T_27d59_row1_col0\" class=\"data row1 col0\" >0.975323</td>\n      <td id=\"T_27d59_row1_col1\" class=\"data row1 col1\" >1.000000</td>\n      <td id=\"T_27d59_row1_col2\" class=\"data row1 col2\" >0.994115</td>\n      <td id=\"T_27d59_row1_col3\" class=\"data row1 col3\" >0.984238</td>\n      <td id=\"T_27d59_row1_col4\" class=\"data row1 col4\" >0.982389</td>\n      <td id=\"T_27d59_row1_col5\" class=\"data row1 col5\" >0.982174</td>\n      <td id=\"T_27d59_row1_col6\" class=\"data row1 col6\" >0.977898</td>\n    </tr>\n    <tr>\n      <th id=\"T_27d59_level0_row2\" class=\"row_heading level0 row2\" >S003I</th>\n      <td id=\"T_27d59_row2_col0\" class=\"data row2 col0\" >0.984160</td>\n      <td id=\"T_27d59_row2_col1\" class=\"data row2 col1\" >0.994115</td>\n      <td id=\"T_27d59_row2_col2\" class=\"data row2 col2\" >1.000000</td>\n      <td id=\"T_27d59_row2_col3\" class=\"data row2 col3\" >0.986413</td>\n      <td id=\"T_27d59_row2_col4\" class=\"data row2 col4\" >0.991034</td>\n      <td id=\"T_27d59_row2_col5\" class=\"data row2 col5\" >0.990676</td>\n      <td id=\"T_27d59_row2_col6\" class=\"data row2 col6\" >0.986786</td>\n    </tr>\n    <tr>\n      <th id=\"T_27d59_level0_row3\" class=\"row_heading level0 row3\" >S005I</th>\n      <td id=\"T_27d59_row3_col0\" class=\"data row3 col0\" >0.965048</td>\n      <td id=\"T_27d59_row3_col1\" class=\"data row3 col1\" >0.984238</td>\n      <td id=\"T_27d59_row3_col2\" class=\"data row3 col2\" >0.986413</td>\n      <td id=\"T_27d59_row3_col3\" class=\"data row3 col3\" >1.000000</td>\n      <td id=\"T_27d59_row3_col4\" class=\"data row3 col4\" >0.974136</td>\n      <td id=\"T_27d59_row3_col5\" class=\"data row3 col5\" >0.968510</td>\n      <td id=\"T_27d59_row3_col6\" class=\"data row3 col6\" >0.973377</td>\n    </tr>\n    <tr>\n      <th id=\"T_27d59_level0_row4\" class=\"row_heading level0 row4\" >S001S</th>\n      <td id=\"T_27d59_row4_col0\" class=\"data row4 col0\" >0.977015</td>\n      <td id=\"T_27d59_row4_col1\" class=\"data row4 col1\" >0.982389</td>\n      <td id=\"T_27d59_row4_col2\" class=\"data row4 col2\" >0.991034</td>\n      <td id=\"T_27d59_row4_col3\" class=\"data row4 col3\" >0.974136</td>\n      <td id=\"T_27d59_row4_col4\" class=\"data row4 col4\" >1.000000</td>\n      <td id=\"T_27d59_row4_col5\" class=\"data row4 col5\" >0.987413</td>\n      <td id=\"T_27d59_row4_col6\" class=\"data row4 col6\" >0.982940</td>\n    </tr>\n    <tr>\n      <th id=\"T_27d59_level0_row5\" class=\"row_heading level0 row5\" >S004S</th>\n      <td id=\"T_27d59_row5_col0\" class=\"data row5 col0\" >0.997006</td>\n      <td id=\"T_27d59_row5_col1\" class=\"data row5 col1\" >0.982174</td>\n      <td id=\"T_27d59_row5_col2\" class=\"data row5 col2\" >0.990676</td>\n      <td id=\"T_27d59_row5_col3\" class=\"data row5 col3\" >0.968510</td>\n      <td id=\"T_27d59_row5_col4\" class=\"data row5 col4\" >0.987413</td>\n      <td id=\"T_27d59_row5_col5\" class=\"data row5 col5\" >1.000000</td>\n      <td id=\"T_27d59_row5_col6\" class=\"data row5 col6\" >0.986990</td>\n    </tr>\n    <tr>\n      <th id=\"T_27d59_level0_row6\" class=\"row_heading level0 row6\" >S009S</th>\n      <td id=\"T_27d59_row6_col0\" class=\"data row6 col0\" >0.986382</td>\n      <td id=\"T_27d59_row6_col1\" class=\"data row6 col1\" >0.977898</td>\n      <td id=\"T_27d59_row6_col2\" class=\"data row6 col2\" >0.986786</td>\n      <td id=\"T_27d59_row6_col3\" class=\"data row6 col3\" >0.973377</td>\n      <td id=\"T_27d59_row6_col4\" class=\"data row6 col4\" >0.982940</td>\n      <td id=\"T_27d59_row6_col5\" class=\"data row6 col5\" >0.986990</td>\n      <td id=\"T_27d59_row6_col6\" class=\"data row6 col6\" >1.000000</td>\n    </tr>\n  </tbody>\n</table>\n"
     },
     "execution_count": 31,
     "metadata": {},
     "output_type": "execute_result"
    }
   ],
   "source": [
    "correl_2.style.highlight_min(color = 'gray', axis = 1)"
   ],
   "metadata": {
    "collapsed": false,
    "pycharm": {
     "name": "#%%\n"
    }
   }
  },
  {
   "cell_type": "code",
   "execution_count": 32,
   "outputs": [],
   "source": [
    "correl_3 = df.drop('S002C', axis=1).drop('S005I', axis=1).corr()"
   ],
   "metadata": {
    "collapsed": false,
    "pycharm": {
     "name": "#%%\n"
    }
   }
  },
  {
   "cell_type": "code",
   "execution_count": 33,
   "outputs": [
    {
     "data": {
      "text/plain": "<pandas.io.formats.style.Styler at 0x1f6528fff08>",
      "text/html": "<style type=\"text/css\">\n#T_9a6dd_row0_col1, #T_9a6dd_row1_col0, #T_9a6dd_row2_col0, #T_9a6dd_row3_col0, #T_9a6dd_row4_col1, #T_9a6dd_row5_col1 {\n  background-color: gray;\n}\n</style>\n<table id=\"T_9a6dd_\">\n  <thead>\n    <tr>\n      <th class=\"blank level0\" >&nbsp;</th>\n      <th class=\"col_heading level0 col0\" >S001C</th>\n      <th class=\"col_heading level0 col1\" >S002I</th>\n      <th class=\"col_heading level0 col2\" >S003I</th>\n      <th class=\"col_heading level0 col3\" >S001S</th>\n      <th class=\"col_heading level0 col4\" >S004S</th>\n      <th class=\"col_heading level0 col5\" >S009S</th>\n    </tr>\n  </thead>\n  <tbody>\n    <tr>\n      <th id=\"T_9a6dd_level0_row0\" class=\"row_heading level0 row0\" >S001C</th>\n      <td id=\"T_9a6dd_row0_col0\" class=\"data row0 col0\" >1.000000</td>\n      <td id=\"T_9a6dd_row0_col1\" class=\"data row0 col1\" >0.975323</td>\n      <td id=\"T_9a6dd_row0_col2\" class=\"data row0 col2\" >0.984160</td>\n      <td id=\"T_9a6dd_row0_col3\" class=\"data row0 col3\" >0.977015</td>\n      <td id=\"T_9a6dd_row0_col4\" class=\"data row0 col4\" >0.997006</td>\n      <td id=\"T_9a6dd_row0_col5\" class=\"data row0 col5\" >0.986382</td>\n    </tr>\n    <tr>\n      <th id=\"T_9a6dd_level0_row1\" class=\"row_heading level0 row1\" >S002I</th>\n      <td id=\"T_9a6dd_row1_col0\" class=\"data row1 col0\" >0.975323</td>\n      <td id=\"T_9a6dd_row1_col1\" class=\"data row1 col1\" >1.000000</td>\n      <td id=\"T_9a6dd_row1_col2\" class=\"data row1 col2\" >0.994115</td>\n      <td id=\"T_9a6dd_row1_col3\" class=\"data row1 col3\" >0.982389</td>\n      <td id=\"T_9a6dd_row1_col4\" class=\"data row1 col4\" >0.982174</td>\n      <td id=\"T_9a6dd_row1_col5\" class=\"data row1 col5\" >0.977898</td>\n    </tr>\n    <tr>\n      <th id=\"T_9a6dd_level0_row2\" class=\"row_heading level0 row2\" >S003I</th>\n      <td id=\"T_9a6dd_row2_col0\" class=\"data row2 col0\" >0.984160</td>\n      <td id=\"T_9a6dd_row2_col1\" class=\"data row2 col1\" >0.994115</td>\n      <td id=\"T_9a6dd_row2_col2\" class=\"data row2 col2\" >1.000000</td>\n      <td id=\"T_9a6dd_row2_col3\" class=\"data row2 col3\" >0.991034</td>\n      <td id=\"T_9a6dd_row2_col4\" class=\"data row2 col4\" >0.990676</td>\n      <td id=\"T_9a6dd_row2_col5\" class=\"data row2 col5\" >0.986786</td>\n    </tr>\n    <tr>\n      <th id=\"T_9a6dd_level0_row3\" class=\"row_heading level0 row3\" >S001S</th>\n      <td id=\"T_9a6dd_row3_col0\" class=\"data row3 col0\" >0.977015</td>\n      <td id=\"T_9a6dd_row3_col1\" class=\"data row3 col1\" >0.982389</td>\n      <td id=\"T_9a6dd_row3_col2\" class=\"data row3 col2\" >0.991034</td>\n      <td id=\"T_9a6dd_row3_col3\" class=\"data row3 col3\" >1.000000</td>\n      <td id=\"T_9a6dd_row3_col4\" class=\"data row3 col4\" >0.987413</td>\n      <td id=\"T_9a6dd_row3_col5\" class=\"data row3 col5\" >0.982940</td>\n    </tr>\n    <tr>\n      <th id=\"T_9a6dd_level0_row4\" class=\"row_heading level0 row4\" >S004S</th>\n      <td id=\"T_9a6dd_row4_col0\" class=\"data row4 col0\" >0.997006</td>\n      <td id=\"T_9a6dd_row4_col1\" class=\"data row4 col1\" >0.982174</td>\n      <td id=\"T_9a6dd_row4_col2\" class=\"data row4 col2\" >0.990676</td>\n      <td id=\"T_9a6dd_row4_col3\" class=\"data row4 col3\" >0.987413</td>\n      <td id=\"T_9a6dd_row4_col4\" class=\"data row4 col4\" >1.000000</td>\n      <td id=\"T_9a6dd_row4_col5\" class=\"data row4 col5\" >0.986990</td>\n    </tr>\n    <tr>\n      <th id=\"T_9a6dd_level0_row5\" class=\"row_heading level0 row5\" >S009S</th>\n      <td id=\"T_9a6dd_row5_col0\" class=\"data row5 col0\" >0.986382</td>\n      <td id=\"T_9a6dd_row5_col1\" class=\"data row5 col1\" >0.977898</td>\n      <td id=\"T_9a6dd_row5_col2\" class=\"data row5 col2\" >0.986786</td>\n      <td id=\"T_9a6dd_row5_col3\" class=\"data row5 col3\" >0.982940</td>\n      <td id=\"T_9a6dd_row5_col4\" class=\"data row5 col4\" >0.986990</td>\n      <td id=\"T_9a6dd_row5_col5\" class=\"data row5 col5\" >1.000000</td>\n    </tr>\n  </tbody>\n</table>\n"
     },
     "execution_count": 33,
     "metadata": {},
     "output_type": "execute_result"
    }
   ],
   "source": [
    "correl_3.style.highlight_min(color = 'gray', axis = 1)"
   ],
   "metadata": {
    "collapsed": false,
    "pycharm": {
     "name": "#%%\n"
    }
   }
  },
  {
   "cell_type": "code",
   "execution_count": null,
   "outputs": [],
   "source": [],
   "metadata": {
    "collapsed": false,
    "pycharm": {
     "name": "#%%\n"
    }
   }
  }
 ],
 "metadata": {
  "kernelspec": {
   "display_name": "Python 3",
   "language": "python",
   "name": "python3"
  },
  "language_info": {
   "codemirror_mode": {
    "name": "ipython",
    "version": 2
   },
   "file_extension": ".py",
   "mimetype": "text/x-python",
   "name": "python",
   "nbconvert_exporter": "python",
   "pygments_lexer": "ipython2",
   "version": "2.7.6"
  }
 },
 "nbformat": 4,
 "nbformat_minor": 0
}