{
 "cells": [
  {
   "cell_type": "code",
   "execution_count": 22,
   "outputs": [],
   "source": [
    "import os\n",
    "from os import listdir\n",
    "import matplotlib.pyplot as plt\n",
    "import pandas as pd\n",
    "import numpy as np\n",
    "import math\n",
    "import sys\n",
    "sys.path.append(\"../../src\")\n",
    "from scipy.fft import fft\n",
    "from FeaturesExtractorFromTSD import create_feature_dict_from_tsd\n",
    "from numpy.ma.core import negative\n",
    "from statsmodels.tsa.seasonal import seasonal_decompose\n",
    "from statsmodels.graphics.tsaplots import plot_acf, plot_pacf, month_plot, quarter_plot\n",
    "from sklearn.preprocessing import MinMaxScaler\n",
    "import matplotlib.pyplot as plt\n",
    "import statistics"
   ],
   "metadata": {
    "collapsed": false,
    "pycharm": {
     "name": "#%%\n"
    }
   }
  },
  {
   "cell_type": "code",
   "execution_count": 23,
   "metadata": {
    "collapsed": true
   },
   "outputs": [],
   "source": [
    "paths_to_csv = {}"
   ]
  },
  {
   "cell_type": "markdown",
   "source": [
    "# Display time series of different angles"
   ],
   "metadata": {
    "collapsed": false
   }
  },
  {
   "cell_type": "code",
   "execution_count": 45,
   "outputs": [],
   "source": [
    "path_tds_angles = '../../results/big_dataset/TSD_angles'\n",
    "folders = [x[0] for x in os.walk(path_tds_angles)]\n",
    "folders.remove(path_tds_angles)"
   ],
   "metadata": {
    "collapsed": false,
    "pycharm": {
     "name": "#%%\n"
    }
   }
  },
  {
   "cell_type": "code",
   "execution_count": 45,
   "outputs": [],
   "source": [],
   "metadata": {
    "collapsed": false,
    "pycharm": {
     "name": "#%%\n"
    }
   }
  },
  {
   "cell_type": "code",
   "execution_count": 46,
   "outputs": [],
   "source": [
    "for folder in folders:\n",
    "    video_name = folder.split('\\\\')[-1]\n",
    "    curr_paths_to_csv = [(f[:-4], os.path.join(folder, f)) for f in listdir(folder)]\n",
    "    paths_to_csv[video_name] = curr_paths_to_csv"
   ],
   "metadata": {
    "collapsed": false,
    "pycharm": {
     "name": "#%%\n"
    }
   }
  },
  {
   "cell_type": "code",
   "execution_count": 47,
   "outputs": [
    {
     "data": {
      "text/plain": "{'S001C': [('angl_bow_mov',\n   '../../results/big_dataset/TSD_angles\\\\S001C\\\\angl_bow_mov.csv'),\n  ('angl_head_inclination',\n   '../../results/big_dataset/TSD_angles\\\\S001C\\\\angl_head_inclination.csv'),\n  ('angl_left_cheek_mov',\n   '../../results/big_dataset/TSD_angles\\\\S001C\\\\angl_left_cheek_mov.csv'),\n  ('angl_left_elbow_mov',\n   '../../results/big_dataset/TSD_angles\\\\S001C\\\\angl_left_elbow_mov.csv'),\n  ('angl_left_fingers_pos_mov',\n   '../../results/big_dataset/TSD_angles\\\\S001C\\\\angl_left_fingers_pos_mov.csv'),\n  ('angl_left_hips_mov',\n   '../../results/big_dataset/TSD_angles\\\\S001C\\\\angl_left_hips_mov.csv'),\n  ('angl_left_should_mov',\n   '../../results/big_dataset/TSD_angles\\\\S001C\\\\angl_left_should_mov.csv'),\n  ('angl_left_wrist_round',\n   '../../results/big_dataset/TSD_angles\\\\S001C\\\\angl_left_wrist_round.csv'),\n  ('angl_right_cheek_mov',\n   '../../results/big_dataset/TSD_angles\\\\S001C\\\\angl_right_cheek_mov.csv'),\n  ('angl_right_elbow_mov',\n   '../../results/big_dataset/TSD_angles\\\\S001C\\\\angl_right_elbow_mov.csv'),\n  ('angl_right_fingers_pos_mov',\n   '../../results/big_dataset/TSD_angles\\\\S001C\\\\angl_right_fingers_pos_mov.csv'),\n  ('angl_right_hips_mov',\n   '../../results/big_dataset/TSD_angles\\\\S001C\\\\angl_right_hips_mov.csv'),\n  ('angl_right_should_mov',\n   '../../results/big_dataset/TSD_angles\\\\S001C\\\\angl_right_should_mov.csv')],\n 'S001S': [('angl_bow_mov',\n   '../../results/big_dataset/TSD_angles\\\\S001S\\\\angl_bow_mov.csv'),\n  ('angl_head_inclination',\n   '../../results/big_dataset/TSD_angles\\\\S001S\\\\angl_head_inclination.csv'),\n  ('angl_left_cheek_mov',\n   '../../results/big_dataset/TSD_angles\\\\S001S\\\\angl_left_cheek_mov.csv'),\n  ('angl_left_elbow_mov',\n   '../../results/big_dataset/TSD_angles\\\\S001S\\\\angl_left_elbow_mov.csv'),\n  ('angl_left_fingers_pos_mov',\n   '../../results/big_dataset/TSD_angles\\\\S001S\\\\angl_left_fingers_pos_mov.csv'),\n  ('angl_left_hips_mov',\n   '../../results/big_dataset/TSD_angles\\\\S001S\\\\angl_left_hips_mov.csv'),\n  ('angl_left_should_mov',\n   '../../results/big_dataset/TSD_angles\\\\S001S\\\\angl_left_should_mov.csv'),\n  ('angl_left_wrist_round',\n   '../../results/big_dataset/TSD_angles\\\\S001S\\\\angl_left_wrist_round.csv'),\n  ('angl_right_cheek_mov',\n   '../../results/big_dataset/TSD_angles\\\\S001S\\\\angl_right_cheek_mov.csv'),\n  ('angl_right_elbow_mov',\n   '../../results/big_dataset/TSD_angles\\\\S001S\\\\angl_right_elbow_mov.csv'),\n  ('angl_right_fingers_pos_mov',\n   '../../results/big_dataset/TSD_angles\\\\S001S\\\\angl_right_fingers_pos_mov.csv'),\n  ('angl_right_hips_mov',\n   '../../results/big_dataset/TSD_angles\\\\S001S\\\\angl_right_hips_mov.csv'),\n  ('angl_right_should_mov',\n   '../../results/big_dataset/TSD_angles\\\\S001S\\\\angl_right_should_mov.csv')],\n 'S002C': [('angl_bow_mov',\n   '../../results/big_dataset/TSD_angles\\\\S002C\\\\angl_bow_mov.csv'),\n  ('angl_head_inclination',\n   '../../results/big_dataset/TSD_angles\\\\S002C\\\\angl_head_inclination.csv'),\n  ('angl_left_cheek_mov',\n   '../../results/big_dataset/TSD_angles\\\\S002C\\\\angl_left_cheek_mov.csv'),\n  ('angl_left_elbow_mov',\n   '../../results/big_dataset/TSD_angles\\\\S002C\\\\angl_left_elbow_mov.csv'),\n  ('angl_left_fingers_pos_mov',\n   '../../results/big_dataset/TSD_angles\\\\S002C\\\\angl_left_fingers_pos_mov.csv'),\n  ('angl_left_hips_mov',\n   '../../results/big_dataset/TSD_angles\\\\S002C\\\\angl_left_hips_mov.csv'),\n  ('angl_left_should_mov',\n   '../../results/big_dataset/TSD_angles\\\\S002C\\\\angl_left_should_mov.csv'),\n  ('angl_left_wrist_round',\n   '../../results/big_dataset/TSD_angles\\\\S002C\\\\angl_left_wrist_round.csv'),\n  ('angl_right_cheek_mov',\n   '../../results/big_dataset/TSD_angles\\\\S002C\\\\angl_right_cheek_mov.csv'),\n  ('angl_right_elbow_mov',\n   '../../results/big_dataset/TSD_angles\\\\S002C\\\\angl_right_elbow_mov.csv'),\n  ('angl_right_fingers_pos_mov',\n   '../../results/big_dataset/TSD_angles\\\\S002C\\\\angl_right_fingers_pos_mov.csv'),\n  ('angl_right_hips_mov',\n   '../../results/big_dataset/TSD_angles\\\\S002C\\\\angl_right_hips_mov.csv'),\n  ('angl_right_should_mov',\n   '../../results/big_dataset/TSD_angles\\\\S002C\\\\angl_right_should_mov.csv')],\n 'S002I': [('angl_bow_mov',\n   '../../results/big_dataset/TSD_angles\\\\S002I\\\\angl_bow_mov.csv'),\n  ('angl_head_inclination',\n   '../../results/big_dataset/TSD_angles\\\\S002I\\\\angl_head_inclination.csv'),\n  ('angl_left_cheek_mov',\n   '../../results/big_dataset/TSD_angles\\\\S002I\\\\angl_left_cheek_mov.csv'),\n  ('angl_left_elbow_mov',\n   '../../results/big_dataset/TSD_angles\\\\S002I\\\\angl_left_elbow_mov.csv'),\n  ('angl_left_fingers_pos_mov',\n   '../../results/big_dataset/TSD_angles\\\\S002I\\\\angl_left_fingers_pos_mov.csv'),\n  ('angl_left_hips_mov',\n   '../../results/big_dataset/TSD_angles\\\\S002I\\\\angl_left_hips_mov.csv'),\n  ('angl_left_should_mov',\n   '../../results/big_dataset/TSD_angles\\\\S002I\\\\angl_left_should_mov.csv'),\n  ('angl_left_wrist_round',\n   '../../results/big_dataset/TSD_angles\\\\S002I\\\\angl_left_wrist_round.csv'),\n  ('angl_right_cheek_mov',\n   '../../results/big_dataset/TSD_angles\\\\S002I\\\\angl_right_cheek_mov.csv'),\n  ('angl_right_elbow_mov',\n   '../../results/big_dataset/TSD_angles\\\\S002I\\\\angl_right_elbow_mov.csv'),\n  ('angl_right_fingers_pos_mov',\n   '../../results/big_dataset/TSD_angles\\\\S002I\\\\angl_right_fingers_pos_mov.csv'),\n  ('angl_right_hips_mov',\n   '../../results/big_dataset/TSD_angles\\\\S002I\\\\angl_right_hips_mov.csv'),\n  ('angl_right_should_mov',\n   '../../results/big_dataset/TSD_angles\\\\S002I\\\\angl_right_should_mov.csv')],\n 'S003I': [('angl_bow_mov',\n   '../../results/big_dataset/TSD_angles\\\\S003I\\\\angl_bow_mov.csv'),\n  ('angl_head_inclination',\n   '../../results/big_dataset/TSD_angles\\\\S003I\\\\angl_head_inclination.csv'),\n  ('angl_left_cheek_mov',\n   '../../results/big_dataset/TSD_angles\\\\S003I\\\\angl_left_cheek_mov.csv'),\n  ('angl_left_elbow_mov',\n   '../../results/big_dataset/TSD_angles\\\\S003I\\\\angl_left_elbow_mov.csv'),\n  ('angl_left_fingers_pos_mov',\n   '../../results/big_dataset/TSD_angles\\\\S003I\\\\angl_left_fingers_pos_mov.csv'),\n  ('angl_left_hips_mov',\n   '../../results/big_dataset/TSD_angles\\\\S003I\\\\angl_left_hips_mov.csv'),\n  ('angl_left_should_mov',\n   '../../results/big_dataset/TSD_angles\\\\S003I\\\\angl_left_should_mov.csv'),\n  ('angl_left_wrist_round',\n   '../../results/big_dataset/TSD_angles\\\\S003I\\\\angl_left_wrist_round.csv'),\n  ('angl_right_cheek_mov',\n   '../../results/big_dataset/TSD_angles\\\\S003I\\\\angl_right_cheek_mov.csv'),\n  ('angl_right_elbow_mov',\n   '../../results/big_dataset/TSD_angles\\\\S003I\\\\angl_right_elbow_mov.csv'),\n  ('angl_right_fingers_pos_mov',\n   '../../results/big_dataset/TSD_angles\\\\S003I\\\\angl_right_fingers_pos_mov.csv'),\n  ('angl_right_hips_mov',\n   '../../results/big_dataset/TSD_angles\\\\S003I\\\\angl_right_hips_mov.csv'),\n  ('angl_right_should_mov',\n   '../../results/big_dataset/TSD_angles\\\\S003I\\\\angl_right_should_mov.csv')],\n 'S004S': [('angl_bow_mov',\n   '../../results/big_dataset/TSD_angles\\\\S004S\\\\angl_bow_mov.csv'),\n  ('angl_head_inclination',\n   '../../results/big_dataset/TSD_angles\\\\S004S\\\\angl_head_inclination.csv'),\n  ('angl_left_cheek_mov',\n   '../../results/big_dataset/TSD_angles\\\\S004S\\\\angl_left_cheek_mov.csv'),\n  ('angl_left_elbow_mov',\n   '../../results/big_dataset/TSD_angles\\\\S004S\\\\angl_left_elbow_mov.csv'),\n  ('angl_left_fingers_pos_mov',\n   '../../results/big_dataset/TSD_angles\\\\S004S\\\\angl_left_fingers_pos_mov.csv'),\n  ('angl_left_hips_mov',\n   '../../results/big_dataset/TSD_angles\\\\S004S\\\\angl_left_hips_mov.csv'),\n  ('angl_left_should_mov',\n   '../../results/big_dataset/TSD_angles\\\\S004S\\\\angl_left_should_mov.csv'),\n  ('angl_left_wrist_round',\n   '../../results/big_dataset/TSD_angles\\\\S004S\\\\angl_left_wrist_round.csv'),\n  ('angl_right_cheek_mov',\n   '../../results/big_dataset/TSD_angles\\\\S004S\\\\angl_right_cheek_mov.csv'),\n  ('angl_right_elbow_mov',\n   '../../results/big_dataset/TSD_angles\\\\S004S\\\\angl_right_elbow_mov.csv'),\n  ('angl_right_fingers_pos_mov',\n   '../../results/big_dataset/TSD_angles\\\\S004S\\\\angl_right_fingers_pos_mov.csv'),\n  ('angl_right_hips_mov',\n   '../../results/big_dataset/TSD_angles\\\\S004S\\\\angl_right_hips_mov.csv'),\n  ('angl_right_should_mov',\n   '../../results/big_dataset/TSD_angles\\\\S004S\\\\angl_right_should_mov.csv')],\n 'S005I': [('angl_bow_mov',\n   '../../results/big_dataset/TSD_angles\\\\S005I\\\\angl_bow_mov.csv'),\n  ('angl_head_inclination',\n   '../../results/big_dataset/TSD_angles\\\\S005I\\\\angl_head_inclination.csv'),\n  ('angl_left_cheek_mov',\n   '../../results/big_dataset/TSD_angles\\\\S005I\\\\angl_left_cheek_mov.csv'),\n  ('angl_left_elbow_mov',\n   '../../results/big_dataset/TSD_angles\\\\S005I\\\\angl_left_elbow_mov.csv'),\n  ('angl_left_fingers_pos_mov',\n   '../../results/big_dataset/TSD_angles\\\\S005I\\\\angl_left_fingers_pos_mov.csv'),\n  ('angl_left_hips_mov',\n   '../../results/big_dataset/TSD_angles\\\\S005I\\\\angl_left_hips_mov.csv'),\n  ('angl_left_should_mov',\n   '../../results/big_dataset/TSD_angles\\\\S005I\\\\angl_left_should_mov.csv'),\n  ('angl_left_wrist_round',\n   '../../results/big_dataset/TSD_angles\\\\S005I\\\\angl_left_wrist_round.csv'),\n  ('angl_right_cheek_mov',\n   '../../results/big_dataset/TSD_angles\\\\S005I\\\\angl_right_cheek_mov.csv'),\n  ('angl_right_elbow_mov',\n   '../../results/big_dataset/TSD_angles\\\\S005I\\\\angl_right_elbow_mov.csv'),\n  ('angl_right_fingers_pos_mov',\n   '../../results/big_dataset/TSD_angles\\\\S005I\\\\angl_right_fingers_pos_mov.csv'),\n  ('angl_right_hips_mov',\n   '../../results/big_dataset/TSD_angles\\\\S005I\\\\angl_right_hips_mov.csv'),\n  ('angl_right_should_mov',\n   '../../results/big_dataset/TSD_angles\\\\S005I\\\\angl_right_should_mov.csv')],\n 'S008C': [('angl_bow_mov',\n   '../../results/big_dataset/TSD_angles\\\\S008C\\\\angl_bow_mov.csv'),\n  ('angl_head_inclination',\n   '../../results/big_dataset/TSD_angles\\\\S008C\\\\angl_head_inclination.csv'),\n  ('angl_left_cheek_mov',\n   '../../results/big_dataset/TSD_angles\\\\S008C\\\\angl_left_cheek_mov.csv'),\n  ('angl_left_elbow_mov',\n   '../../results/big_dataset/TSD_angles\\\\S008C\\\\angl_left_elbow_mov.csv'),\n  ('angl_left_fingers_pos_mov',\n   '../../results/big_dataset/TSD_angles\\\\S008C\\\\angl_left_fingers_pos_mov.csv'),\n  ('angl_left_hips_mov',\n   '../../results/big_dataset/TSD_angles\\\\S008C\\\\angl_left_hips_mov.csv'),\n  ('angl_left_should_mov',\n   '../../results/big_dataset/TSD_angles\\\\S008C\\\\angl_left_should_mov.csv'),\n  ('angl_left_wrist_round',\n   '../../results/big_dataset/TSD_angles\\\\S008C\\\\angl_left_wrist_round.csv'),\n  ('angl_right_cheek_mov',\n   '../../results/big_dataset/TSD_angles\\\\S008C\\\\angl_right_cheek_mov.csv'),\n  ('angl_right_elbow_mov',\n   '../../results/big_dataset/TSD_angles\\\\S008C\\\\angl_right_elbow_mov.csv'),\n  ('angl_right_fingers_pos_mov',\n   '../../results/big_dataset/TSD_angles\\\\S008C\\\\angl_right_fingers_pos_mov.csv'),\n  ('angl_right_hips_mov',\n   '../../results/big_dataset/TSD_angles\\\\S008C\\\\angl_right_hips_mov.csv'),\n  ('angl_right_should_mov',\n   '../../results/big_dataset/TSD_angles\\\\S008C\\\\angl_right_should_mov.csv')],\n 'S009S': [('angl_bow_mov',\n   '../../results/big_dataset/TSD_angles\\\\S009S\\\\angl_bow_mov.csv'),\n  ('angl_head_inclination',\n   '../../results/big_dataset/TSD_angles\\\\S009S\\\\angl_head_inclination.csv'),\n  ('angl_left_cheek_mov',\n   '../../results/big_dataset/TSD_angles\\\\S009S\\\\angl_left_cheek_mov.csv'),\n  ('angl_left_elbow_mov',\n   '../../results/big_dataset/TSD_angles\\\\S009S\\\\angl_left_elbow_mov.csv'),\n  ('angl_left_fingers_pos_mov',\n   '../../results/big_dataset/TSD_angles\\\\S009S\\\\angl_left_fingers_pos_mov.csv'),\n  ('angl_left_hips_mov',\n   '../../results/big_dataset/TSD_angles\\\\S009S\\\\angl_left_hips_mov.csv'),\n  ('angl_left_should_mov',\n   '../../results/big_dataset/TSD_angles\\\\S009S\\\\angl_left_should_mov.csv'),\n  ('angl_left_wrist_round',\n   '../../results/big_dataset/TSD_angles\\\\S009S\\\\angl_left_wrist_round.csv'),\n  ('angl_right_cheek_mov',\n   '../../results/big_dataset/TSD_angles\\\\S009S\\\\angl_right_cheek_mov.csv'),\n  ('angl_right_elbow_mov',\n   '../../results/big_dataset/TSD_angles\\\\S009S\\\\angl_right_elbow_mov.csv'),\n  ('angl_right_fingers_pos_mov',\n   '../../results/big_dataset/TSD_angles\\\\S009S\\\\angl_right_fingers_pos_mov.csv'),\n  ('angl_right_hips_mov',\n   '../../results/big_dataset/TSD_angles\\\\S009S\\\\angl_right_hips_mov.csv'),\n  ('angl_right_should_mov',\n   '../../results/big_dataset/TSD_angles\\\\S009S\\\\angl_right_should_mov.csv')],\n 'S002S': [('angl_bow_mov',\n   '../../results/big_dataset/TSD_angles\\\\S002S\\\\angl_bow_mov.csv'),\n  ('angl_head_inclination',\n   '../../results/big_dataset/TSD_angles\\\\S002S\\\\angl_head_inclination.csv'),\n  ('angl_left_cheek_mov',\n   '../../results/big_dataset/TSD_angles\\\\S002S\\\\angl_left_cheek_mov.csv'),\n  ('angl_left_elbow_mov',\n   '../../results/big_dataset/TSD_angles\\\\S002S\\\\angl_left_elbow_mov.csv'),\n  ('angl_left_fingers_pos_mov',\n   '../../results/big_dataset/TSD_angles\\\\S002S\\\\angl_left_fingers_pos_mov.csv'),\n  ('angl_left_hips_mov',\n   '../../results/big_dataset/TSD_angles\\\\S002S\\\\angl_left_hips_mov.csv'),\n  ('angl_left_should_mov',\n   '../../results/big_dataset/TSD_angles\\\\S002S\\\\angl_left_should_mov.csv'),\n  ('angl_left_wrist_round',\n   '../../results/big_dataset/TSD_angles\\\\S002S\\\\angl_left_wrist_round.csv'),\n  ('angl_right_cheek_mov',\n   '../../results/big_dataset/TSD_angles\\\\S002S\\\\angl_right_cheek_mov.csv'),\n  ('angl_right_elbow_mov',\n   '../../results/big_dataset/TSD_angles\\\\S002S\\\\angl_right_elbow_mov.csv'),\n  ('angl_right_fingers_pos_mov',\n   '../../results/big_dataset/TSD_angles\\\\S002S\\\\angl_right_fingers_pos_mov.csv'),\n  ('angl_right_hips_mov',\n   '../../results/big_dataset/TSD_angles\\\\S002S\\\\angl_right_hips_mov.csv'),\n  ('angl_right_should_mov',\n   '../../results/big_dataset/TSD_angles\\\\S002S\\\\angl_right_should_mov.csv')],\n 'S007C': [('angl_bow_mov',\n   '../../results/big_dataset/TSD_angles\\\\S007C\\\\angl_bow_mov.csv'),\n  ('angl_head_inclination',\n   '../../results/big_dataset/TSD_angles\\\\S007C\\\\angl_head_inclination.csv'),\n  ('angl_left_cheek_mov',\n   '../../results/big_dataset/TSD_angles\\\\S007C\\\\angl_left_cheek_mov.csv'),\n  ('angl_left_elbow_mov',\n   '../../results/big_dataset/TSD_angles\\\\S007C\\\\angl_left_elbow_mov.csv'),\n  ('angl_left_fingers_pos_mov',\n   '../../results/big_dataset/TSD_angles\\\\S007C\\\\angl_left_fingers_pos_mov.csv'),\n  ('angl_left_hips_mov',\n   '../../results/big_dataset/TSD_angles\\\\S007C\\\\angl_left_hips_mov.csv'),\n  ('angl_left_should_mov',\n   '../../results/big_dataset/TSD_angles\\\\S007C\\\\angl_left_should_mov.csv'),\n  ('angl_left_wrist_round',\n   '../../results/big_dataset/TSD_angles\\\\S007C\\\\angl_left_wrist_round.csv'),\n  ('angl_right_cheek_mov',\n   '../../results/big_dataset/TSD_angles\\\\S007C\\\\angl_right_cheek_mov.csv'),\n  ('angl_right_elbow_mov',\n   '../../results/big_dataset/TSD_angles\\\\S007C\\\\angl_right_elbow_mov.csv'),\n  ('angl_right_fingers_pos_mov',\n   '../../results/big_dataset/TSD_angles\\\\S007C\\\\angl_right_fingers_pos_mov.csv'),\n  ('angl_right_hips_mov',\n   '../../results/big_dataset/TSD_angles\\\\S007C\\\\angl_right_hips_mov.csv'),\n  ('angl_right_should_mov',\n   '../../results/big_dataset/TSD_angles\\\\S007C\\\\angl_right_should_mov.csv')],\n 'S007I': [('angl_bow_mov',\n   '../../results/big_dataset/TSD_angles\\\\S007I\\\\angl_bow_mov.csv'),\n  ('angl_head_inclination',\n   '../../results/big_dataset/TSD_angles\\\\S007I\\\\angl_head_inclination.csv'),\n  ('angl_left_cheek_mov',\n   '../../results/big_dataset/TSD_angles\\\\S007I\\\\angl_left_cheek_mov.csv'),\n  ('angl_left_elbow_mov',\n   '../../results/big_dataset/TSD_angles\\\\S007I\\\\angl_left_elbow_mov.csv'),\n  ('angl_left_fingers_pos_mov',\n   '../../results/big_dataset/TSD_angles\\\\S007I\\\\angl_left_fingers_pos_mov.csv'),\n  ('angl_left_hips_mov',\n   '../../results/big_dataset/TSD_angles\\\\S007I\\\\angl_left_hips_mov.csv'),\n  ('angl_left_should_mov',\n   '../../results/big_dataset/TSD_angles\\\\S007I\\\\angl_left_should_mov.csv'),\n  ('angl_left_wrist_round',\n   '../../results/big_dataset/TSD_angles\\\\S007I\\\\angl_left_wrist_round.csv'),\n  ('angl_right_cheek_mov',\n   '../../results/big_dataset/TSD_angles\\\\S007I\\\\angl_right_cheek_mov.csv'),\n  ('angl_right_elbow_mov',\n   '../../results/big_dataset/TSD_angles\\\\S007I\\\\angl_right_elbow_mov.csv'),\n  ('angl_right_fingers_pos_mov',\n   '../../results/big_dataset/TSD_angles\\\\S007I\\\\angl_right_fingers_pos_mov.csv'),\n  ('angl_right_hips_mov',\n   '../../results/big_dataset/TSD_angles\\\\S007I\\\\angl_right_hips_mov.csv'),\n  ('angl_right_should_mov',\n   '../../results/big_dataset/TSD_angles\\\\S007I\\\\angl_right_should_mov.csv')],\n 'S007S': [('angl_bow_mov',\n   '../../results/big_dataset/TSD_angles\\\\S007S\\\\angl_bow_mov.csv'),\n  ('angl_head_inclination',\n   '../../results/big_dataset/TSD_angles\\\\S007S\\\\angl_head_inclination.csv'),\n  ('angl_left_cheek_mov',\n   '../../results/big_dataset/TSD_angles\\\\S007S\\\\angl_left_cheek_mov.csv'),\n  ('angl_left_elbow_mov',\n   '../../results/big_dataset/TSD_angles\\\\S007S\\\\angl_left_elbow_mov.csv'),\n  ('angl_left_fingers_pos_mov',\n   '../../results/big_dataset/TSD_angles\\\\S007S\\\\angl_left_fingers_pos_mov.csv'),\n  ('angl_left_hips_mov',\n   '../../results/big_dataset/TSD_angles\\\\S007S\\\\angl_left_hips_mov.csv'),\n  ('angl_left_should_mov',\n   '../../results/big_dataset/TSD_angles\\\\S007S\\\\angl_left_should_mov.csv'),\n  ('angl_left_wrist_round',\n   '../../results/big_dataset/TSD_angles\\\\S007S\\\\angl_left_wrist_round.csv'),\n  ('angl_right_cheek_mov',\n   '../../results/big_dataset/TSD_angles\\\\S007S\\\\angl_right_cheek_mov.csv'),\n  ('angl_right_elbow_mov',\n   '../../results/big_dataset/TSD_angles\\\\S007S\\\\angl_right_elbow_mov.csv'),\n  ('angl_right_fingers_pos_mov',\n   '../../results/big_dataset/TSD_angles\\\\S007S\\\\angl_right_fingers_pos_mov.csv'),\n  ('angl_right_hips_mov',\n   '../../results/big_dataset/TSD_angles\\\\S007S\\\\angl_right_hips_mov.csv'),\n  ('angl_right_should_mov',\n   '../../results/big_dataset/TSD_angles\\\\S007S\\\\angl_right_should_mov.csv')],\n 'S009C': [('angl_bow_mov',\n   '../../results/big_dataset/TSD_angles\\\\S009C\\\\angl_bow_mov.csv'),\n  ('angl_head_inclination',\n   '../../results/big_dataset/TSD_angles\\\\S009C\\\\angl_head_inclination.csv'),\n  ('angl_left_cheek_mov',\n   '../../results/big_dataset/TSD_angles\\\\S009C\\\\angl_left_cheek_mov.csv'),\n  ('angl_left_elbow_mov',\n   '../../results/big_dataset/TSD_angles\\\\S009C\\\\angl_left_elbow_mov.csv'),\n  ('angl_left_fingers_pos_mov',\n   '../../results/big_dataset/TSD_angles\\\\S009C\\\\angl_left_fingers_pos_mov.csv'),\n  ('angl_left_hips_mov',\n   '../../results/big_dataset/TSD_angles\\\\S009C\\\\angl_left_hips_mov.csv'),\n  ('angl_left_should_mov',\n   '../../results/big_dataset/TSD_angles\\\\S009C\\\\angl_left_should_mov.csv'),\n  ('angl_left_wrist_round',\n   '../../results/big_dataset/TSD_angles\\\\S009C\\\\angl_left_wrist_round.csv'),\n  ('angl_right_cheek_mov',\n   '../../results/big_dataset/TSD_angles\\\\S009C\\\\angl_right_cheek_mov.csv'),\n  ('angl_right_elbow_mov',\n   '../../results/big_dataset/TSD_angles\\\\S009C\\\\angl_right_elbow_mov.csv'),\n  ('angl_right_fingers_pos_mov',\n   '../../results/big_dataset/TSD_angles\\\\S009C\\\\angl_right_fingers_pos_mov.csv'),\n  ('angl_right_hips_mov',\n   '../../results/big_dataset/TSD_angles\\\\S009C\\\\angl_right_hips_mov.csv'),\n  ('angl_right_should_mov',\n   '../../results/big_dataset/TSD_angles\\\\S009C\\\\angl_right_should_mov.csv')],\n 'S009I': [('angl_bow_mov',\n   '../../results/big_dataset/TSD_angles\\\\S009I\\\\angl_bow_mov.csv'),\n  ('angl_head_inclination',\n   '../../results/big_dataset/TSD_angles\\\\S009I\\\\angl_head_inclination.csv'),\n  ('angl_left_cheek_mov',\n   '../../results/big_dataset/TSD_angles\\\\S009I\\\\angl_left_cheek_mov.csv'),\n  ('angl_left_elbow_mov',\n   '../../results/big_dataset/TSD_angles\\\\S009I\\\\angl_left_elbow_mov.csv'),\n  ('angl_left_fingers_pos_mov',\n   '../../results/big_dataset/TSD_angles\\\\S009I\\\\angl_left_fingers_pos_mov.csv'),\n  ('angl_left_hips_mov',\n   '../../results/big_dataset/TSD_angles\\\\S009I\\\\angl_left_hips_mov.csv'),\n  ('angl_left_should_mov',\n   '../../results/big_dataset/TSD_angles\\\\S009I\\\\angl_left_should_mov.csv'),\n  ('angl_left_wrist_round',\n   '../../results/big_dataset/TSD_angles\\\\S009I\\\\angl_left_wrist_round.csv'),\n  ('angl_right_cheek_mov',\n   '../../results/big_dataset/TSD_angles\\\\S009I\\\\angl_right_cheek_mov.csv'),\n  ('angl_right_elbow_mov',\n   '../../results/big_dataset/TSD_angles\\\\S009I\\\\angl_right_elbow_mov.csv'),\n  ('angl_right_fingers_pos_mov',\n   '../../results/big_dataset/TSD_angles\\\\S009I\\\\angl_right_fingers_pos_mov.csv'),\n  ('angl_right_hips_mov',\n   '../../results/big_dataset/TSD_angles\\\\S009I\\\\angl_right_hips_mov.csv'),\n  ('angl_right_should_mov',\n   '../../results/big_dataset/TSD_angles\\\\S009I\\\\angl_right_should_mov.csv')]}"
     },
     "execution_count": 47,
     "metadata": {},
     "output_type": "execute_result"
    }
   ],
   "source": [
    "paths_to_csv"
   ],
   "metadata": {
    "collapsed": false,
    "pycharm": {
     "name": "#%%\n"
    }
   }
  },
  {
   "cell_type": "code",
   "execution_count": 48,
   "outputs": [
    {
     "name": "stdout",
     "output_type": "stream",
     "text": [
      "['S001C', 'S002C', 'S007C', 'S008C', 'S009C', 'S002I', 'S003I', 'S005I', 'S007I', 'S009I', 'S001S', 'S002S', 'S004S', 'S007S', 'S009S']\n"
     ]
    }
   ],
   "source": [
    "# sort values to show firstly C class then I and S\n",
    "names_of_videos = [v for v in paths_to_csv.keys()]\n",
    "names_of_videos.sort(key=lambda v: v[::-1])\n",
    "print(names_of_videos)"
   ],
   "metadata": {
    "collapsed": false,
    "pycharm": {
     "name": "#%%\n"
    }
   }
  },
  {
   "cell_type": "code",
   "execution_count": 49,
   "outputs": [],
   "source": [
    "angles = pd.read_csv(paths_to_csv[names_of_videos[0]][0][1])['angle'].to_list()"
   ],
   "metadata": {
    "collapsed": false,
    "pycharm": {
     "name": "#%%\n"
    }
   }
  },
  {
   "cell_type": "code",
   "execution_count": 50,
   "outputs": [],
   "source": [
    "num_of_metrics = len(paths_to_csv[names_of_videos[0]])"
   ],
   "metadata": {
    "collapsed": false,
    "pycharm": {
     "name": "#%%\n"
    }
   }
  },
  {
   "cell_type": "code",
   "execution_count": 51,
   "outputs": [
    {
     "data": {
      "text/plain": "{'S001C': [('angl_bow_mov',\n   '../../results/big_dataset/TSD_angles\\\\S001C\\\\angl_bow_mov.csv'),\n  ('angl_head_inclination',\n   '../../results/big_dataset/TSD_angles\\\\S001C\\\\angl_head_inclination.csv'),\n  ('angl_left_cheek_mov',\n   '../../results/big_dataset/TSD_angles\\\\S001C\\\\angl_left_cheek_mov.csv'),\n  ('angl_left_elbow_mov',\n   '../../results/big_dataset/TSD_angles\\\\S001C\\\\angl_left_elbow_mov.csv'),\n  ('angl_left_fingers_pos_mov',\n   '../../results/big_dataset/TSD_angles\\\\S001C\\\\angl_left_fingers_pos_mov.csv'),\n  ('angl_left_hips_mov',\n   '../../results/big_dataset/TSD_angles\\\\S001C\\\\angl_left_hips_mov.csv'),\n  ('angl_left_should_mov',\n   '../../results/big_dataset/TSD_angles\\\\S001C\\\\angl_left_should_mov.csv'),\n  ('angl_left_wrist_round',\n   '../../results/big_dataset/TSD_angles\\\\S001C\\\\angl_left_wrist_round.csv'),\n  ('angl_right_cheek_mov',\n   '../../results/big_dataset/TSD_angles\\\\S001C\\\\angl_right_cheek_mov.csv'),\n  ('angl_right_elbow_mov',\n   '../../results/big_dataset/TSD_angles\\\\S001C\\\\angl_right_elbow_mov.csv'),\n  ('angl_right_fingers_pos_mov',\n   '../../results/big_dataset/TSD_angles\\\\S001C\\\\angl_right_fingers_pos_mov.csv'),\n  ('angl_right_hips_mov',\n   '../../results/big_dataset/TSD_angles\\\\S001C\\\\angl_right_hips_mov.csv'),\n  ('angl_right_should_mov',\n   '../../results/big_dataset/TSD_angles\\\\S001C\\\\angl_right_should_mov.csv')],\n 'S001S': [('angl_bow_mov',\n   '../../results/big_dataset/TSD_angles\\\\S001S\\\\angl_bow_mov.csv'),\n  ('angl_head_inclination',\n   '../../results/big_dataset/TSD_angles\\\\S001S\\\\angl_head_inclination.csv'),\n  ('angl_left_cheek_mov',\n   '../../results/big_dataset/TSD_angles\\\\S001S\\\\angl_left_cheek_mov.csv'),\n  ('angl_left_elbow_mov',\n   '../../results/big_dataset/TSD_angles\\\\S001S\\\\angl_left_elbow_mov.csv'),\n  ('angl_left_fingers_pos_mov',\n   '../../results/big_dataset/TSD_angles\\\\S001S\\\\angl_left_fingers_pos_mov.csv'),\n  ('angl_left_hips_mov',\n   '../../results/big_dataset/TSD_angles\\\\S001S\\\\angl_left_hips_mov.csv'),\n  ('angl_left_should_mov',\n   '../../results/big_dataset/TSD_angles\\\\S001S\\\\angl_left_should_mov.csv'),\n  ('angl_left_wrist_round',\n   '../../results/big_dataset/TSD_angles\\\\S001S\\\\angl_left_wrist_round.csv'),\n  ('angl_right_cheek_mov',\n   '../../results/big_dataset/TSD_angles\\\\S001S\\\\angl_right_cheek_mov.csv'),\n  ('angl_right_elbow_mov',\n   '../../results/big_dataset/TSD_angles\\\\S001S\\\\angl_right_elbow_mov.csv'),\n  ('angl_right_fingers_pos_mov',\n   '../../results/big_dataset/TSD_angles\\\\S001S\\\\angl_right_fingers_pos_mov.csv'),\n  ('angl_right_hips_mov',\n   '../../results/big_dataset/TSD_angles\\\\S001S\\\\angl_right_hips_mov.csv'),\n  ('angl_right_should_mov',\n   '../../results/big_dataset/TSD_angles\\\\S001S\\\\angl_right_should_mov.csv')],\n 'S002C': [('angl_bow_mov',\n   '../../results/big_dataset/TSD_angles\\\\S002C\\\\angl_bow_mov.csv'),\n  ('angl_head_inclination',\n   '../../results/big_dataset/TSD_angles\\\\S002C\\\\angl_head_inclination.csv'),\n  ('angl_left_cheek_mov',\n   '../../results/big_dataset/TSD_angles\\\\S002C\\\\angl_left_cheek_mov.csv'),\n  ('angl_left_elbow_mov',\n   '../../results/big_dataset/TSD_angles\\\\S002C\\\\angl_left_elbow_mov.csv'),\n  ('angl_left_fingers_pos_mov',\n   '../../results/big_dataset/TSD_angles\\\\S002C\\\\angl_left_fingers_pos_mov.csv'),\n  ('angl_left_hips_mov',\n   '../../results/big_dataset/TSD_angles\\\\S002C\\\\angl_left_hips_mov.csv'),\n  ('angl_left_should_mov',\n   '../../results/big_dataset/TSD_angles\\\\S002C\\\\angl_left_should_mov.csv'),\n  ('angl_left_wrist_round',\n   '../../results/big_dataset/TSD_angles\\\\S002C\\\\angl_left_wrist_round.csv'),\n  ('angl_right_cheek_mov',\n   '../../results/big_dataset/TSD_angles\\\\S002C\\\\angl_right_cheek_mov.csv'),\n  ('angl_right_elbow_mov',\n   '../../results/big_dataset/TSD_angles\\\\S002C\\\\angl_right_elbow_mov.csv'),\n  ('angl_right_fingers_pos_mov',\n   '../../results/big_dataset/TSD_angles\\\\S002C\\\\angl_right_fingers_pos_mov.csv'),\n  ('angl_right_hips_mov',\n   '../../results/big_dataset/TSD_angles\\\\S002C\\\\angl_right_hips_mov.csv'),\n  ('angl_right_should_mov',\n   '../../results/big_dataset/TSD_angles\\\\S002C\\\\angl_right_should_mov.csv')],\n 'S002I': [('angl_bow_mov',\n   '../../results/big_dataset/TSD_angles\\\\S002I\\\\angl_bow_mov.csv'),\n  ('angl_head_inclination',\n   '../../results/big_dataset/TSD_angles\\\\S002I\\\\angl_head_inclination.csv'),\n  ('angl_left_cheek_mov',\n   '../../results/big_dataset/TSD_angles\\\\S002I\\\\angl_left_cheek_mov.csv'),\n  ('angl_left_elbow_mov',\n   '../../results/big_dataset/TSD_angles\\\\S002I\\\\angl_left_elbow_mov.csv'),\n  ('angl_left_fingers_pos_mov',\n   '../../results/big_dataset/TSD_angles\\\\S002I\\\\angl_left_fingers_pos_mov.csv'),\n  ('angl_left_hips_mov',\n   '../../results/big_dataset/TSD_angles\\\\S002I\\\\angl_left_hips_mov.csv'),\n  ('angl_left_should_mov',\n   '../../results/big_dataset/TSD_angles\\\\S002I\\\\angl_left_should_mov.csv'),\n  ('angl_left_wrist_round',\n   '../../results/big_dataset/TSD_angles\\\\S002I\\\\angl_left_wrist_round.csv'),\n  ('angl_right_cheek_mov',\n   '../../results/big_dataset/TSD_angles\\\\S002I\\\\angl_right_cheek_mov.csv'),\n  ('angl_right_elbow_mov',\n   '../../results/big_dataset/TSD_angles\\\\S002I\\\\angl_right_elbow_mov.csv'),\n  ('angl_right_fingers_pos_mov',\n   '../../results/big_dataset/TSD_angles\\\\S002I\\\\angl_right_fingers_pos_mov.csv'),\n  ('angl_right_hips_mov',\n   '../../results/big_dataset/TSD_angles\\\\S002I\\\\angl_right_hips_mov.csv'),\n  ('angl_right_should_mov',\n   '../../results/big_dataset/TSD_angles\\\\S002I\\\\angl_right_should_mov.csv')],\n 'S003I': [('angl_bow_mov',\n   '../../results/big_dataset/TSD_angles\\\\S003I\\\\angl_bow_mov.csv'),\n  ('angl_head_inclination',\n   '../../results/big_dataset/TSD_angles\\\\S003I\\\\angl_head_inclination.csv'),\n  ('angl_left_cheek_mov',\n   '../../results/big_dataset/TSD_angles\\\\S003I\\\\angl_left_cheek_mov.csv'),\n  ('angl_left_elbow_mov',\n   '../../results/big_dataset/TSD_angles\\\\S003I\\\\angl_left_elbow_mov.csv'),\n  ('angl_left_fingers_pos_mov',\n   '../../results/big_dataset/TSD_angles\\\\S003I\\\\angl_left_fingers_pos_mov.csv'),\n  ('angl_left_hips_mov',\n   '../../results/big_dataset/TSD_angles\\\\S003I\\\\angl_left_hips_mov.csv'),\n  ('angl_left_should_mov',\n   '../../results/big_dataset/TSD_angles\\\\S003I\\\\angl_left_should_mov.csv'),\n  ('angl_left_wrist_round',\n   '../../results/big_dataset/TSD_angles\\\\S003I\\\\angl_left_wrist_round.csv'),\n  ('angl_right_cheek_mov',\n   '../../results/big_dataset/TSD_angles\\\\S003I\\\\angl_right_cheek_mov.csv'),\n  ('angl_right_elbow_mov',\n   '../../results/big_dataset/TSD_angles\\\\S003I\\\\angl_right_elbow_mov.csv'),\n  ('angl_right_fingers_pos_mov',\n   '../../results/big_dataset/TSD_angles\\\\S003I\\\\angl_right_fingers_pos_mov.csv'),\n  ('angl_right_hips_mov',\n   '../../results/big_dataset/TSD_angles\\\\S003I\\\\angl_right_hips_mov.csv'),\n  ('angl_right_should_mov',\n   '../../results/big_dataset/TSD_angles\\\\S003I\\\\angl_right_should_mov.csv')],\n 'S004S': [('angl_bow_mov',\n   '../../results/big_dataset/TSD_angles\\\\S004S\\\\angl_bow_mov.csv'),\n  ('angl_head_inclination',\n   '../../results/big_dataset/TSD_angles\\\\S004S\\\\angl_head_inclination.csv'),\n  ('angl_left_cheek_mov',\n   '../../results/big_dataset/TSD_angles\\\\S004S\\\\angl_left_cheek_mov.csv'),\n  ('angl_left_elbow_mov',\n   '../../results/big_dataset/TSD_angles\\\\S004S\\\\angl_left_elbow_mov.csv'),\n  ('angl_left_fingers_pos_mov',\n   '../../results/big_dataset/TSD_angles\\\\S004S\\\\angl_left_fingers_pos_mov.csv'),\n  ('angl_left_hips_mov',\n   '../../results/big_dataset/TSD_angles\\\\S004S\\\\angl_left_hips_mov.csv'),\n  ('angl_left_should_mov',\n   '../../results/big_dataset/TSD_angles\\\\S004S\\\\angl_left_should_mov.csv'),\n  ('angl_left_wrist_round',\n   '../../results/big_dataset/TSD_angles\\\\S004S\\\\angl_left_wrist_round.csv'),\n  ('angl_right_cheek_mov',\n   '../../results/big_dataset/TSD_angles\\\\S004S\\\\angl_right_cheek_mov.csv'),\n  ('angl_right_elbow_mov',\n   '../../results/big_dataset/TSD_angles\\\\S004S\\\\angl_right_elbow_mov.csv'),\n  ('angl_right_fingers_pos_mov',\n   '../../results/big_dataset/TSD_angles\\\\S004S\\\\angl_right_fingers_pos_mov.csv'),\n  ('angl_right_hips_mov',\n   '../../results/big_dataset/TSD_angles\\\\S004S\\\\angl_right_hips_mov.csv'),\n  ('angl_right_should_mov',\n   '../../results/big_dataset/TSD_angles\\\\S004S\\\\angl_right_should_mov.csv')],\n 'S005I': [('angl_bow_mov',\n   '../../results/big_dataset/TSD_angles\\\\S005I\\\\angl_bow_mov.csv'),\n  ('angl_head_inclination',\n   '../../results/big_dataset/TSD_angles\\\\S005I\\\\angl_head_inclination.csv'),\n  ('angl_left_cheek_mov',\n   '../../results/big_dataset/TSD_angles\\\\S005I\\\\angl_left_cheek_mov.csv'),\n  ('angl_left_elbow_mov',\n   '../../results/big_dataset/TSD_angles\\\\S005I\\\\angl_left_elbow_mov.csv'),\n  ('angl_left_fingers_pos_mov',\n   '../../results/big_dataset/TSD_angles\\\\S005I\\\\angl_left_fingers_pos_mov.csv'),\n  ('angl_left_hips_mov',\n   '../../results/big_dataset/TSD_angles\\\\S005I\\\\angl_left_hips_mov.csv'),\n  ('angl_left_should_mov',\n   '../../results/big_dataset/TSD_angles\\\\S005I\\\\angl_left_should_mov.csv'),\n  ('angl_left_wrist_round',\n   '../../results/big_dataset/TSD_angles\\\\S005I\\\\angl_left_wrist_round.csv'),\n  ('angl_right_cheek_mov',\n   '../../results/big_dataset/TSD_angles\\\\S005I\\\\angl_right_cheek_mov.csv'),\n  ('angl_right_elbow_mov',\n   '../../results/big_dataset/TSD_angles\\\\S005I\\\\angl_right_elbow_mov.csv'),\n  ('angl_right_fingers_pos_mov',\n   '../../results/big_dataset/TSD_angles\\\\S005I\\\\angl_right_fingers_pos_mov.csv'),\n  ('angl_right_hips_mov',\n   '../../results/big_dataset/TSD_angles\\\\S005I\\\\angl_right_hips_mov.csv'),\n  ('angl_right_should_mov',\n   '../../results/big_dataset/TSD_angles\\\\S005I\\\\angl_right_should_mov.csv')],\n 'S008C': [('angl_bow_mov',\n   '../../results/big_dataset/TSD_angles\\\\S008C\\\\angl_bow_mov.csv'),\n  ('angl_head_inclination',\n   '../../results/big_dataset/TSD_angles\\\\S008C\\\\angl_head_inclination.csv'),\n  ('angl_left_cheek_mov',\n   '../../results/big_dataset/TSD_angles\\\\S008C\\\\angl_left_cheek_mov.csv'),\n  ('angl_left_elbow_mov',\n   '../../results/big_dataset/TSD_angles\\\\S008C\\\\angl_left_elbow_mov.csv'),\n  ('angl_left_fingers_pos_mov',\n   '../../results/big_dataset/TSD_angles\\\\S008C\\\\angl_left_fingers_pos_mov.csv'),\n  ('angl_left_hips_mov',\n   '../../results/big_dataset/TSD_angles\\\\S008C\\\\angl_left_hips_mov.csv'),\n  ('angl_left_should_mov',\n   '../../results/big_dataset/TSD_angles\\\\S008C\\\\angl_left_should_mov.csv'),\n  ('angl_left_wrist_round',\n   '../../results/big_dataset/TSD_angles\\\\S008C\\\\angl_left_wrist_round.csv'),\n  ('angl_right_cheek_mov',\n   '../../results/big_dataset/TSD_angles\\\\S008C\\\\angl_right_cheek_mov.csv'),\n  ('angl_right_elbow_mov',\n   '../../results/big_dataset/TSD_angles\\\\S008C\\\\angl_right_elbow_mov.csv'),\n  ('angl_right_fingers_pos_mov',\n   '../../results/big_dataset/TSD_angles\\\\S008C\\\\angl_right_fingers_pos_mov.csv'),\n  ('angl_right_hips_mov',\n   '../../results/big_dataset/TSD_angles\\\\S008C\\\\angl_right_hips_mov.csv'),\n  ('angl_right_should_mov',\n   '../../results/big_dataset/TSD_angles\\\\S008C\\\\angl_right_should_mov.csv')],\n 'S009S': [('angl_bow_mov',\n   '../../results/big_dataset/TSD_angles\\\\S009S\\\\angl_bow_mov.csv'),\n  ('angl_head_inclination',\n   '../../results/big_dataset/TSD_angles\\\\S009S\\\\angl_head_inclination.csv'),\n  ('angl_left_cheek_mov',\n   '../../results/big_dataset/TSD_angles\\\\S009S\\\\angl_left_cheek_mov.csv'),\n  ('angl_left_elbow_mov',\n   '../../results/big_dataset/TSD_angles\\\\S009S\\\\angl_left_elbow_mov.csv'),\n  ('angl_left_fingers_pos_mov',\n   '../../results/big_dataset/TSD_angles\\\\S009S\\\\angl_left_fingers_pos_mov.csv'),\n  ('angl_left_hips_mov',\n   '../../results/big_dataset/TSD_angles\\\\S009S\\\\angl_left_hips_mov.csv'),\n  ('angl_left_should_mov',\n   '../../results/big_dataset/TSD_angles\\\\S009S\\\\angl_left_should_mov.csv'),\n  ('angl_left_wrist_round',\n   '../../results/big_dataset/TSD_angles\\\\S009S\\\\angl_left_wrist_round.csv'),\n  ('angl_right_cheek_mov',\n   '../../results/big_dataset/TSD_angles\\\\S009S\\\\angl_right_cheek_mov.csv'),\n  ('angl_right_elbow_mov',\n   '../../results/big_dataset/TSD_angles\\\\S009S\\\\angl_right_elbow_mov.csv'),\n  ('angl_right_fingers_pos_mov',\n   '../../results/big_dataset/TSD_angles\\\\S009S\\\\angl_right_fingers_pos_mov.csv'),\n  ('angl_right_hips_mov',\n   '../../results/big_dataset/TSD_angles\\\\S009S\\\\angl_right_hips_mov.csv'),\n  ('angl_right_should_mov',\n   '../../results/big_dataset/TSD_angles\\\\S009S\\\\angl_right_should_mov.csv')],\n 'S002S': [('angl_bow_mov',\n   '../../results/big_dataset/TSD_angles\\\\S002S\\\\angl_bow_mov.csv'),\n  ('angl_head_inclination',\n   '../../results/big_dataset/TSD_angles\\\\S002S\\\\angl_head_inclination.csv'),\n  ('angl_left_cheek_mov',\n   '../../results/big_dataset/TSD_angles\\\\S002S\\\\angl_left_cheek_mov.csv'),\n  ('angl_left_elbow_mov',\n   '../../results/big_dataset/TSD_angles\\\\S002S\\\\angl_left_elbow_mov.csv'),\n  ('angl_left_fingers_pos_mov',\n   '../../results/big_dataset/TSD_angles\\\\S002S\\\\angl_left_fingers_pos_mov.csv'),\n  ('angl_left_hips_mov',\n   '../../results/big_dataset/TSD_angles\\\\S002S\\\\angl_left_hips_mov.csv'),\n  ('angl_left_should_mov',\n   '../../results/big_dataset/TSD_angles\\\\S002S\\\\angl_left_should_mov.csv'),\n  ('angl_left_wrist_round',\n   '../../results/big_dataset/TSD_angles\\\\S002S\\\\angl_left_wrist_round.csv'),\n  ('angl_right_cheek_mov',\n   '../../results/big_dataset/TSD_angles\\\\S002S\\\\angl_right_cheek_mov.csv'),\n  ('angl_right_elbow_mov',\n   '../../results/big_dataset/TSD_angles\\\\S002S\\\\angl_right_elbow_mov.csv'),\n  ('angl_right_fingers_pos_mov',\n   '../../results/big_dataset/TSD_angles\\\\S002S\\\\angl_right_fingers_pos_mov.csv'),\n  ('angl_right_hips_mov',\n   '../../results/big_dataset/TSD_angles\\\\S002S\\\\angl_right_hips_mov.csv'),\n  ('angl_right_should_mov',\n   '../../results/big_dataset/TSD_angles\\\\S002S\\\\angl_right_should_mov.csv')],\n 'S007C': [('angl_bow_mov',\n   '../../results/big_dataset/TSD_angles\\\\S007C\\\\angl_bow_mov.csv'),\n  ('angl_head_inclination',\n   '../../results/big_dataset/TSD_angles\\\\S007C\\\\angl_head_inclination.csv'),\n  ('angl_left_cheek_mov',\n   '../../results/big_dataset/TSD_angles\\\\S007C\\\\angl_left_cheek_mov.csv'),\n  ('angl_left_elbow_mov',\n   '../../results/big_dataset/TSD_angles\\\\S007C\\\\angl_left_elbow_mov.csv'),\n  ('angl_left_fingers_pos_mov',\n   '../../results/big_dataset/TSD_angles\\\\S007C\\\\angl_left_fingers_pos_mov.csv'),\n  ('angl_left_hips_mov',\n   '../../results/big_dataset/TSD_angles\\\\S007C\\\\angl_left_hips_mov.csv'),\n  ('angl_left_should_mov',\n   '../../results/big_dataset/TSD_angles\\\\S007C\\\\angl_left_should_mov.csv'),\n  ('angl_left_wrist_round',\n   '../../results/big_dataset/TSD_angles\\\\S007C\\\\angl_left_wrist_round.csv'),\n  ('angl_right_cheek_mov',\n   '../../results/big_dataset/TSD_angles\\\\S007C\\\\angl_right_cheek_mov.csv'),\n  ('angl_right_elbow_mov',\n   '../../results/big_dataset/TSD_angles\\\\S007C\\\\angl_right_elbow_mov.csv'),\n  ('angl_right_fingers_pos_mov',\n   '../../results/big_dataset/TSD_angles\\\\S007C\\\\angl_right_fingers_pos_mov.csv'),\n  ('angl_right_hips_mov',\n   '../../results/big_dataset/TSD_angles\\\\S007C\\\\angl_right_hips_mov.csv'),\n  ('angl_right_should_mov',\n   '../../results/big_dataset/TSD_angles\\\\S007C\\\\angl_right_should_mov.csv')],\n 'S007I': [('angl_bow_mov',\n   '../../results/big_dataset/TSD_angles\\\\S007I\\\\angl_bow_mov.csv'),\n  ('angl_head_inclination',\n   '../../results/big_dataset/TSD_angles\\\\S007I\\\\angl_head_inclination.csv'),\n  ('angl_left_cheek_mov',\n   '../../results/big_dataset/TSD_angles\\\\S007I\\\\angl_left_cheek_mov.csv'),\n  ('angl_left_elbow_mov',\n   '../../results/big_dataset/TSD_angles\\\\S007I\\\\angl_left_elbow_mov.csv'),\n  ('angl_left_fingers_pos_mov',\n   '../../results/big_dataset/TSD_angles\\\\S007I\\\\angl_left_fingers_pos_mov.csv'),\n  ('angl_left_hips_mov',\n   '../../results/big_dataset/TSD_angles\\\\S007I\\\\angl_left_hips_mov.csv'),\n  ('angl_left_should_mov',\n   '../../results/big_dataset/TSD_angles\\\\S007I\\\\angl_left_should_mov.csv'),\n  ('angl_left_wrist_round',\n   '../../results/big_dataset/TSD_angles\\\\S007I\\\\angl_left_wrist_round.csv'),\n  ('angl_right_cheek_mov',\n   '../../results/big_dataset/TSD_angles\\\\S007I\\\\angl_right_cheek_mov.csv'),\n  ('angl_right_elbow_mov',\n   '../../results/big_dataset/TSD_angles\\\\S007I\\\\angl_right_elbow_mov.csv'),\n  ('angl_right_fingers_pos_mov',\n   '../../results/big_dataset/TSD_angles\\\\S007I\\\\angl_right_fingers_pos_mov.csv'),\n  ('angl_right_hips_mov',\n   '../../results/big_dataset/TSD_angles\\\\S007I\\\\angl_right_hips_mov.csv'),\n  ('angl_right_should_mov',\n   '../../results/big_dataset/TSD_angles\\\\S007I\\\\angl_right_should_mov.csv')],\n 'S007S': [('angl_bow_mov',\n   '../../results/big_dataset/TSD_angles\\\\S007S\\\\angl_bow_mov.csv'),\n  ('angl_head_inclination',\n   '../../results/big_dataset/TSD_angles\\\\S007S\\\\angl_head_inclination.csv'),\n  ('angl_left_cheek_mov',\n   '../../results/big_dataset/TSD_angles\\\\S007S\\\\angl_left_cheek_mov.csv'),\n  ('angl_left_elbow_mov',\n   '../../results/big_dataset/TSD_angles\\\\S007S\\\\angl_left_elbow_mov.csv'),\n  ('angl_left_fingers_pos_mov',\n   '../../results/big_dataset/TSD_angles\\\\S007S\\\\angl_left_fingers_pos_mov.csv'),\n  ('angl_left_hips_mov',\n   '../../results/big_dataset/TSD_angles\\\\S007S\\\\angl_left_hips_mov.csv'),\n  ('angl_left_should_mov',\n   '../../results/big_dataset/TSD_angles\\\\S007S\\\\angl_left_should_mov.csv'),\n  ('angl_left_wrist_round',\n   '../../results/big_dataset/TSD_angles\\\\S007S\\\\angl_left_wrist_round.csv'),\n  ('angl_right_cheek_mov',\n   '../../results/big_dataset/TSD_angles\\\\S007S\\\\angl_right_cheek_mov.csv'),\n  ('angl_right_elbow_mov',\n   '../../results/big_dataset/TSD_angles\\\\S007S\\\\angl_right_elbow_mov.csv'),\n  ('angl_right_fingers_pos_mov',\n   '../../results/big_dataset/TSD_angles\\\\S007S\\\\angl_right_fingers_pos_mov.csv'),\n  ('angl_right_hips_mov',\n   '../../results/big_dataset/TSD_angles\\\\S007S\\\\angl_right_hips_mov.csv'),\n  ('angl_right_should_mov',\n   '../../results/big_dataset/TSD_angles\\\\S007S\\\\angl_right_should_mov.csv')],\n 'S009C': [('angl_bow_mov',\n   '../../results/big_dataset/TSD_angles\\\\S009C\\\\angl_bow_mov.csv'),\n  ('angl_head_inclination',\n   '../../results/big_dataset/TSD_angles\\\\S009C\\\\angl_head_inclination.csv'),\n  ('angl_left_cheek_mov',\n   '../../results/big_dataset/TSD_angles\\\\S009C\\\\angl_left_cheek_mov.csv'),\n  ('angl_left_elbow_mov',\n   '../../results/big_dataset/TSD_angles\\\\S009C\\\\angl_left_elbow_mov.csv'),\n  ('angl_left_fingers_pos_mov',\n   '../../results/big_dataset/TSD_angles\\\\S009C\\\\angl_left_fingers_pos_mov.csv'),\n  ('angl_left_hips_mov',\n   '../../results/big_dataset/TSD_angles\\\\S009C\\\\angl_left_hips_mov.csv'),\n  ('angl_left_should_mov',\n   '../../results/big_dataset/TSD_angles\\\\S009C\\\\angl_left_should_mov.csv'),\n  ('angl_left_wrist_round',\n   '../../results/big_dataset/TSD_angles\\\\S009C\\\\angl_left_wrist_round.csv'),\n  ('angl_right_cheek_mov',\n   '../../results/big_dataset/TSD_angles\\\\S009C\\\\angl_right_cheek_mov.csv'),\n  ('angl_right_elbow_mov',\n   '../../results/big_dataset/TSD_angles\\\\S009C\\\\angl_right_elbow_mov.csv'),\n  ('angl_right_fingers_pos_mov',\n   '../../results/big_dataset/TSD_angles\\\\S009C\\\\angl_right_fingers_pos_mov.csv'),\n  ('angl_right_hips_mov',\n   '../../results/big_dataset/TSD_angles\\\\S009C\\\\angl_right_hips_mov.csv'),\n  ('angl_right_should_mov',\n   '../../results/big_dataset/TSD_angles\\\\S009C\\\\angl_right_should_mov.csv')],\n 'S009I': [('angl_bow_mov',\n   '../../results/big_dataset/TSD_angles\\\\S009I\\\\angl_bow_mov.csv'),\n  ('angl_head_inclination',\n   '../../results/big_dataset/TSD_angles\\\\S009I\\\\angl_head_inclination.csv'),\n  ('angl_left_cheek_mov',\n   '../../results/big_dataset/TSD_angles\\\\S009I\\\\angl_left_cheek_mov.csv'),\n  ('angl_left_elbow_mov',\n   '../../results/big_dataset/TSD_angles\\\\S009I\\\\angl_left_elbow_mov.csv'),\n  ('angl_left_fingers_pos_mov',\n   '../../results/big_dataset/TSD_angles\\\\S009I\\\\angl_left_fingers_pos_mov.csv'),\n  ('angl_left_hips_mov',\n   '../../results/big_dataset/TSD_angles\\\\S009I\\\\angl_left_hips_mov.csv'),\n  ('angl_left_should_mov',\n   '../../results/big_dataset/TSD_angles\\\\S009I\\\\angl_left_should_mov.csv'),\n  ('angl_left_wrist_round',\n   '../../results/big_dataset/TSD_angles\\\\S009I\\\\angl_left_wrist_round.csv'),\n  ('angl_right_cheek_mov',\n   '../../results/big_dataset/TSD_angles\\\\S009I\\\\angl_right_cheek_mov.csv'),\n  ('angl_right_elbow_mov',\n   '../../results/big_dataset/TSD_angles\\\\S009I\\\\angl_right_elbow_mov.csv'),\n  ('angl_right_fingers_pos_mov',\n   '../../results/big_dataset/TSD_angles\\\\S009I\\\\angl_right_fingers_pos_mov.csv'),\n  ('angl_right_hips_mov',\n   '../../results/big_dataset/TSD_angles\\\\S009I\\\\angl_right_hips_mov.csv'),\n  ('angl_right_should_mov',\n   '../../results/big_dataset/TSD_angles\\\\S009I\\\\angl_right_should_mov.csv')]}"
     },
     "execution_count": 51,
     "metadata": {},
     "output_type": "execute_result"
    }
   ],
   "source": [
    "paths_to_csv"
   ],
   "metadata": {
    "collapsed": false,
    "pycharm": {
     "name": "#%%\n"
    }
   }
  },
  {
   "cell_type": "code",
   "execution_count": 51,
   "outputs": [],
   "source": [],
   "metadata": {
    "collapsed": false,
    "pycharm": {
     "name": "#%%\n"
    }
   }
  },
  {
   "cell_type": "code",
   "execution_count": 52,
   "outputs": [
    {
     "name": "stdout",
     "output_type": "stream",
     "text": [
      "S001C\n",
      "S001C\n",
      "S001C\n",
      "S001C\n",
      "S001C\n",
      "S001C\n",
      "S001C\n",
      "S001C\n",
      "S001C\n",
      "S001C\n",
      "S001C\n",
      "S001C\n",
      "S001C\n",
      "S002C\n",
      "S002C\n",
      "S002C\n",
      "S002C\n",
      "S002C\n",
      "S002C\n",
      "S002C\n",
      "S002C\n",
      "S002C\n",
      "S002C\n",
      "S002C\n",
      "S002C\n",
      "S002C\n",
      "S007C\n",
      "S007C\n",
      "S007C\n",
      "S007C\n",
      "S007C\n",
      "S007C\n",
      "S007C\n",
      "S007C\n",
      "S007C\n",
      "S007C\n",
      "S007C\n",
      "S007C\n",
      "S007C\n",
      "S008C\n",
      "S008C\n",
      "S008C\n",
      "S008C\n",
      "S008C\n",
      "S008C\n",
      "S008C\n",
      "S008C\n",
      "S008C\n",
      "S008C\n",
      "S008C\n",
      "S008C\n",
      "S008C\n",
      "S009C\n",
      "S009C\n",
      "S009C\n",
      "S009C\n",
      "S009C\n",
      "S009C\n",
      "S009C\n",
      "S009C\n",
      "S009C\n",
      "S009C\n",
      "S009C\n",
      "S009C\n",
      "S009C\n",
      "S002I\n",
      "S002I\n",
      "S002I\n",
      "S002I\n",
      "S002I\n",
      "S002I\n",
      "S002I\n",
      "S002I\n",
      "S002I\n",
      "S002I\n",
      "S002I\n",
      "S002I\n",
      "S002I\n",
      "S003I\n",
      "S003I\n",
      "S003I\n",
      "S003I\n",
      "S003I\n",
      "S003I\n",
      "S003I\n",
      "S003I\n",
      "S003I\n",
      "S003I\n",
      "S003I\n",
      "S003I\n",
      "S003I\n",
      "S005I\n",
      "S005I\n",
      "S005I\n",
      "S005I\n",
      "S005I\n",
      "S005I\n",
      "S005I\n",
      "S005I\n",
      "S005I\n",
      "S005I\n",
      "S005I\n",
      "S005I\n",
      "S005I\n",
      "S007I\n",
      "S007I\n",
      "S007I\n",
      "S007I\n",
      "S007I\n",
      "S007I\n",
      "S007I\n",
      "S007I\n",
      "S007I\n",
      "S007I\n",
      "S007I\n",
      "S007I\n",
      "S007I\n",
      "S009I\n",
      "S009I\n",
      "S009I\n",
      "S009I\n",
      "S009I\n",
      "S009I\n",
      "S009I\n",
      "S009I\n",
      "S009I\n",
      "S009I\n",
      "S009I\n",
      "S009I\n",
      "S009I\n",
      "S001S\n",
      "S001S\n",
      "S001S\n",
      "S001S\n",
      "S001S\n",
      "S001S\n",
      "S001S\n",
      "S001S\n",
      "S001S\n",
      "S001S\n",
      "S001S\n",
      "S001S\n",
      "S001S\n",
      "S002S\n",
      "S002S\n",
      "S002S\n",
      "S002S\n",
      "S002S\n",
      "S002S\n",
      "S002S\n",
      "S002S\n",
      "S002S\n",
      "S002S\n",
      "S002S\n",
      "S002S\n",
      "S002S\n",
      "S004S\n",
      "S004S\n",
      "S004S\n",
      "S004S\n",
      "S004S\n",
      "S004S\n",
      "S004S\n",
      "S004S\n",
      "S004S\n",
      "S004S\n",
      "S004S\n",
      "S004S\n",
      "S004S\n",
      "S007S\n",
      "S007S\n",
      "S007S\n",
      "S007S\n",
      "S007S\n",
      "S007S\n",
      "S007S\n",
      "S007S\n",
      "S007S\n",
      "S007S\n",
      "S007S\n",
      "S007S\n",
      "S007S\n",
      "S009S\n",
      "S009S\n",
      "S009S\n",
      "S009S\n",
      "S009S\n",
      "S009S\n",
      "S009S\n",
      "S009S\n",
      "S009S\n",
      "S009S\n",
      "S009S\n",
      "S009S\n",
      "S009S\n"
     ]
    }
   ],
   "source": [
    "limits_max = np.zeros(num_of_metrics)\n",
    "limits_min = [10000]*num_of_metrics\n",
    "for i in range(len(names_of_videos)):\n",
    "    for j in range(num_of_metrics):\n",
    "        print(names_of_videos[i])\n",
    "        curr_metric, curr_path = paths_to_csv[names_of_videos[i]][j]\n",
    "        angles = pd.read_csv(curr_path)['angle'].to_list()\n",
    "        angle_max = max(angles)\n",
    "        angle_min = min(angles)\n",
    "        if limits_max[j] < angle_max:\n",
    "            limits_max[j] = angle_max\n",
    "        if limits_min[j] > angle_min:\n",
    "            limits_min[j] = angle_min"
   ],
   "metadata": {
    "collapsed": false,
    "pycharm": {
     "name": "#%%\n"
    }
   }
  },
  {
   "cell_type": "code",
   "execution_count": 53,
   "outputs": [],
   "source": [
    "experiment_suff = \"big_dataset_\""
   ],
   "metadata": {
    "collapsed": false,
    "pycharm": {
     "name": "#%%\n"
    }
   }
  },
  {
   "cell_type": "code",
   "execution_count": 54,
   "outputs": [],
   "source": [
    "def smooth_time_series(time_series, window_size):\n",
    "    smoothed_series = []\n",
    "    for i in range(len(time_series)):\n",
    "        lower_bound = max(0, i - window_size)\n",
    "        upper_bound = min(len(time_series), i + window_size + 1)\n",
    "        window = time_series[lower_bound:upper_bound]\n",
    "        average = sum(window) / len(window)\n",
    "        smoothed_series.append(average)\n",
    "    return smoothed_series"
   ],
   "metadata": {
    "collapsed": false,
    "pycharm": {
     "name": "#%%\n"
    }
   }
  },
  {
   "cell_type": "code",
   "execution_count": 55,
   "outputs": [
    {
     "name": "stdout",
     "output_type": "stream",
     "text": [
      "15\n"
     ]
    }
   ],
   "source": [
    "print(len(names_of_videos))"
   ],
   "metadata": {
    "collapsed": false,
    "pycharm": {
     "name": "#%%\n"
    }
   }
  },
  {
   "cell_type": "code",
   "execution_count": 71,
   "outputs": [],
   "source": [
    "fig, axs = plt.subplots(len(paths_to_csv['S005I']),len(names_of_videos), figsize=(260, 90))\n",
    "#fig, axs = plt.subplots(len(paths_to_csv['S005I'])-1,len(names_of_videos), figsize=(21, 20))\n",
    "#plt.rcParams.update({'font.size': 35})\n",
    "#fig, axs = plt.subplots(8,2, figsize=(45, 25))\n",
    "\n",
    "for i in range(len(names_of_videos)):\n",
    "    for j in range(1,num_of_metrics):\n",
    "    #for j in [0,]:\n",
    "        curr_metric, curr_path = paths_to_csv[names_of_videos[i]][j]\n",
    "        angles = smooth_time_series(pd.read_csv(curr_path)['angle'].to_list(), 10)\n",
    "        ax_row = j\n",
    "        ax_col = i\n",
    "        axs[ax_row][ax_col].plot(angles)\n",
    "        axs[ax_row][ax_col].title.set_text(names_of_videos[i] + \"\\n\" + curr_metric)\n",
    "        #axs[ax_row][ax_col].title.set_text(names_of_videos[i])\n",
    "        axs[ax_row][ax_col].set_yticks(np.arange(limits_min[j], limits_max[j], step=50))\n",
    "\n",
    "\n",
    "plt.tight_layout()\n",
    "plt.savefig(experiment_suff+\"results_consider_angles.png\")\n",
    "plt.close()"
   ],
   "metadata": {
    "collapsed": false,
    "pycharm": {
     "name": "#%%\n"
    }
   }
  },
  {
   "cell_type": "code",
   "execution_count": 17,
   "outputs": [],
   "source": [
    "#ax_row = i%8\n",
    "#if i> 15:\n",
    "#    ax_col = 2\n",
    "#elif i>= 8:\n",
    "#    ax_col=1\n",
    "#else:\n",
    "#    ax_col =0"
   ],
   "metadata": {
    "collapsed": false,
    "pycharm": {
     "name": "#%%\n"
    }
   }
  },
  {
   "cell_type": "markdown",
   "source": [
    "## Results\n",
    "We can see the pattern in the following angle -> rwrist, lshoul, lhip (moving of the bow)"
   ],
   "metadata": {
    "collapsed": false
   }
  },
  {
   "cell_type": "markdown",
   "source": [],
   "metadata": {
    "collapsed": false
   }
  },
  {
   "cell_type": "markdown",
   "source": [
    "# Analyse the moving of the bow"
   ],
   "metadata": {
    "collapsed": false
   }
  },
  {
   "cell_type": "code",
   "execution_count": 12,
   "outputs": [],
   "source": [
    "bow_moving = []\n",
    "titles = []"
   ],
   "metadata": {
    "collapsed": false,
    "pycharm": {
     "name": "#%%\n"
    }
   }
  },
  {
   "cell_type": "code",
   "execution_count": 13,
   "outputs": [
    {
     "data": {
      "text/plain": "15"
     },
     "execution_count": 13,
     "metadata": {},
     "output_type": "execute_result"
    }
   ],
   "source": [
    "len(names_of_videos)"
   ],
   "metadata": {
    "collapsed": false,
    "pycharm": {
     "name": "#%%\n"
    }
   }
  },
  {
   "cell_type": "code",
   "execution_count": 14,
   "outputs": [
    {
     "data": {
      "text/plain": "15"
     },
     "execution_count": 14,
     "metadata": {},
     "output_type": "execute_result"
    }
   ],
   "source": [
    "len(paths_to_csv)"
   ],
   "metadata": {
    "collapsed": false,
    "pycharm": {
     "name": "#%%\n"
    }
   }
  },
  {
   "cell_type": "code",
   "execution_count": 15,
   "outputs": [
    {
     "name": "stdout",
     "output_type": "stream",
     "text": [
      "../../results/big_dataset/TSD_angles\\S001C\\angl_bow_mov.csv\n",
      "angl_bow_mov\n",
      "S001C\n",
      "../../results/big_dataset/TSD_angles\\S002C\\angl_bow_mov.csv\n",
      "angl_bow_mov\n",
      "S002C\n",
      "../../results/big_dataset/TSD_angles\\S007C\\angl_bow_mov.csv\n",
      "angl_bow_mov\n",
      "S007C\n",
      "../../results/big_dataset/TSD_angles\\S008C\\angl_bow_mov.csv\n",
      "angl_bow_mov\n",
      "S008C\n",
      "../../results/big_dataset/TSD_angles\\S009C\\angl_bow_mov.csv\n",
      "angl_bow_mov\n",
      "S009C\n",
      "../../results/big_dataset/TSD_angles\\S002I\\angl_bow_mov.csv\n",
      "angl_bow_mov\n",
      "S002I\n",
      "../../results/big_dataset/TSD_angles\\S003I\\angl_bow_mov.csv\n",
      "angl_bow_mov\n",
      "S003I\n",
      "../../results/big_dataset/TSD_angles\\S005I\\angl_bow_mov.csv\n",
      "angl_bow_mov\n",
      "S005I\n",
      "../../results/big_dataset/TSD_angles\\S007I\\angl_bow_mov.csv\n",
      "angl_bow_mov\n",
      "S007I\n",
      "../../results/big_dataset/TSD_angles\\S009I\\angl_bow_mov.csv\n",
      "angl_bow_mov\n",
      "S009I\n",
      "../../results/big_dataset/TSD_angles\\S001S\\angl_bow_mov.csv\n",
      "angl_bow_mov\n",
      "S001S\n",
      "../../results/big_dataset/TSD_angles\\S002S\\angl_bow_mov.csv\n",
      "angl_bow_mov\n",
      "S002S\n",
      "../../results/big_dataset/TSD_angles\\S004S\\angl_bow_mov.csv\n",
      "angl_bow_mov\n",
      "S004S\n",
      "../../results/big_dataset/TSD_angles\\S007S\\angl_bow_mov.csv\n",
      "angl_bow_mov\n",
      "S007S\n",
      "../../results/big_dataset/TSD_angles\\S009S\\angl_bow_mov.csv\n",
      "angl_bow_mov\n",
      "S009S\n"
     ]
    }
   ],
   "source": [
    "for i in range(len(names_of_videos)):\n",
    "    curr_metric, curr_path = paths_to_csv[names_of_videos[i]][0]\n",
    "    print(curr_path)\n",
    "    print(curr_metric)\n",
    "    title = curr_path.split('/')[-1].split('\\\\')[1]\n",
    "    titles.append(title)\n",
    "    print(title)\n",
    "    angles = pd.read_csv(curr_path)['angle'].to_list()\n",
    "    bow_moving.append(angles)"
   ],
   "metadata": {
    "collapsed": false,
    "pycharm": {
     "name": "#%%\n"
    }
   }
  },
  {
   "cell_type": "code",
   "execution_count": 16,
   "outputs": [
    {
     "name": "stdout",
     "output_type": "stream",
     "text": [
      "15\n",
      "10760\n"
     ]
    }
   ],
   "source": [
    "print(len(bow_moving))\n",
    "print(len(bow_moving[0]))"
   ],
   "metadata": {
    "collapsed": false,
    "pycharm": {
     "name": "#%%\n"
    }
   }
  },
  {
   "cell_type": "code",
   "execution_count": 17,
   "outputs": [],
   "source": [
    "def calculate_sign_change_rate(time_series):\n",
    "    count = 0\n",
    "    for i in range(1, len(time_series)):\n",
    "        if time_series[i] * time_series[i-1] < 0:\n",
    "            count += 1\n",
    "    #sign_change_rate = count / (len(time_series) - 1)\n",
    "    return count\n",
    "\n",
    "def calc_area(values):\n",
    "  values = np.array(values)\n",
    "  indices = np.where(values > 0)[0]\n",
    "  area_pos = np.trapz(values[indices])\n",
    "  indices = np.where(values < 0)[0]\n",
    "  area_neg = np.trapz(values[indices])\n",
    "  return area_pos, area_neg\n",
    "\n",
    "def shift_data(series):\n",
    "  median = statistics.median(series)\n",
    "  shifted_data = [x - median for x in series]\n",
    "  return shifted_data\n"
   ],
   "metadata": {
    "collapsed": false,
    "pycharm": {
     "name": "#%%\n"
    }
   }
  },
  {
   "cell_type": "code",
   "execution_count": 24,
   "outputs": [],
   "source": [
    "\n",
    "def classify_time_series(angl_bow_mov, titles):\n",
    "    num_rows = 8\n",
    "    num_cols = 2\n",
    "    shifted_smooth_series = []\n",
    "    fig, axes = plt.subplots(num_rows, num_cols, figsize=(50, 18))\n",
    "    plt.rcParams['font.size'] = 20\n",
    "    axes = axes.flatten()\n",
    "    sign_change_arr = []\n",
    "    #print(len(angl_bow_mov))\n",
    "    for i, series in enumerate(angl_bow_mov):\n",
    "      smoothed_data = smooth_time_series(series, 15)\n",
    "      #neg_smoothed_data = negate_below_median(smoothed_data)\n",
    "      title = titles[i]\n",
    "      #num_sign_change = calculate_sign_change_rate(neg_smoothed_data)\n",
    "      #print(title, \" \", num_sign_change)\n",
    "\n",
    "      ax = axes[i]\n",
    "        #series = eliminate_lowest_values(series,10)\n",
    "        #average = sum(time_series) / len(time_series)\n",
    "      median = statistics.median(smoothed_data)\n",
    "      #mode = statistics.mode(smoothed_data)\n",
    "      shifted_data = shift_data(smoothed_data)\n",
    "      #shifted_data = smooth_time_series(shifted_data, 15)\n",
    "      ax.axhline(median, color='r', linestyle='--', label='median')\n",
    "      ax.axhline(0, color='g', linestyle='--', label='median')\n",
    "      #smoothed_data = smooth_time_series(series, 10) #np.convolve(series, np.ones(window_size) / window_size, mode='valid')\n",
    "      ax.plot(shifted_data, label='Shifted Data')\n",
    "      ax.plot(smoothed_data, label='Smoothed Data')\n",
    "      #ax.set_title(title)\n",
    "      #ax.legend()\n",
    "      #smooth_series.append(smoothed_data)\n",
    "      s =calculate_sign_change_rate(shifted_data)\n",
    "      a1, a2 = calc_area(shifted_data)\n",
    "      #print(title, s, a1,a2, a1+a2)\n",
    "      sign_change_arr.append(s)\n",
    "      shifted_smooth_series.append(shifted_data)\n",
    "\n",
    "    arr = []\n",
    "\n",
    "    count_false = 0\n",
    "    count_true = 0\n",
    "\n",
    "    mean_len = 0\n",
    "    for v in shifted_smooth_series:\n",
    "        s = calculate_sign_change_rate(v)\n",
    "        arr.append(s)\n",
    "        mean_len+=len(v)\n",
    "\n",
    "    thres = int(statistics.mean(arr))\n",
    "    mean_len /= len(shifted_smooth_series)\n",
    "    thres_norm = int(1000*thres/mean_len)\n",
    "\n",
    "    for i, series in enumerate(shifted_smooth_series):\n",
    "        s = arr[i]\n",
    "        title = titles[i]\n",
    "        ax = axes[i]\n",
    "        s_norm = int(1000*s/len(shifted_smooth_series[i]))\n",
    "\n",
    "        if s_norm > thres_norm:\n",
    "          title += f\" Shuffled - {str('S'==title[-1])}\"\n",
    "        else:\n",
    "          a1, a2 = calc_area(series)\n",
    "          if abs(a2) < a1/2:\n",
    "            title += f\" Inverted - {str('I'==title[-1])}\"\n",
    "          else:\n",
    "            title += f\" Correct - {str('C'==title[-1])}\"\n",
    "\n",
    "        ax.set_title(title)\n",
    "        if 'False' in title:\n",
    "            count_false+=1\n",
    "        else:\n",
    "            count_true+=1\n",
    "\n",
    "    plt.tight_layout()\n",
    "    plt.savefig(experiment_suff+\"ts_classification.png\")\n",
    "    plt.close()\n",
    "    print(f\"------------------- \\n true predictions: {count_true} \\n false predictions: {count_false} \\n\")"
   ],
   "metadata": {
    "collapsed": false,
    "pycharm": {
     "name": "#%%\n"
    }
   }
  },
  {
   "cell_type": "code",
   "execution_count": 25,
   "outputs": [
    {
     "name": "stdout",
     "output_type": "stream",
     "text": [
      "------------------- \n",
      " true predictions: 15 \n",
      " false predictions: 0 \n",
      "\n"
     ]
    }
   ],
   "source": [
    "classify_time_series(bow_moving, titles)"
   ],
   "metadata": {
    "collapsed": false,
    "pycharm": {
     "name": "#%%\n"
    }
   }
  },
  {
   "cell_type": "markdown",
   "source": [
    "# Analysis of feature engineering"
   ],
   "metadata": {
    "collapsed": false
   }
  },
  {
   "cell_type": "code",
   "execution_count": null,
   "outputs": [],
   "source": [
    "names_of_metrics = []\n",
    "for i in range(len(names_of_videos)):\n",
    "    for j in range(num_of_metrics):\n",
    "        curr_metric, curr_path = paths_to_csv[names_of_videos[i]][j]\n",
    "        names_of_metrics.append(curr_metric)\n",
    "    break\n",
    "\n",
    "sample_tsd = pd.read_csv(curr_path)['angle'].to_list()\n",
    "names_metrics_and_features = []\n",
    "for metr in names_of_metrics:\n",
    "    for feature_n in create_feature_dict_from_tsd(sample_tsd).keys():\n",
    "        names_metrics_and_features.append(f\"{metr}_{feature_n}\")"
   ],
   "metadata": {
    "collapsed": false,
    "pycharm": {
     "name": "#%%\n"
    }
   }
  },
  {
   "cell_type": "code",
   "execution_count": null,
   "outputs": [],
   "source": [
    "di_df = {}\n",
    "di_df[\"features_of_metrics\"] = names_metrics_and_features"
   ],
   "metadata": {
    "collapsed": false,
    "pycharm": {
     "name": "#%%\n"
    }
   }
  },
  {
   "cell_type": "code",
   "execution_count": null,
   "outputs": [],
   "source": [
    "for i in range(len(names_of_videos)):\n",
    "    curr_metrics = []\n",
    "    for j in range(num_of_metrics):\n",
    "        curr_metric, curr_path = paths_to_csv[names_of_videos[i]][j]\n",
    "        angles_tsd = pd.read_csv(curr_path)['angle'].to_list()\n",
    "        features_di = create_feature_dict_from_tsd(angles_tsd)\n",
    "        features = list(features_di.values())\n",
    "        curr_metrics.extend(features)\n",
    "    di_df[names_of_videos[i]] = curr_metrics"
   ],
   "metadata": {
    "collapsed": false,
    "pycharm": {
     "name": "#%%\n"
    }
   }
  },
  {
   "cell_type": "code",
   "execution_count": null,
   "outputs": [],
   "source": [
    "df = pd.DataFrame(data=di_df)\n",
    "df.to_csv(\"../../results/TSD_angles/extracted_features.csv\")"
   ],
   "metadata": {
    "collapsed": false,
    "pycharm": {
     "name": "#%%\n"
    }
   }
  },
  {
   "cell_type": "code",
   "execution_count": null,
   "outputs": [],
   "source": [
    "df"
   ],
   "metadata": {
    "collapsed": false,
    "pycharm": {
     "name": "#%%\n"
    }
   }
  },
  {
   "cell_type": "code",
   "execution_count": null,
   "outputs": [],
   "source": [
    "correl = df.corr()"
   ],
   "metadata": {
    "collapsed": false,
    "pycharm": {
     "name": "#%%\n"
    }
   }
  },
  {
   "cell_type": "code",
   "execution_count": null,
   "outputs": [],
   "source": [
    "correl.style.highlight_min(color = 'gray', axis = 1)"
   ],
   "metadata": {
    "collapsed": false,
    "pycharm": {
     "name": "#%%\n"
    }
   }
  },
  {
   "cell_type": "code",
   "execution_count": null,
   "outputs": [],
   "source": [
    "correl_2 = df.drop('S002C', axis=1).corr()"
   ],
   "metadata": {
    "collapsed": false,
    "pycharm": {
     "name": "#%%\n"
    }
   }
  },
  {
   "cell_type": "code",
   "execution_count": null,
   "outputs": [],
   "source": [
    "correl_2.style.highlight_min(color = 'gray', axis = 1)"
   ],
   "metadata": {
    "collapsed": false,
    "pycharm": {
     "name": "#%%\n"
    }
   }
  },
  {
   "cell_type": "code",
   "execution_count": 32,
   "outputs": [],
   "source": [
    "correl_3 = df.drop('S002C', axis=1).drop('S005I', axis=1).corr()"
   ],
   "metadata": {
    "collapsed": false,
    "pycharm": {
     "name": "#%%\n"
    }
   }
  },
  {
   "cell_type": "code",
   "execution_count": 33,
   "outputs": [
    {
     "data": {
      "text/plain": "<pandas.io.formats.style.Styler at 0x1f6528fff08>",
      "text/html": "<style type=\"text/css\">\n#T_9a6dd_row0_col1, #T_9a6dd_row1_col0, #T_9a6dd_row2_col0, #T_9a6dd_row3_col0, #T_9a6dd_row4_col1, #T_9a6dd_row5_col1 {\n  background-color: gray;\n}\n</style>\n<table id=\"T_9a6dd_\">\n  <thead>\n    <tr>\n      <th class=\"blank level0\" >&nbsp;</th>\n      <th class=\"col_heading level0 col0\" >S001C</th>\n      <th class=\"col_heading level0 col1\" >S002I</th>\n      <th class=\"col_heading level0 col2\" >S003I</th>\n      <th class=\"col_heading level0 col3\" >S001S</th>\n      <th class=\"col_heading level0 col4\" >S004S</th>\n      <th class=\"col_heading level0 col5\" >S009S</th>\n    </tr>\n  </thead>\n  <tbody>\n    <tr>\n      <th id=\"T_9a6dd_level0_row0\" class=\"row_heading level0 row0\" >S001C</th>\n      <td id=\"T_9a6dd_row0_col0\" class=\"data row0 col0\" >1.000000</td>\n      <td id=\"T_9a6dd_row0_col1\" class=\"data row0 col1\" >0.975323</td>\n      <td id=\"T_9a6dd_row0_col2\" class=\"data row0 col2\" >0.984160</td>\n      <td id=\"T_9a6dd_row0_col3\" class=\"data row0 col3\" >0.977015</td>\n      <td id=\"T_9a6dd_row0_col4\" class=\"data row0 col4\" >0.997006</td>\n      <td id=\"T_9a6dd_row0_col5\" class=\"data row0 col5\" >0.986382</td>\n    </tr>\n    <tr>\n      <th id=\"T_9a6dd_level0_row1\" class=\"row_heading level0 row1\" >S002I</th>\n      <td id=\"T_9a6dd_row1_col0\" class=\"data row1 col0\" >0.975323</td>\n      <td id=\"T_9a6dd_row1_col1\" class=\"data row1 col1\" >1.000000</td>\n      <td id=\"T_9a6dd_row1_col2\" class=\"data row1 col2\" >0.994115</td>\n      <td id=\"T_9a6dd_row1_col3\" class=\"data row1 col3\" >0.982389</td>\n      <td id=\"T_9a6dd_row1_col4\" class=\"data row1 col4\" >0.982174</td>\n      <td id=\"T_9a6dd_row1_col5\" class=\"data row1 col5\" >0.977898</td>\n    </tr>\n    <tr>\n      <th id=\"T_9a6dd_level0_row2\" class=\"row_heading level0 row2\" >S003I</th>\n      <td id=\"T_9a6dd_row2_col0\" class=\"data row2 col0\" >0.984160</td>\n      <td id=\"T_9a6dd_row2_col1\" class=\"data row2 col1\" >0.994115</td>\n      <td id=\"T_9a6dd_row2_col2\" class=\"data row2 col2\" >1.000000</td>\n      <td id=\"T_9a6dd_row2_col3\" class=\"data row2 col3\" >0.991034</td>\n      <td id=\"T_9a6dd_row2_col4\" class=\"data row2 col4\" >0.990676</td>\n      <td id=\"T_9a6dd_row2_col5\" class=\"data row2 col5\" >0.986786</td>\n    </tr>\n    <tr>\n      <th id=\"T_9a6dd_level0_row3\" class=\"row_heading level0 row3\" >S001S</th>\n      <td id=\"T_9a6dd_row3_col0\" class=\"data row3 col0\" >0.977015</td>\n      <td id=\"T_9a6dd_row3_col1\" class=\"data row3 col1\" >0.982389</td>\n      <td id=\"T_9a6dd_row3_col2\" class=\"data row3 col2\" >0.991034</td>\n      <td id=\"T_9a6dd_row3_col3\" class=\"data row3 col3\" >1.000000</td>\n      <td id=\"T_9a6dd_row3_col4\" class=\"data row3 col4\" >0.987413</td>\n      <td id=\"T_9a6dd_row3_col5\" class=\"data row3 col5\" >0.982940</td>\n    </tr>\n    <tr>\n      <th id=\"T_9a6dd_level0_row4\" class=\"row_heading level0 row4\" >S004S</th>\n      <td id=\"T_9a6dd_row4_col0\" class=\"data row4 col0\" >0.997006</td>\n      <td id=\"T_9a6dd_row4_col1\" class=\"data row4 col1\" >0.982174</td>\n      <td id=\"T_9a6dd_row4_col2\" class=\"data row4 col2\" >0.990676</td>\n      <td id=\"T_9a6dd_row4_col3\" class=\"data row4 col3\" >0.987413</td>\n      <td id=\"T_9a6dd_row4_col4\" class=\"data row4 col4\" >1.000000</td>\n      <td id=\"T_9a6dd_row4_col5\" class=\"data row4 col5\" >0.986990</td>\n    </tr>\n    <tr>\n      <th id=\"T_9a6dd_level0_row5\" class=\"row_heading level0 row5\" >S009S</th>\n      <td id=\"T_9a6dd_row5_col0\" class=\"data row5 col0\" >0.986382</td>\n      <td id=\"T_9a6dd_row5_col1\" class=\"data row5 col1\" >0.977898</td>\n      <td id=\"T_9a6dd_row5_col2\" class=\"data row5 col2\" >0.986786</td>\n      <td id=\"T_9a6dd_row5_col3\" class=\"data row5 col3\" >0.982940</td>\n      <td id=\"T_9a6dd_row5_col4\" class=\"data row5 col4\" >0.986990</td>\n      <td id=\"T_9a6dd_row5_col5\" class=\"data row5 col5\" >1.000000</td>\n    </tr>\n  </tbody>\n</table>\n"
     },
     "execution_count": 33,
     "metadata": {},
     "output_type": "execute_result"
    }
   ],
   "source": [
    "correl_3.style.highlight_min(color = 'gray', axis = 1)"
   ],
   "metadata": {
    "collapsed": false,
    "pycharm": {
     "name": "#%%\n"
    }
   }
  },
  {
   "cell_type": "code",
   "execution_count": null,
   "outputs": [],
   "source": [],
   "metadata": {
    "collapsed": false,
    "pycharm": {
     "name": "#%%\n"
    }
   }
  }
 ],
 "metadata": {
  "kernelspec": {
   "display_name": "Python 3",
   "language": "python",
   "name": "python3"
  },
  "language_info": {
   "codemirror_mode": {
    "name": "ipython",
    "version": 2
   },
   "file_extension": ".py",
   "mimetype": "text/x-python",
   "name": "python",
   "nbconvert_exporter": "python",
   "pygments_lexer": "ipython2",
   "version": "2.7.6"
  }
 },
 "nbformat": 4,
 "nbformat_minor": 0
}